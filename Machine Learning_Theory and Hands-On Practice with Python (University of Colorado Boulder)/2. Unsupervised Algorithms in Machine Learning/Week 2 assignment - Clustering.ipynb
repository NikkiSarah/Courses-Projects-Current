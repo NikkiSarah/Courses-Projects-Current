{
 "cells": [
  {
   "cell_type": "markdown",
   "metadata": {
    "deletable": false,
    "editable": false,
    "nbgrader": {
     "cell_type": "markdown",
     "checksum": "556d9673a40cef731438819650b4afeb",
     "grade": false,
     "grade_id": "cell-3fab386f48bbd974",
     "locked": true,
     "schema_version": 3,
     "solution": false,
     "task": false
    }
   },
   "source": [
    "### Grading\n",
    "This week's lab doesn't have any auto-graded components. Each question in this notebook has an accompanying Peer Review question. Although the lab shows as being ungraded, you need to complete the notebook to answer the Peer Review questions. <br>\n",
    "**DO NOT CHANGE VARIABLE OR METHOD SIGNATURES** "
   ]
  },
  {
   "cell_type": "markdown",
   "metadata": {
    "deletable": false,
    "editable": false,
    "nbgrader": {
     "cell_type": "markdown",
     "checksum": "19ae55b356f0ad3dfda48f3cb99dddb9",
     "grade": false,
     "grade_id": "cell-9488ace019b4c835",
     "locked": true,
     "schema_version": 3,
     "solution": false,
     "task": false
    }
   },
   "source": [
    "### Validate Button\n",
    "This week's lab doesn't have any auto-graded components. Each question in this notebook has an accompanying Peer Review question. Although the lab shows as being ungraded, you need to complete the notebook to answer the Peer Review questions. \n",
    "\n",
    "You do not need to use the Validate button for this lab since there are no auto-graded components. If you hit the Validate button, it will time out given the number of visualizations in the notebook. Cells with longer execution times cause the validate button to time out and freeze. ***This notebook's Validate button time-out does not affect the final submission grading.*** "
   ]
  },
  {
   "cell_type": "markdown",
   "metadata": {
    "deletable": false,
    "editable": false,
    "id": "local-marketing",
    "nbgrader": {
     "cell_type": "markdown",
     "checksum": "412c0fbff4d9e5401141ed5f953ba132",
     "grade": false,
     "grade_id": "cell-539bfe3db5c0f774",
     "locked": true,
     "schema_version": 3,
     "solution": false,
     "task": false
    }
   },
   "source": [
    "# Clustering RNA sequences to identify cancer types\n",
    "\n",
    "In this assignment, we will use clustering algorithms on RNA sequence data to identify cancer types.\n",
    "Since the [whole data](https://www.synapse.org/#!Synapse:syn4301332) (from [Cancer Genome Atlas Pan-Cancer project](https://www.ncbi.nlm.nih.gov/pmc/articles/PMC3919969/)) is very big, we will use a [subset data from UCI Machine Learning repository](https://archive.ics.uci.edu/ml/datasets/gene+expression+cancer+RNA-Seq#). The subset data contains only 5 labels; BRCA, KIRC, COAD, LUAD and PRAD. The meanings of those labels are as below.\n",
    "\n",
    "|Abbreviation|Cancer|\n",
    "|:----:|:-------:|\n",
    "|LUSC|Lung squamous cell carcinoma |\n",
    "|READ |Rectum adenocarcinoma |\n",
    "|GBM |Glioblastoma multiforme|\n",
    "|BLCA |Bladder Urothelial Carcinoma|\n",
    "|UCEC |Uterine Corpus Endometrioid Carcinoma|\n",
    "|COAD |Colon adenocarcinoma|\n",
    "|OV |Ovarian serous cystadenocarcinoma|\n",
    "|LAML |Acute Myeloid Leukemia|\n",
    "|HNSC |Head and Neck squamous cell carcinoma|\n",
    "|LUAD |Lung adenocarcinoma|\n",
    "|BRCA |Breast invasive carcinoma|\n",
    "|KIRC |Kidney renal clear cell carcinoma|\n",
    "\n",
    "Although we can use the data for supervised learning model training, we will not use these labels for training, but use them for evaluation."
   ]
  },
  {
   "cell_type": "code",
   "execution_count": 1,
   "metadata": {
    "deletable": false,
    "editable": false,
    "id": "ordered-pasta",
    "nbgrader": {
     "cell_type": "code",
     "checksum": "deb30e3992bd6264bc0999a631f4f249",
     "grade": false,
     "grade_id": "cell-aae50706a878da7b",
     "locked": true,
     "schema_version": 3,
     "solution": false,
     "task": false
    }
   },
   "outputs": [],
   "source": [
    "import pandas as pd\n",
    "import matplotlib.pyplot as plt\n",
    "import numpy as np\n",
    "from sklearn.cluster import AgglomerativeClustering, KMeans\n",
    "from sklearn.metrics import accuracy_score, confusion_matrix\n",
    "import time"
   ]
  },
  {
   "cell_type": "code",
   "execution_count": 2,
   "metadata": {
    "deletable": false,
    "editable": false,
    "id": "forbidden-patrol",
    "nbgrader": {
     "cell_type": "code",
     "checksum": "7d54524a953add3d7536b6f813e910b6",
     "grade": false,
     "grade_id": "cell-0349e5e5a7302cd2",
     "locked": true,
     "schema_version": 3,
     "solution": false,
     "task": false
    }
   },
   "outputs": [],
   "source": [
    "# Read data. Do not change the variable names (data, label)\n",
    "data = pd.read_csv('data/data.csv')\n",
    "label = pd.read_csv('data/labels.csv')\n",
    "data=data.drop('Unnamed: 0',axis=1)\n",
    "label=label.drop('Unnamed: 0',axis=1)"
   ]
  },
  {
   "cell_type": "markdown",
   "metadata": {
    "deletable": false,
    "editable": false,
    "id": "universal-consultancy",
    "nbgrader": {
     "cell_type": "markdown",
     "checksum": "70fad3bc72f0de4ef37faa39dbc1aca1",
     "grade": false,
     "grade_id": "cell-a2791930798cf4eb",
     "locked": true,
     "schema_version": 3,
     "solution": false,
     "task": false
    }
   },
   "source": [
    "### A. [Peer Review] Perform basic data inspection or EDA on the pandas dataframe.\n",
    "- How many observations?\n",
    "- How many features?"
   ]
  },
  {
   "cell_type": "code",
   "execution_count": 3,
   "metadata": {
    "deletable": false,
    "nbgrader": {
     "cell_type": "code",
     "checksum": "3b9a724c90825ae8d7bc9a7d59a37620",
     "grade": false,
     "grade_id": "cell-2958c08df1714546",
     "locked": false,
     "schema_version": 3,
     "solution": true,
     "task": false
    }
   },
   "outputs": [
    {
     "data": {
      "text/html": [
       "<div>\n",
       "<style scoped>\n",
       "    .dataframe tbody tr th:only-of-type {\n",
       "        vertical-align: middle;\n",
       "    }\n",
       "\n",
       "    .dataframe tbody tr th {\n",
       "        vertical-align: top;\n",
       "    }\n",
       "\n",
       "    .dataframe thead th {\n",
       "        text-align: right;\n",
       "    }\n",
       "</style>\n",
       "<table border=\"1\" class=\"dataframe\">\n",
       "  <thead>\n",
       "    <tr style=\"text-align: right;\">\n",
       "      <th></th>\n",
       "      <th>gene_0</th>\n",
       "      <th>gene_1</th>\n",
       "      <th>gene_2</th>\n",
       "      <th>gene_3</th>\n",
       "      <th>gene_4</th>\n",
       "      <th>gene_5</th>\n",
       "      <th>gene_6</th>\n",
       "      <th>gene_7</th>\n",
       "      <th>gene_8</th>\n",
       "      <th>gene_9</th>\n",
       "      <th>...</th>\n",
       "      <th>gene_20521</th>\n",
       "      <th>gene_20522</th>\n",
       "      <th>gene_20523</th>\n",
       "      <th>gene_20524</th>\n",
       "      <th>gene_20525</th>\n",
       "      <th>gene_20526</th>\n",
       "      <th>gene_20527</th>\n",
       "      <th>gene_20528</th>\n",
       "      <th>gene_20529</th>\n",
       "      <th>gene_20530</th>\n",
       "    </tr>\n",
       "  </thead>\n",
       "  <tbody>\n",
       "    <tr>\n",
       "      <th>796</th>\n",
       "      <td>0.0</td>\n",
       "      <td>1.865642</td>\n",
       "      <td>2.718197</td>\n",
       "      <td>7.350099</td>\n",
       "      <td>10.006003</td>\n",
       "      <td>0.0</td>\n",
       "      <td>6.764792</td>\n",
       "      <td>0.496922</td>\n",
       "      <td>0.0</td>\n",
       "      <td>0.0</td>\n",
       "      <td>...</td>\n",
       "      <td>6.088133</td>\n",
       "      <td>9.118313</td>\n",
       "      <td>10.004852</td>\n",
       "      <td>4.484415</td>\n",
       "      <td>9.614701</td>\n",
       "      <td>12.031267</td>\n",
       "      <td>9.813063</td>\n",
       "      <td>10.092770</td>\n",
       "      <td>8.819269</td>\n",
       "      <td>0.000000</td>\n",
       "    </tr>\n",
       "    <tr>\n",
       "      <th>797</th>\n",
       "      <td>0.0</td>\n",
       "      <td>3.942955</td>\n",
       "      <td>4.453807</td>\n",
       "      <td>6.346597</td>\n",
       "      <td>10.056868</td>\n",
       "      <td>0.0</td>\n",
       "      <td>7.320331</td>\n",
       "      <td>0.000000</td>\n",
       "      <td>0.0</td>\n",
       "      <td>0.0</td>\n",
       "      <td>...</td>\n",
       "      <td>6.371876</td>\n",
       "      <td>9.623335</td>\n",
       "      <td>9.823921</td>\n",
       "      <td>6.555327</td>\n",
       "      <td>9.064002</td>\n",
       "      <td>11.633422</td>\n",
       "      <td>10.317266</td>\n",
       "      <td>8.745983</td>\n",
       "      <td>9.659081</td>\n",
       "      <td>0.000000</td>\n",
       "    </tr>\n",
       "    <tr>\n",
       "      <th>798</th>\n",
       "      <td>0.0</td>\n",
       "      <td>3.249582</td>\n",
       "      <td>3.707492</td>\n",
       "      <td>8.185901</td>\n",
       "      <td>9.504082</td>\n",
       "      <td>0.0</td>\n",
       "      <td>7.536589</td>\n",
       "      <td>1.811101</td>\n",
       "      <td>0.0</td>\n",
       "      <td>0.0</td>\n",
       "      <td>...</td>\n",
       "      <td>5.719386</td>\n",
       "      <td>8.610704</td>\n",
       "      <td>10.485517</td>\n",
       "      <td>3.589763</td>\n",
       "      <td>9.350636</td>\n",
       "      <td>12.180944</td>\n",
       "      <td>10.681194</td>\n",
       "      <td>9.466711</td>\n",
       "      <td>4.677458</td>\n",
       "      <td>0.586693</td>\n",
       "    </tr>\n",
       "    <tr>\n",
       "      <th>799</th>\n",
       "      <td>0.0</td>\n",
       "      <td>2.590339</td>\n",
       "      <td>2.787976</td>\n",
       "      <td>7.318624</td>\n",
       "      <td>9.987136</td>\n",
       "      <td>0.0</td>\n",
       "      <td>9.213464</td>\n",
       "      <td>0.000000</td>\n",
       "      <td>0.0</td>\n",
       "      <td>0.0</td>\n",
       "      <td>...</td>\n",
       "      <td>5.785237</td>\n",
       "      <td>8.605387</td>\n",
       "      <td>11.004677</td>\n",
       "      <td>4.745888</td>\n",
       "      <td>9.626383</td>\n",
       "      <td>11.198279</td>\n",
       "      <td>10.335513</td>\n",
       "      <td>10.400581</td>\n",
       "      <td>5.718751</td>\n",
       "      <td>0.000000</td>\n",
       "    </tr>\n",
       "    <tr>\n",
       "      <th>800</th>\n",
       "      <td>0.0</td>\n",
       "      <td>2.325242</td>\n",
       "      <td>3.805932</td>\n",
       "      <td>6.530246</td>\n",
       "      <td>9.560367</td>\n",
       "      <td>0.0</td>\n",
       "      <td>7.957027</td>\n",
       "      <td>0.000000</td>\n",
       "      <td>0.0</td>\n",
       "      <td>0.0</td>\n",
       "      <td>...</td>\n",
       "      <td>6.403075</td>\n",
       "      <td>8.594354</td>\n",
       "      <td>10.243079</td>\n",
       "      <td>9.139459</td>\n",
       "      <td>10.102934</td>\n",
       "      <td>11.641081</td>\n",
       "      <td>10.607358</td>\n",
       "      <td>9.844794</td>\n",
       "      <td>4.550716</td>\n",
       "      <td>0.000000</td>\n",
       "    </tr>\n",
       "  </tbody>\n",
       "</table>\n",
       "<p>5 rows × 20531 columns</p>\n",
       "</div>"
      ],
      "text/plain": [
       "     gene_0    gene_1    gene_2    gene_3     gene_4  gene_5    gene_6  \\\n",
       "796     0.0  1.865642  2.718197  7.350099  10.006003     0.0  6.764792   \n",
       "797     0.0  3.942955  4.453807  6.346597  10.056868     0.0  7.320331   \n",
       "798     0.0  3.249582  3.707492  8.185901   9.504082     0.0  7.536589   \n",
       "799     0.0  2.590339  2.787976  7.318624   9.987136     0.0  9.213464   \n",
       "800     0.0  2.325242  3.805932  6.530246   9.560367     0.0  7.957027   \n",
       "\n",
       "       gene_7  gene_8  gene_9  ...  gene_20521  gene_20522  gene_20523  \\\n",
       "796  0.496922     0.0     0.0  ...    6.088133    9.118313   10.004852   \n",
       "797  0.000000     0.0     0.0  ...    6.371876    9.623335    9.823921   \n",
       "798  1.811101     0.0     0.0  ...    5.719386    8.610704   10.485517   \n",
       "799  0.000000     0.0     0.0  ...    5.785237    8.605387   11.004677   \n",
       "800  0.000000     0.0     0.0  ...    6.403075    8.594354   10.243079   \n",
       "\n",
       "     gene_20524  gene_20525  gene_20526  gene_20527  gene_20528  gene_20529  \\\n",
       "796    4.484415    9.614701   12.031267    9.813063   10.092770    8.819269   \n",
       "797    6.555327    9.064002   11.633422   10.317266    8.745983    9.659081   \n",
       "798    3.589763    9.350636   12.180944   10.681194    9.466711    4.677458   \n",
       "799    4.745888    9.626383   11.198279   10.335513   10.400581    5.718751   \n",
       "800    9.139459   10.102934   11.641081   10.607358    9.844794    4.550716   \n",
       "\n",
       "     gene_20530  \n",
       "796    0.000000  \n",
       "797    0.000000  \n",
       "798    0.586693  \n",
       "799    0.000000  \n",
       "800    0.000000  \n",
       "\n",
       "[5 rows x 20531 columns]"
      ]
     },
     "execution_count": 3,
     "metadata": {},
     "output_type": "execute_result"
    }
   ],
   "source": [
    "# perform basic data inspection such as getting the number of observations and number of features\n",
    "data.tail()"
   ]
  },
  {
   "cell_type": "code",
   "execution_count": 4,
   "metadata": {},
   "outputs": [
    {
     "data": {
      "text/plain": [
       "0"
      ]
     },
     "execution_count": 4,
     "metadata": {},
     "output_type": "execute_result"
    }
   ],
   "source": [
    "# any missing values?\n",
    "data.isnull().sum().sum()"
   ]
  },
  {
   "cell_type": "code",
   "execution_count": 5,
   "metadata": {},
   "outputs": [
    {
     "data": {
      "text/html": [
       "<div>\n",
       "<style scoped>\n",
       "    .dataframe tbody tr th:only-of-type {\n",
       "        vertical-align: middle;\n",
       "    }\n",
       "\n",
       "    .dataframe tbody tr th {\n",
       "        vertical-align: top;\n",
       "    }\n",
       "\n",
       "    .dataframe thead th {\n",
       "        text-align: right;\n",
       "    }\n",
       "</style>\n",
       "<table border=\"1\" class=\"dataframe\">\n",
       "  <thead>\n",
       "    <tr style=\"text-align: right;\">\n",
       "      <th></th>\n",
       "      <th>gene_0</th>\n",
       "      <th>gene_1</th>\n",
       "      <th>gene_2</th>\n",
       "      <th>gene_3</th>\n",
       "      <th>gene_4</th>\n",
       "      <th>gene_5</th>\n",
       "      <th>gene_6</th>\n",
       "      <th>gene_7</th>\n",
       "      <th>gene_8</th>\n",
       "      <th>gene_9</th>\n",
       "      <th>...</th>\n",
       "      <th>gene_20521</th>\n",
       "      <th>gene_20522</th>\n",
       "      <th>gene_20523</th>\n",
       "      <th>gene_20524</th>\n",
       "      <th>gene_20525</th>\n",
       "      <th>gene_20526</th>\n",
       "      <th>gene_20527</th>\n",
       "      <th>gene_20528</th>\n",
       "      <th>gene_20529</th>\n",
       "      <th>gene_20530</th>\n",
       "    </tr>\n",
       "  </thead>\n",
       "  <tbody>\n",
       "    <tr>\n",
       "      <th>count</th>\n",
       "      <td>801.000000</td>\n",
       "      <td>801.000000</td>\n",
       "      <td>801.000000</td>\n",
       "      <td>801.000000</td>\n",
       "      <td>801.000000</td>\n",
       "      <td>801.0</td>\n",
       "      <td>801.000000</td>\n",
       "      <td>801.000000</td>\n",
       "      <td>801.000000</td>\n",
       "      <td>801.000000</td>\n",
       "      <td>...</td>\n",
       "      <td>801.000000</td>\n",
       "      <td>801.000000</td>\n",
       "      <td>801.000000</td>\n",
       "      <td>801.000000</td>\n",
       "      <td>801.000000</td>\n",
       "      <td>801.000000</td>\n",
       "      <td>801.000000</td>\n",
       "      <td>801.000000</td>\n",
       "      <td>801.000000</td>\n",
       "      <td>801.000000</td>\n",
       "    </tr>\n",
       "    <tr>\n",
       "      <th>mean</th>\n",
       "      <td>0.026642</td>\n",
       "      <td>3.010909</td>\n",
       "      <td>3.095350</td>\n",
       "      <td>6.722305</td>\n",
       "      <td>9.813612</td>\n",
       "      <td>0.0</td>\n",
       "      <td>7.405509</td>\n",
       "      <td>0.499882</td>\n",
       "      <td>0.016744</td>\n",
       "      <td>0.013428</td>\n",
       "      <td>...</td>\n",
       "      <td>5.896573</td>\n",
       "      <td>8.765891</td>\n",
       "      <td>10.056252</td>\n",
       "      <td>4.847727</td>\n",
       "      <td>9.741987</td>\n",
       "      <td>11.742228</td>\n",
       "      <td>10.155271</td>\n",
       "      <td>9.590726</td>\n",
       "      <td>5.528177</td>\n",
       "      <td>0.095411</td>\n",
       "    </tr>\n",
       "    <tr>\n",
       "      <th>std</th>\n",
       "      <td>0.136850</td>\n",
       "      <td>1.200828</td>\n",
       "      <td>1.065601</td>\n",
       "      <td>0.638819</td>\n",
       "      <td>0.506537</td>\n",
       "      <td>0.0</td>\n",
       "      <td>1.108237</td>\n",
       "      <td>0.508799</td>\n",
       "      <td>0.133635</td>\n",
       "      <td>0.204722</td>\n",
       "      <td>...</td>\n",
       "      <td>0.746399</td>\n",
       "      <td>0.603176</td>\n",
       "      <td>0.379278</td>\n",
       "      <td>2.382728</td>\n",
       "      <td>0.533898</td>\n",
       "      <td>0.670371</td>\n",
       "      <td>0.580569</td>\n",
       "      <td>0.563849</td>\n",
       "      <td>2.073859</td>\n",
       "      <td>0.364529</td>\n",
       "    </tr>\n",
       "    <tr>\n",
       "      <th>min</th>\n",
       "      <td>0.000000</td>\n",
       "      <td>0.000000</td>\n",
       "      <td>0.000000</td>\n",
       "      <td>5.009284</td>\n",
       "      <td>8.435999</td>\n",
       "      <td>0.0</td>\n",
       "      <td>3.930747</td>\n",
       "      <td>0.000000</td>\n",
       "      <td>0.000000</td>\n",
       "      <td>0.000000</td>\n",
       "      <td>...</td>\n",
       "      <td>2.853517</td>\n",
       "      <td>6.678368</td>\n",
       "      <td>8.669456</td>\n",
       "      <td>0.000000</td>\n",
       "      <td>7.974942</td>\n",
       "      <td>9.045255</td>\n",
       "      <td>7.530141</td>\n",
       "      <td>7.864533</td>\n",
       "      <td>0.593975</td>\n",
       "      <td>0.000000</td>\n",
       "    </tr>\n",
       "    <tr>\n",
       "      <th>25%</th>\n",
       "      <td>0.000000</td>\n",
       "      <td>2.299039</td>\n",
       "      <td>2.390365</td>\n",
       "      <td>6.303346</td>\n",
       "      <td>9.464466</td>\n",
       "      <td>0.0</td>\n",
       "      <td>6.676042</td>\n",
       "      <td>0.000000</td>\n",
       "      <td>0.000000</td>\n",
       "      <td>0.000000</td>\n",
       "      <td>...</td>\n",
       "      <td>5.454926</td>\n",
       "      <td>8.383834</td>\n",
       "      <td>9.826027</td>\n",
       "      <td>3.130750</td>\n",
       "      <td>9.400747</td>\n",
       "      <td>11.315857</td>\n",
       "      <td>9.836525</td>\n",
       "      <td>9.244219</td>\n",
       "      <td>4.092385</td>\n",
       "      <td>0.000000</td>\n",
       "    </tr>\n",
       "    <tr>\n",
       "      <th>50%</th>\n",
       "      <td>0.000000</td>\n",
       "      <td>3.143687</td>\n",
       "      <td>3.127006</td>\n",
       "      <td>6.655893</td>\n",
       "      <td>9.791599</td>\n",
       "      <td>0.0</td>\n",
       "      <td>7.450114</td>\n",
       "      <td>0.443076</td>\n",
       "      <td>0.000000</td>\n",
       "      <td>0.000000</td>\n",
       "      <td>...</td>\n",
       "      <td>5.972582</td>\n",
       "      <td>8.784144</td>\n",
       "      <td>10.066385</td>\n",
       "      <td>5.444935</td>\n",
       "      <td>9.784524</td>\n",
       "      <td>11.749802</td>\n",
       "      <td>10.191207</td>\n",
       "      <td>9.566511</td>\n",
       "      <td>5.218618</td>\n",
       "      <td>0.000000</td>\n",
       "    </tr>\n",
       "    <tr>\n",
       "      <th>75%</th>\n",
       "      <td>0.000000</td>\n",
       "      <td>3.883484</td>\n",
       "      <td>3.802534</td>\n",
       "      <td>7.038447</td>\n",
       "      <td>10.142324</td>\n",
       "      <td>0.0</td>\n",
       "      <td>8.121984</td>\n",
       "      <td>0.789354</td>\n",
       "      <td>0.000000</td>\n",
       "      <td>0.000000</td>\n",
       "      <td>...</td>\n",
       "      <td>6.411292</td>\n",
       "      <td>9.147136</td>\n",
       "      <td>10.299025</td>\n",
       "      <td>6.637412</td>\n",
       "      <td>10.082269</td>\n",
       "      <td>12.177852</td>\n",
       "      <td>10.578561</td>\n",
       "      <td>9.917888</td>\n",
       "      <td>6.876382</td>\n",
       "      <td>0.000000</td>\n",
       "    </tr>\n",
       "    <tr>\n",
       "      <th>max</th>\n",
       "      <td>1.482332</td>\n",
       "      <td>6.237034</td>\n",
       "      <td>6.063484</td>\n",
       "      <td>10.129528</td>\n",
       "      <td>11.355621</td>\n",
       "      <td>0.0</td>\n",
       "      <td>10.718190</td>\n",
       "      <td>2.779008</td>\n",
       "      <td>1.785592</td>\n",
       "      <td>4.067604</td>\n",
       "      <td>...</td>\n",
       "      <td>7.771054</td>\n",
       "      <td>11.105431</td>\n",
       "      <td>11.318243</td>\n",
       "      <td>9.207495</td>\n",
       "      <td>11.811632</td>\n",
       "      <td>13.715361</td>\n",
       "      <td>11.675653</td>\n",
       "      <td>12.813320</td>\n",
       "      <td>11.205836</td>\n",
       "      <td>5.254133</td>\n",
       "    </tr>\n",
       "  </tbody>\n",
       "</table>\n",
       "<p>8 rows × 20531 columns</p>\n",
       "</div>"
      ],
      "text/plain": [
       "           gene_0      gene_1      gene_2      gene_3      gene_4  gene_5  \\\n",
       "count  801.000000  801.000000  801.000000  801.000000  801.000000   801.0   \n",
       "mean     0.026642    3.010909    3.095350    6.722305    9.813612     0.0   \n",
       "std      0.136850    1.200828    1.065601    0.638819    0.506537     0.0   \n",
       "min      0.000000    0.000000    0.000000    5.009284    8.435999     0.0   \n",
       "25%      0.000000    2.299039    2.390365    6.303346    9.464466     0.0   \n",
       "50%      0.000000    3.143687    3.127006    6.655893    9.791599     0.0   \n",
       "75%      0.000000    3.883484    3.802534    7.038447   10.142324     0.0   \n",
       "max      1.482332    6.237034    6.063484   10.129528   11.355621     0.0   \n",
       "\n",
       "           gene_6      gene_7      gene_8      gene_9  ...  gene_20521  \\\n",
       "count  801.000000  801.000000  801.000000  801.000000  ...  801.000000   \n",
       "mean     7.405509    0.499882    0.016744    0.013428  ...    5.896573   \n",
       "std      1.108237    0.508799    0.133635    0.204722  ...    0.746399   \n",
       "min      3.930747    0.000000    0.000000    0.000000  ...    2.853517   \n",
       "25%      6.676042    0.000000    0.000000    0.000000  ...    5.454926   \n",
       "50%      7.450114    0.443076    0.000000    0.000000  ...    5.972582   \n",
       "75%      8.121984    0.789354    0.000000    0.000000  ...    6.411292   \n",
       "max     10.718190    2.779008    1.785592    4.067604  ...    7.771054   \n",
       "\n",
       "       gene_20522  gene_20523  gene_20524  gene_20525  gene_20526  gene_20527  \\\n",
       "count  801.000000  801.000000  801.000000  801.000000  801.000000  801.000000   \n",
       "mean     8.765891   10.056252    4.847727    9.741987   11.742228   10.155271   \n",
       "std      0.603176    0.379278    2.382728    0.533898    0.670371    0.580569   \n",
       "min      6.678368    8.669456    0.000000    7.974942    9.045255    7.530141   \n",
       "25%      8.383834    9.826027    3.130750    9.400747   11.315857    9.836525   \n",
       "50%      8.784144   10.066385    5.444935    9.784524   11.749802   10.191207   \n",
       "75%      9.147136   10.299025    6.637412   10.082269   12.177852   10.578561   \n",
       "max     11.105431   11.318243    9.207495   11.811632   13.715361   11.675653   \n",
       "\n",
       "       gene_20528  gene_20529  gene_20530  \n",
       "count  801.000000  801.000000  801.000000  \n",
       "mean     9.590726    5.528177    0.095411  \n",
       "std      0.563849    2.073859    0.364529  \n",
       "min      7.864533    0.593975    0.000000  \n",
       "25%      9.244219    4.092385    0.000000  \n",
       "50%      9.566511    5.218618    0.000000  \n",
       "75%      9.917888    6.876382    0.000000  \n",
       "max     12.813320   11.205836    5.254133  \n",
       "\n",
       "[8 rows x 20531 columns]"
      ]
     },
     "execution_count": 5,
     "metadata": {},
     "output_type": "execute_result"
    }
   ],
   "source": [
    "data.describe()"
   ]
  },
  {
   "cell_type": "code",
   "execution_count": 6,
   "metadata": {},
   "outputs": [
    {
     "name": "stdout",
     "output_type": "stream",
     "text": [
      "<class 'pandas.core.frame.DataFrame'>\n",
      "RangeIndex: 801 entries, 0 to 800\n",
      "Data columns (total 1 columns):\n",
      " #   Column  Non-Null Count  Dtype \n",
      "---  ------  --------------  ----- \n",
      " 0   Class   801 non-null    object\n",
      "dtypes: object(1)\n",
      "memory usage: 6.4+ KB\n"
     ]
    }
   ],
   "source": [
    "label.info()"
   ]
  },
  {
   "cell_type": "code",
   "execution_count": 7,
   "metadata": {},
   "outputs": [
    {
     "data": {
      "text/plain": [
       "BRCA    300\n",
       "KIRC    146\n",
       "LUAD    141\n",
       "PRAD    136\n",
       "COAD     78\n",
       "Name: Class, dtype: int64"
      ]
     },
     "execution_count": 7,
     "metadata": {},
     "output_type": "execute_result"
    }
   ],
   "source": [
    "# what's the actual distribution of the class labels?\n",
    "label.Class.value_counts()"
   ]
  },
  {
   "cell_type": "markdown",
   "metadata": {
    "deletable": false,
    "editable": false,
    "nbgrader": {
     "cell_type": "markdown",
     "checksum": "65492cc771478d0c9c26f1a73857843a",
     "grade": false,
     "grade_id": "cell-bde1524da0e9a63f",
     "locked": true,
     "schema_version": 3,
     "solution": false,
     "task": false
    }
   },
   "source": [
    "- Draw histograms of mean, max and min values in each feature. You may see numbers around 0-20. What do those numbers mean? (We do not expect students to know or figure out the meanings, but if you do know by chance, feel free to discuss them with the class on the discussion board.) <br>\n",
    "Answer the Peer Review question about this section. "
   ]
  },
  {
   "cell_type": "code",
   "execution_count": 8,
   "metadata": {
    "deletable": false,
    "nbgrader": {
     "cell_type": "code",
     "checksum": "b4abf73a9c24337560f0e0557bb0f7df",
     "grade": false,
     "grade_id": "cell-dcce43bb9bf942c0",
     "locked": false,
     "schema_version": 3,
     "solution": true,
     "task": false
    },
    "scrolled": false
   },
   "outputs": [
    {
     "data": {
      "image/png": "[encoded data removed]",
      "text/plain": [
       "<Figure size 1080x360 with 3 Axes>"
      ]
     },
     "metadata": {
      "needs_background": "light"
     },
     "output_type": "display_data"
    }
   ],
   "source": [
    "# draw histograms of mean, max and min values in each feature\n",
    "\n",
    "# I like seaborn better than plain matplotlib\n",
    "import seaborn as sns\n",
    "\n",
    "# get the mean, max and min values of each feature\n",
    "data_agg = data.agg(['mean', 'max', 'min'])\n",
    "data_agg.reset_index(inplace=True, drop=False)\n",
    "# convert into a long format\n",
    "data_agg = pd.wide_to_long(data_agg, stubnames='gene_', i='index', j='feature').reset_index()\n",
    "data_agg.columns = ['stat', 'gene', 'value']\n",
    "\n",
    "stats = data_agg.stat.unique()\n",
    "fig, axs = plt.subplots(1, 3, figsize=(15,5))\n",
    "\n",
    "for i, stat in enumerate(stats):\n",
    "    plot_data = data_agg.loc[data_agg.stat == stat, :]\n",
    "    f = sns.distplot(plot_data['value'], kde=False, ax=axs[i])\n",
    "    axs[i].set_title(stat)\n",
    "    sns.despine();"
   ]
  },
  {
   "cell_type": "markdown",
   "metadata": {
    "deletable": false,
    "editable": false,
    "nbgrader": {
     "cell_type": "markdown",
     "checksum": "f10e915af8708dc8de4c6a2a8ca51108",
     "grade": false,
     "grade_id": "cell-6736f47726a243e7",
     "locked": true,
     "schema_version": 3,
     "solution": false,
     "task": false
    }
   },
   "source": [
    "- If we were to train a \"supervised\" learning model, how would you deal with such large feature dimension? \n",
    "- Even after feature dimension reduction, still the number of useful features may be enormous. How it would impact performance or runtime of certain supervised learning algorithms? Which algorithms would suffer from high dimension features than others and why? \n",
    "- How it would impact performance or runtime of an unsupervised learning algorithm?\n",
    "- Draw histograms of mean, max and min values in each feature. You may see numbers around 0-20. What those numbers mean? (We do not expect students to know or figure out the meanings, but if you do know by chance, feel free to discuss them with the class on the discussion board.) <br> <br>\n",
    "Anwer these questions in this week's Peer Review assignment. "
   ]
  },
  {
   "cell_type": "markdown",
   "metadata": {},
   "source": [
    "1. If I was training a supervised model and didn't want to see what happened if I used the dataset as is, I could try using principal components analysis or something equivalent to reduce the number of dimensions and use those uncorrelated features in the model. I could also use domain knowledge or call on subject-matter experts to determine if there were a core subset of genes that could be used instead of the entire set. If all else failed, I could use try a tree-based model with heavy feature sub-sampling.\n",
    "\n",
    "2. The higher the dimensionality of a dataset, irrespective of whether it's a large number of features, large number of cases or both, the longer any machine learning model takes to train and tune. However, some are more affected than others. Algorithms more sensitive to high feature dimensionality include:\n",
    "    - k-nearest neighbours because its a lazy algorithm that calculates distances between data points so more features means an exponential increase in the number of distance calculations\n",
    "    - decision tree ensembles like random forests and boosted tres because multiple trees are trained, which can be particularly computationally expensive when those trees have many branches and nodes\n",
    "    - support vector machines because the optimisation problem they solve is more complex as the number of features increases\n",
    "    \n",
    "3. Similarly, higher dimension datasets also affect the performance and runtime of unsupervised training algorithms.\n",
    "\n",
    "    - these algorithms often rely on performing calculations, transformations or distances between datapoints, so more datapoints means increased runtimes and memory requirements\n",
    "    - sparsity also increases, which can lead to poor algorithm performance as they struggle to find meaningful patterns or clusters in the data\n",
    "    \n",
    "4. See above for the plots of the distribution of mean, max and min values."
   ]
  },
  {
   "cell_type": "markdown",
   "metadata": {
    "deletable": false,
    "editable": false,
    "nbgrader": {
     "cell_type": "markdown",
     "checksum": "36d2fc3f5b54ad32960f5d4ae52f2100",
     "grade": false,
     "grade_id": "cell-f89786ce6c22a413",
     "locked": true,
     "schema_version": 3,
     "solution": false,
     "task": false
    }
   },
   "source": [
    "### B. [Peer Review] Build a hierarchical clustering model\n",
    "Let's build a model using hierarchical clustering. Hierarchical clustering module is available from `sklearn.cluster.AgglomerativeClustering`. You can choose linkage type and metric. Please check its documentation for more details."
   ]
  },
  {
   "cell_type": "markdown",
   "metadata": {
    "deletable": false,
    "editable": false,
    "nbgrader": {
     "cell_type": "markdown",
     "checksum": "944b291a4ed47f6acd91034c448514b9",
     "grade": false,
     "grade_id": "cell-20bd5000b96709cd",
     "locked": true,
     "schema_version": 3,
     "solution": false,
     "task": false
    }
   },
   "source": [
    "**a) Number of clusters vs distance threshold**\n",
    "Oftentimes hierarchical clustering does not need to know the number of clusters in advance. Instead, one needs to choose threshold distance/similarity to cut the dendrogram later. The AgglomerativeClustering module lets you specify either the number of clusters (n_clusters) or the threshold (distance_threshold). Based on our data, which should we choose to set to which value and why? <br> <br>\n",
    "Answer this question in the Peer Review assignment. "
   ]
  },
  {
   "cell_type": "markdown",
   "metadata": {},
   "source": [
    "We should choose to set the number of clusters because we know how many we should have (5). If we didn't have the true labels and there were no pre-conceived hypotheses about the number of clusters that should be present then the distance threshold maybe a better choice."
   ]
  },
  {
   "cell_type": "markdown",
   "metadata": {
    "deletable": false,
    "editable": false,
    "nbgrader": {
     "cell_type": "markdown",
     "checksum": "479da534d14157edc6cab3a8c6dce4b6",
     "grade": false,
     "grade_id": "cell-1dcb3a4ab605373a",
     "locked": true,
     "schema_version": 3,
     "solution": false,
     "task": false
    }
   },
   "source": [
    "#### b) Guess which metric?\n",
    "Can you guess which metric to use (distance-based vs. similarity-based) and why? \n",
    "This question is not graded, but we encourage you to share your thoughts with the class. See the ungraded discussion prompt for this week's material. "
   ]
  },
  {
   "cell_type": "markdown",
   "metadata": {},
   "source": [
    "I think a distance-based metric as all the feature variables are numeric and the values represent the expression levels of genes, which inherently have a natural notion of distance or dissimilarity. If the underlying data was gene expression changes, then a similarity metric would be more appropriate."
   ]
  },
  {
   "cell_type": "markdown",
   "metadata": {
    "deletable": false,
    "editable": false,
    "nbgrader": {
     "cell_type": "markdown",
     "checksum": "e2681cdcd943f508b334d717be6461f4",
     "grade": false,
     "grade_id": "cell-3bdcbf312ff9cbef",
     "locked": true,
     "schema_version": 3,
     "solution": false,
     "task": false
    }
   },
   "source": [
    "#### c) Build a model\n",
    "Build a model using n_clusters=5 option. Choose any metric and linkage type at first. Display the clustering result labels (you can just print out the result). Do not change the variable (model) name. Answer the question about this section in the Peer Review."
   ]
  },
  {
   "cell_type": "code",
   "execution_count": 9,
   "metadata": {
    "deletable": false,
    "nbgrader": {
     "cell_type": "code",
     "checksum": "7a026cf9b5831deeb187d3b6279c2cbd",
     "grade": false,
     "grade_id": "cell-a182891914c1787d",
     "locked": false,
     "schema_version": 3,
     "solution": true,
     "task": false
    }
   },
   "outputs": [],
   "source": [
    "# build a model using n_clusters=5 option\n",
    "model=None\n",
    "# use the default options (linkage='ward', and metric='euclidean')\n",
    "model = AgglomerativeClustering(n_clusters=5)\n",
    "model.fit(data)\n",
    "labels_pred = model.labels_"
   ]
  },
  {
   "cell_type": "markdown",
   "metadata": {
    "deletable": false,
    "editable": false,
    "nbgrader": {
     "cell_type": "markdown",
     "checksum": "fa88212d918a8521a87412958a95f3ef",
     "grade": false,
     "grade_id": "cell-14da739b5647db81",
     "locked": true,
     "schema_version": 3,
     "solution": false,
     "task": false
    }
   },
   "source": [
    "#### d) Label permuation\n",
    "In clustering, the labels get assigned randomly, so the label numbering won't match the ground truth necessarily. Write a function below to find best matching label ordering based on the accuracy. Do not change the variable names. Answer the question about this section in the Peer Review. "
   ]
  },
  {
   "cell_type": "code",
   "execution_count": 10,
   "metadata": {
    "deletable": false,
    "nbgrader": {
     "cell_type": "code",
     "checksum": "f47665d2983a53c6a92c098e5070fc63",
     "grade": false,
     "grade_id": "cell-82b20e00978bc5e6",
     "locked": false,
     "schema_version": 3,
     "solution": true,
     "task": false
    }
   },
   "outputs": [],
   "source": [
    "import itertools\n",
    "\n",
    "def label_permute_compare(ytdf, yp, n=5):\n",
    "    \"\"\"\n",
    "    ytdf: labels dataframe object\n",
    "    yp: clustering label prediction output\n",
    "    Returns permuted label order and accuracy. \n",
    "    Example output: (3, 4, 1, 2, 0), 0.74 \n",
    "    \"\"\"\n",
    "    # generate all the possible permutations of the predicted labels\n",
    "    all_permutations = list(itertools.permutations(set(yp)))\n",
    "    # extract the true labels from the dataframe\n",
    "    true_labels = ytdf.Class\n",
    "\n",
    "    best_acc = 0\n",
    "    best_mapping = None\n",
    "    best_permutation = None\n",
    "\n",
    "    # in each permutation\n",
    "    for permutation in all_permutations:\n",
    "        # pair each true label with a number \n",
    "        mapping = dict(zip(set(true_labels), permutation))\n",
    "        # recode the true labels according to the mapping\n",
    "        recoded_labels = [mapping[label] for label in true_labels]\n",
    "        # calculate the accuracy\n",
    "        acc = accuracy_score(recoded_labels, yp)\n",
    "\n",
    "        # find the permutation/mapping with the highest accuracy score\n",
    "        if acc > best_acc:\n",
    "            best_acc = acc\n",
    "            best_mapping = mapping\n",
    "            best_permutation = permutation\n",
    "\n",
    "    return best_permutation, best_acc"
   ]
  },
  {
   "cell_type": "code",
   "execution_count": 11,
   "metadata": {
    "deletable": false,
    "editable": false,
    "nbgrader": {
     "cell_type": "code",
     "checksum": "cf8892a7991eab729501b9f12fa11ae1",
     "grade": false,
     "grade_id": "cell-e59b3dddfdc36871",
     "locked": true,
     "schema_version": 3,
     "solution": false,
     "task": false
    }
   },
   "outputs": [
    {
     "name": "stdout",
     "output_type": "stream",
     "text": [
      "(3, 0, 2, 1, 4) 0.9950062421972534\n"
     ]
    }
   ],
   "source": [
    "labelorder, acc = label_permute_compare(label, model.labels_)\n",
    "print(labelorder, acc)"
   ]
  },
  {
   "cell_type": "markdown",
   "metadata": {
    "deletable": false,
    "editable": false,
    "nbgrader": {
     "cell_type": "markdown",
     "checksum": "246f7bd7bd4cacc06d3d8e7b0811e06b",
     "grade": false,
     "grade_id": "cell-2dee0f590af15ca1",
     "locked": true,
     "schema_version": 3,
     "solution": false,
     "task": false
    }
   },
   "source": [
    "#### e) Check confusion matrix\n",
    "Use sklearn's confusion matrix and display the results. Answer the Peer Review question about this section.  "
   ]
  },
  {
   "cell_type": "code",
   "execution_count": 12,
   "metadata": {
    "deletable": false,
    "nbgrader": {
     "cell_type": "code",
     "checksum": "7db659d69e66d44725a24b1f90796541",
     "grade": false,
     "grade_id": "cell-b7fe98331f7b544f",
     "locked": false,
     "schema_version": 3,
     "solution": true,
     "task": false
    }
   },
   "outputs": [
    {
     "data": {
      "text/plain": [
       "array([[299,   0,   0,   1,   0],\n",
       "       [  0, 146,   0,   0,   0],\n",
       "       [  0,   0, 136,   0,   0],\n",
       "       [  2,   0,   0, 139,   0],\n",
       "       [  0,   0,   0,   1,  77]])"
      ]
     },
     "execution_count": 12,
     "metadata": {},
     "output_type": "execute_result"
    }
   ],
   "source": [
    "# display confusion matrix here\n",
    "mapping = dict(zip(set(label.Class), labelorder))\n",
    "recoded_labels = [mapping[label] for label in label.Class]\n",
    "\n",
    "conf_mat = confusion_matrix(recoded_labels, model.labels_)\n",
    "conf_mat"
   ]
  },
  {
   "cell_type": "markdown",
   "metadata": {
    "deletable": false,
    "editable": false,
    "nbgrader": {
     "cell_type": "markdown",
     "checksum": "49b995d1748051a814f09ae8878096cd",
     "grade": false,
     "grade_id": "cell-b51181ebab84b037",
     "locked": true,
     "schema_version": 3,
     "solution": false,
     "task": false
    }
   },
   "source": [
    "#### f) Change linkage method and distance metric. Which ones lead the best performance? Print out the accuracy and confusion matrix for the best model.\n",
    "<br> Answer the Peer Review questions about this section. "
   ]
  },
  {
   "cell_type": "code",
   "execution_count": 34,
   "metadata": {
    "deletable": false,
    "nbgrader": {
     "cell_type": "code",
     "checksum": "a13e0521cb941ebbe96ef06b0f48bf8c",
     "grade": false,
     "grade_id": "cell-03953f78e5852c9a",
     "locked": false,
     "schema_version": 3,
     "solution": true,
     "task": false
    }
   },
   "outputs": [
    {
     "name": "stdout",
     "output_type": "stream",
     "text": [
      "Best overall\n",
      "AgglomerativeClustering(affinity='euclidean', compute_full_tree='auto',\n",
      "                        connectivity=None, distance_threshold=None,\n",
      "                        linkage='complete', memory=None, n_clusters=5)\n",
      "Model accuracy:  0.9313358302122348\n",
      "Model confusion matrix:\n",
      "[[146   0   0   0   0]\n",
      " [  0 271   7  22   0]\n",
      " [  0   0  55  23   0]\n",
      " [  0   2   0 139   0]\n",
      " [  0   1   0   0 135]]\n"
     ]
    }
   ],
   "source": [
    "# programmatically evaluate which linkage method and distance metric lead to the best performance\n",
    "# distances (affinity) available are: 'euclidean', 'l1', 'l2', 'manhattan', 'cosine', 'cityblock'\n",
    "# linkages available are: 'ward', 'complete', 'average', 'single'\n",
    "\n",
    "# generate all possible permutations of affinity and linkage (excluding ward)\n",
    "linkages = ['complete', 'average', 'single']\n",
    "distances = ['euclidean', 'l1', 'l2', 'manhattan', 'cosine', 'cityblock']\n",
    "permutations = itertools.product(distances, linkages)\n",
    "\n",
    "best_acc = 0\n",
    "best_model = None\n",
    "best_conf_mat = None\n",
    "\n",
    "models = []\n",
    "distances = []\n",
    "linkages = []\n",
    "scores = []\n",
    "\n",
    "for permutation in permutations:\n",
    "    # fit the model to each combination of distance and linkage methods\n",
    "    model = AgglomerativeClustering(n_clusters=5, affinity=permutation[0], linkage=permutation[1])\n",
    "    model.fit(data)\n",
    "    # generate the model predictions\n",
    "    labels_pred = model.labels_\n",
    "    \n",
    "    # find the true label permutation with the highest accuracy\n",
    "    labelorder, acc = label_permute_compare(label, labels_pred)\n",
    "\n",
    "    # generate the confusion matrix\n",
    "    mapping = dict(zip(set(label.Class), labelorder))\n",
    "    recoded_labels = [mapping[label] for label in label.Class]\n",
    "    conf_mat = confusion_matrix(recoded_labels, labels_pred)\n",
    "    \n",
    "    # find the model with the best accuracy\n",
    "    if acc > best_acc:\n",
    "        best_acc = acc\n",
    "        best_model = model\n",
    "        best_conf_mat = conf_mat\n",
    "    \n",
    "    models.append(model)\n",
    "    distances.append(model.affinity)\n",
    "    linkages.append(model.linkage)\n",
    "    scores.append(acc)\n",
    "        \n",
    "print('Best overall')\n",
    "print(best_model)\n",
    "print('Model accuracy: ', best_acc)\n",
    "print('Model confusion matrix:')\n",
    "print(best_conf_mat)"
   ]
  },
  {
   "cell_type": "code",
   "execution_count": 35,
   "metadata": {},
   "outputs": [
    {
     "data": {
      "text/html": [
       "<div>\n",
       "<style scoped>\n",
       "    .dataframe tbody tr th:only-of-type {\n",
       "        vertical-align: middle;\n",
       "    }\n",
       "\n",
       "    .dataframe tbody tr th {\n",
       "        vertical-align: top;\n",
       "    }\n",
       "\n",
       "    .dataframe thead th {\n",
       "        text-align: right;\n",
       "    }\n",
       "</style>\n",
       "<table border=\"1\" class=\"dataframe\">\n",
       "  <thead>\n",
       "    <tr style=\"text-align: right;\">\n",
       "      <th></th>\n",
       "      <th>model</th>\n",
       "      <th>distance</th>\n",
       "      <th>linkage</th>\n",
       "      <th>accuracy</th>\n",
       "    </tr>\n",
       "  </thead>\n",
       "  <tbody>\n",
       "    <tr>\n",
       "      <th>0</th>\n",
       "      <td>AgglomerativeClustering(affinity='euclidean', ...</td>\n",
       "      <td>euclidean</td>\n",
       "      <td>complete</td>\n",
       "      <td>0.931336</td>\n",
       "    </tr>\n",
       "    <tr>\n",
       "      <th>6</th>\n",
       "      <td>AgglomerativeClustering(affinity='l2', compute...</td>\n",
       "      <td>l2</td>\n",
       "      <td>complete</td>\n",
       "      <td>0.931336</td>\n",
       "    </tr>\n",
       "    <tr>\n",
       "      <th>12</th>\n",
       "      <td>AgglomerativeClustering(affinity='cosine', com...</td>\n",
       "      <td>cosine</td>\n",
       "      <td>complete</td>\n",
       "      <td>0.740325</td>\n",
       "    </tr>\n",
       "    <tr>\n",
       "      <th>15</th>\n",
       "      <td>AgglomerativeClustering(affinity='cityblock', ...</td>\n",
       "      <td>cityblock</td>\n",
       "      <td>complete</td>\n",
       "      <td>0.722846</td>\n",
       "    </tr>\n",
       "    <tr>\n",
       "      <th>9</th>\n",
       "      <td>AgglomerativeClustering(affinity='manhattan', ...</td>\n",
       "      <td>manhattan</td>\n",
       "      <td>complete</td>\n",
       "      <td>0.722846</td>\n",
       "    </tr>\n",
       "    <tr>\n",
       "      <th>3</th>\n",
       "      <td>AgglomerativeClustering(affinity='l1', compute...</td>\n",
       "      <td>l1</td>\n",
       "      <td>complete</td>\n",
       "      <td>0.722846</td>\n",
       "    </tr>\n",
       "    <tr>\n",
       "      <th>8</th>\n",
       "      <td>AgglomerativeClustering(affinity='l2', compute...</td>\n",
       "      <td>l2</td>\n",
       "      <td>single</td>\n",
       "      <td>0.375780</td>\n",
       "    </tr>\n",
       "    <tr>\n",
       "      <th>14</th>\n",
       "      <td>AgglomerativeClustering(affinity='cosine', com...</td>\n",
       "      <td>cosine</td>\n",
       "      <td>single</td>\n",
       "      <td>0.375780</td>\n",
       "    </tr>\n",
       "    <tr>\n",
       "      <th>2</th>\n",
       "      <td>AgglomerativeClustering(affinity='euclidean', ...</td>\n",
       "      <td>euclidean</td>\n",
       "      <td>single</td>\n",
       "      <td>0.375780</td>\n",
       "    </tr>\n",
       "    <tr>\n",
       "      <th>5</th>\n",
       "      <td>AgglomerativeClustering(affinity='l1', compute...</td>\n",
       "      <td>l1</td>\n",
       "      <td>single</td>\n",
       "      <td>0.374532</td>\n",
       "    </tr>\n",
       "    <tr>\n",
       "      <th>11</th>\n",
       "      <td>AgglomerativeClustering(affinity='manhattan', ...</td>\n",
       "      <td>manhattan</td>\n",
       "      <td>single</td>\n",
       "      <td>0.374532</td>\n",
       "    </tr>\n",
       "    <tr>\n",
       "      <th>17</th>\n",
       "      <td>AgglomerativeClustering(affinity='cityblock', ...</td>\n",
       "      <td>cityblock</td>\n",
       "      <td>single</td>\n",
       "      <td>0.374532</td>\n",
       "    </tr>\n",
       "    <tr>\n",
       "      <th>4</th>\n",
       "      <td>AgglomerativeClustering(affinity='l1', compute...</td>\n",
       "      <td>l1</td>\n",
       "      <td>average</td>\n",
       "      <td>0.365793</td>\n",
       "    </tr>\n",
       "    <tr>\n",
       "      <th>10</th>\n",
       "      <td>AgglomerativeClustering(affinity='manhattan', ...</td>\n",
       "      <td>manhattan</td>\n",
       "      <td>average</td>\n",
       "      <td>0.365793</td>\n",
       "    </tr>\n",
       "    <tr>\n",
       "      <th>16</th>\n",
       "      <td>AgglomerativeClustering(affinity='cityblock', ...</td>\n",
       "      <td>cityblock</td>\n",
       "      <td>average</td>\n",
       "      <td>0.365793</td>\n",
       "    </tr>\n",
       "    <tr>\n",
       "      <th>7</th>\n",
       "      <td>AgglomerativeClustering(affinity='l2', compute...</td>\n",
       "      <td>l2</td>\n",
       "      <td>average</td>\n",
       "      <td>0.364544</td>\n",
       "    </tr>\n",
       "    <tr>\n",
       "      <th>1</th>\n",
       "      <td>AgglomerativeClustering(affinity='euclidean', ...</td>\n",
       "      <td>euclidean</td>\n",
       "      <td>average</td>\n",
       "      <td>0.364544</td>\n",
       "    </tr>\n",
       "    <tr>\n",
       "      <th>13</th>\n",
       "      <td>AgglomerativeClustering(affinity='cosine', com...</td>\n",
       "      <td>cosine</td>\n",
       "      <td>average</td>\n",
       "      <td>0.364544</td>\n",
       "    </tr>\n",
       "  </tbody>\n",
       "</table>\n",
       "</div>"
      ],
      "text/plain": [
       "                                                model   distance   linkage  \\\n",
       "0   AgglomerativeClustering(affinity='euclidean', ...  euclidean  complete   \n",
       "6   AgglomerativeClustering(affinity='l2', compute...         l2  complete   \n",
       "12  AgglomerativeClustering(affinity='cosine', com...     cosine  complete   \n",
       "15  AgglomerativeClustering(affinity='cityblock', ...  cityblock  complete   \n",
       "9   AgglomerativeClustering(affinity='manhattan', ...  manhattan  complete   \n",
       "3   AgglomerativeClustering(affinity='l1', compute...         l1  complete   \n",
       "8   AgglomerativeClustering(affinity='l2', compute...         l2    single   \n",
       "14  AgglomerativeClustering(affinity='cosine', com...     cosine    single   \n",
       "2   AgglomerativeClustering(affinity='euclidean', ...  euclidean    single   \n",
       "5   AgglomerativeClustering(affinity='l1', compute...         l1    single   \n",
       "11  AgglomerativeClustering(affinity='manhattan', ...  manhattan    single   \n",
       "17  AgglomerativeClustering(affinity='cityblock', ...  cityblock    single   \n",
       "4   AgglomerativeClustering(affinity='l1', compute...         l1   average   \n",
       "10  AgglomerativeClustering(affinity='manhattan', ...  manhattan   average   \n",
       "16  AgglomerativeClustering(affinity='cityblock', ...  cityblock   average   \n",
       "7   AgglomerativeClustering(affinity='l2', compute...         l2   average   \n",
       "1   AgglomerativeClustering(affinity='euclidean', ...  euclidean   average   \n",
       "13  AgglomerativeClustering(affinity='cosine', com...     cosine   average   \n",
       "\n",
       "    accuracy  \n",
       "0   0.931336  \n",
       "6   0.931336  \n",
       "12  0.740325  \n",
       "15  0.722846  \n",
       "9   0.722846  \n",
       "3   0.722846  \n",
       "8   0.375780  \n",
       "14  0.375780  \n",
       "2   0.375780  \n",
       "5   0.374532  \n",
       "11  0.374532  \n",
       "17  0.374532  \n",
       "4   0.365793  \n",
       "10  0.365793  \n",
       "16  0.365793  \n",
       "7   0.364544  \n",
       "1   0.364544  \n",
       "13  0.364544  "
      ]
     },
     "execution_count": 35,
     "metadata": {},
     "output_type": "execute_result"
    }
   ],
   "source": [
    "results = pd.DataFrame(data={'model': models, 'distance': distances, 'linkage': linkages, 'accuracy': scores})\n",
    "results.sort_values('accuracy', ascending=False, inplace=True)\n",
    "results"
   ]
  },
  {
   "cell_type": "markdown",
   "metadata": {},
   "source": [
    "The scikit-learn implementation has 'ward', 'complete', 'average', and 'single' as the possible linkage methods. Similarly, the distance metrics possible are 'euclidean', 'l1', 'l2', 'manhattan', 'cosine' and 'cityblock'. The 'ward' linkage method was dropped as it can only be used with euclidean distance, which was the first model tried. Apart from that, every single unique pair of linkage and distance methods were tried and the accuracy calculated to determine the best-performing model.\n",
    "\n",
    "The best-performing models (there were two with the exact same accuracy of 0.931336 to 5 decimal places) used a complete linkage method and either a euclidean distance or l1 distance method. All the other models using complete linkage were next, but accuracy dropped to 0.72 to 0.74. Both single linkage and average linkage models performed poorly.\n",
    "\n",
    "In a confusion matrix, the true labels are the rows and the predicted labels are the columns. Also, in this case note that the classes are in different orders; that is, class 5 in the first confusion matrix is class 3 in this confusion matrix. Either way, the main difference between this confusion matrix and the first one is that the complete linkage algorithm made many more incorrect predictions for two of the classes than the first one."
   ]
  },
  {
   "cell_type": "markdown",
   "metadata": {
    "deletable": false,
    "editable": false,
    "nbgrader": {
     "cell_type": "markdown",
     "checksum": "9eeef63c833a862a824bd957b4569d81",
     "grade": false,
     "grade_id": "cell-6cd5993178e6f606",
     "locked": true,
     "schema_version": 3,
     "solution": false,
     "task": false
    }
   },
   "source": [
    "### C. What about k-means clustering?\n",
    "Can we apply kmeans clustering on this data? Which clustering methods give a better performance? Is kmeans faster or slower?"
   ]
  },
  {
   "cell_type": "code",
   "execution_count": 14,
   "metadata": {},
   "outputs": [
    {
     "name": "stdout",
     "output_type": "stream",
     "text": [
      "Model accuracy: 0.99501\n",
      "Run time:  5.9454 seconds\n"
     ]
    }
   ],
   "source": [
    "# check how long a hierarchical clustering algorithm takes\n",
    "start_time = time.time()\n",
    "model = AgglomerativeClustering(n_clusters=5)\n",
    "model.fit(data)\n",
    "labels_pred = model.labels_\n",
    "\n",
    "labelorder, acc = label_permute_compare(label, model.labels_)\n",
    "print(\"Model accuracy:\", round(acc, 5))\n",
    "run_time = time.time() - start_time\n",
    "print(\"Run time: \", round(run_time, 4), \"seconds\")"
   ]
  },
  {
   "cell_type": "code",
   "execution_count": 15,
   "metadata": {
    "deletable": false,
    "nbgrader": {
     "cell_type": "code",
     "checksum": "ff50d6cc5b9fbf0fface11dad35bfaba",
     "grade": false,
     "grade_id": "cell-2f77201b65ef6a7a",
     "locked": false,
     "schema_version": 3,
     "solution": true,
     "task": false
    }
   },
   "outputs": [
    {
     "name": "stdout",
     "output_type": "stream",
     "text": [
      "Model accuracy: 0.99251\n",
      "Run time:  9.1011 seconds\n"
     ]
    }
   ],
   "source": [
    "# try to apply kmeans clustering on this data\n",
    "# time kmeans to compare to hierarchical clustering \n",
    "# your code here\n",
    "start_time = time.time()\n",
    "model = KMeans(n_clusters=5)\n",
    "model.fit(data)\n",
    "labels_pred = model.labels_\n",
    "\n",
    "labelorder, acc = label_permute_compare(label, model.labels_)\n",
    "print(\"Model accuracy:\", round(acc, 5))\n",
    "run_time = time.time() - start_time\n",
    "print(\"Run time: \", round(run_time, 4), \"seconds\")"
   ]
  },
  {
   "cell_type": "markdown",
   "metadata": {},
   "source": [
    "Yes, there is no reason why the K-Means clustering algorithm cannot be used on this data. The k-means algorithm with 5 clusters achieved an accuracy of 0.9925, which is very respectable and only slightly lower than the best performing hierarchical clustering model (0.9950). However, hierarchical clustering was faster at about 5.9 seconds compared to the 9.1 seconds the k-means model took."
   ]
  },
  {
   "cell_type": "code",
   "execution_count": null,
   "metadata": {},
   "outputs": [],
   "source": []
  }
 ],
 "metadata": {
  "colab": {
   "name": "HW2-clustering.ipynb",
   "provenance": []
  },
  "kernelspec": {
   "display_name": "Python 3",
   "language": "python",
   "name": "python3"
  },
  "language_info": {
   "codemirror_mode": {
    "name": "ipython",
    "version": 3
   },
   "file_extension": ".py",
   "mimetype": "text/x-python",
   "name": "python",
   "nbconvert_exporter": "python",
   "pygments_lexer": "ipython3",
   "version": "3.7.6"
  }
 },
 "nbformat": 4,
 "nbformat_minor": 5
}
