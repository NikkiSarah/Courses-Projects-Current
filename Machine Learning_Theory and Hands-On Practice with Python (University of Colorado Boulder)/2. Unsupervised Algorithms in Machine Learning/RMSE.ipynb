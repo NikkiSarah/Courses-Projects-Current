{
 "cells": [
  {
   "cell_type": "markdown",
   "metadata": {
    "id": "z-OFSPjQ76LO"
   },
   "source": [
    "# Preparation"
   ]
  },
  {
   "cell_type": "code",
   "execution_count": 1,
   "metadata": {
    "id": "zv24W9kE6Ekj"
   },
   "outputs": [],
   "source": [
    "import shutil\n",
    "shutil.unpack_archive('/content/Files (8).zip')"
   ]
  },
  {
   "cell_type": "code",
   "execution_count": 2,
   "metadata": {
    "colab": {
     "base_uri": "https://localhost:8080/"
    },
    "id": "V51KZwousjR5",
    "outputId": "5b580606-3567-4de0-d61b-8e488edb3df4"
   },
   "outputs": [
    {
     "name": "stdout",
     "output_type": "stream",
     "text": [
      "Index(['mID', 'title', 'year', 'Doc', 'Com', 'Hor', 'Adv', 'Wes', 'Dra', 'Ani',\n",
      "       'War', 'Chi', 'Cri', 'Thr', 'Sci', 'Mys', 'Rom', 'Fil', 'Fan', 'Act',\n",
      "       'Mus'],\n",
      "      dtype='object')\n"
     ]
    }
   ],
   "source": [
    "import pandas as pd\n",
    "movies = pd.read_csv('/content/Files/movies.csv')\n",
    "print(movies.columns)"
   ]
  },
  {
   "cell_type": "code",
   "execution_count": 3,
   "metadata": {
    "colab": {
     "base_uri": "https://localhost:8080/"
    },
    "id": "jyDRd2BOtP9o",
    "outputId": "b463ff4e-a726-431e-860d-07bbb036cb86"
   },
   "outputs": [
    {
     "name": "stdout",
     "output_type": "stream",
     "text": [
      "Index(['uID', 'gender', 'age', 'accupation', 'zip'], dtype='object')\n"
     ]
    }
   ],
   "source": [
    "users = pd.read_csv('/content/Files/users.csv')\n",
    "print(users.columns)"
   ]
  },
  {
   "cell_type": "markdown",
   "metadata": {
    "id": "qikfFQeCvT1U"
   },
   "source": [
    "## Load Train and Test Data"
   ]
  },
  {
   "cell_type": "code",
   "execution_count": 4,
   "metadata": {
    "id": "1-DmA5sjthV3"
   },
   "outputs": [],
   "source": [
    "# Load train and test data\n",
    "train_data = pd.read_csv('/content/Files/train.csv')\n",
    "test_data = pd.read_csv('/content/Files/test.csv')"
   ]
  },
  {
   "cell_type": "markdown",
   "metadata": {
    "id": "F75d4PzSvs8S"
   },
   "source": [
    "## Combine Data\n",
    "Combine the 'movies', 'users', 'train_data', and 'test_data' dataframes to create a unified dataframe that includes information about users, movies, and their ratings."
   ]
  },
  {
   "cell_type": "code",
   "execution_count": 5,
   "metadata": {
    "id": "yG4n3_blv3AE"
   },
   "outputs": [],
   "source": [
    "# Merge movies and train_data on 'mID'\n",
    "train_data = pd.merge(train_data, movies, on='mID', how='left')\n",
    "\n",
    "# Merge users and train_data on 'uID'\n",
    "train_data = pd.merge(train_data, users, on='uID', how='left')\n",
    "\n",
    "# Merge movies and test_data on 'mID'\n",
    "test_data = pd.merge(test_data, movies, on='mID', how='left')\n",
    "\n",
    "# Merge users and test_data on 'uID'\n",
    "test_data = pd.merge(test_data, users, on='uID', how='left')\n"
   ]
  },
  {
   "cell_type": "markdown",
   "metadata": {
    "id": "-z814JVfwAKG"
   },
   "source": [
    "## Create User-Item Matrix\n",
    "Create a user-item matrix where rows represent users, columns represent movies, and the values represent ratings. This matrix will be used for matrix factorization."
   ]
  },
  {
   "cell_type": "code",
   "execution_count": 6,
   "metadata": {
    "id": "93i9jqh6v6ru"
   },
   "outputs": [],
   "source": [
    "# Create user-item matrix for training data\n",
    "user_item_matrix_train = train_data.pivot(index='uID', columns='mID', values='rating').fillna(0)\n",
    "\n",
    "# Create user-item matrix for test data\n",
    "user_item_matrix_test = test_data.pivot(index='uID', columns='mID', values='rating').fillna(0)\n"
   ]
  },
  {
   "cell_type": "markdown",
   "metadata": {
    "id": "ag8qdDtqwRKY"
   },
   "source": [
    "## Apply Matrix Factorization"
   ]
  },
  {
   "cell_type": "code",
   "execution_count": 8,
   "metadata": {
    "colab": {
     "base_uri": "https://localhost:8080/"
    },
    "id": "G_hn7kObwPG2",
    "outputId": "b7f06004-4308-4d84-b08e-7775fca7533e"
   },
   "outputs": [
    {
     "name": "stdout",
     "output_type": "stream",
     "text": [
      "RMSE for Test Data: 3.4997546920962517\n"
     ]
    }
   ],
   "source": [
    "from sklearn.decomposition import NMF\n",
    "from sklearn.metrics import mean_squared_error\n",
    "from math import sqrt\n",
    "import numpy as np\n",
    "import warnings\n",
    "warnings.filterwarnings('ignore')\n",
    "# Specify the number of latent factors\n",
    "n_latent_factors = 10\n",
    "\n",
    "# Initialize NMF model\n",
    "nmf_model = NMF(n_components=n_latent_factors, init='random', random_state=42)\n",
    "#nmf_model = NMF(n_components=n_latent_factors, init='random', max_iter=300, random_state=42)\n",
    "\n",
    "# Fit the model to the user-item matrix for training data\n",
    "W_train = nmf_model.fit_transform(user_item_matrix_train)\n",
    "H_train = nmf_model.components_\n",
    "\n",
    "# Predict the missing values in the user-item matrix for test data\n",
    "predicted_ratings_test = np.dot(W_train, H_train)\n",
    "\n",
    "# Get the non-zero elements for both predicted and actual arrays\n",
    "nonzero_indices_test_rows, nonzero_indices_test_cols = np.where(user_item_matrix_test.values != 0)\n",
    "predicted_ratings_nonzero_test = predicted_ratings_test[nonzero_indices_test_rows, nonzero_indices_test_cols]\n",
    "actual_ratings_nonzero_test = user_item_matrix_test.values[nonzero_indices_test_rows, nonzero_indices_test_cols]\n",
    "\n",
    "# Flatten the matrices for comparison\n",
    "predicted_ratings_nonzero_test_flattened = predicted_ratings_nonzero_test.flatten()\n",
    "actual_ratings_nonzero_test_flattened = actual_ratings_nonzero_test.flatten()\n",
    "\n",
    "# Calculate RMSE for test data\n",
    "rmse_test = sqrt(mean_squared_error(actual_ratings_nonzero_test_flattened, predicted_ratings_nonzero_test_flattened))\n",
    "\n",
    "# Display RMSE for test data\n",
    "print(f\"RMSE for Test Data: {rmse_test}\")"
   ]
  },
  {
   "cell_type": "markdown",
   "metadata": {
    "id": "WFOLdxky3Hed"
   },
   "source": [
    "### Discuss the results and why sklearn's non-negative matrix facorization library did not work well compared to simple baseline or similarity-based methods we’ve done in Module 3. Can you suggest a way(s) to fix it"
   ]
  },
  {
   "cell_type": "markdown",
   "metadata": {
    "id": "th7auzWh3Tax"
   },
   "source": [
    "Answer: The relatively high RMSE value of 3.4997 indicates that the matrix factorization model did not perform well compared to simpler baseline or similarity-based methods from module 3.One way to potentially improve performance is to explore incorporating additional features or enhancing the model's hyperparameters."
   ]
  }
 ],
 "metadata": {
  "colab": {
   "provenance": []
  },
  "kernelspec": {
   "display_name": "Python 3 (ipykernel)",
   "language": "python",
   "name": "python3"
  },
  "language_info": {
   "codemirror_mode": {
    "name": "ipython",
    "version": 3
   },
   "file_extension": ".py",
   "mimetype": "text/x-python",
   "name": "python",
   "nbconvert_exporter": "python",
   "pygments_lexer": "ipython3",
   "version": "3.11.6"
  }
 },
 "nbformat": 4,
 "nbformat_minor": 4
}
