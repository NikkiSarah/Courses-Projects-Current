{
 "cells": [
  {
   "cell_type": "markdown",
   "id": "13da362d-ae03-49b8-a305-1feb3c83662d",
   "metadata": {},
   "source": [
    "# Topic Classification Using Unsupervised and Supervised Approaches Part 2\n",
    "This assignment compares how well unsupervised matrix factorisation and two supervised learning models classify [BBC News data](https://www.kaggle.com/competitions/learn-ai-bbc/data). This is the second notebook and focuses on the supervised learning models."
   ]
  },
  {
   "cell_type": "code",
   "execution_count": 1,
   "id": "893c1974-9961-44df-9c2c-8d7ad3229b0c",
   "metadata": {
    "execution": {
     "iopub.execute_input": "2023-12-18T11:15:08.421564Z",
     "iopub.status.busy": "2023-12-18T11:15:08.421278Z",
     "iopub.status.idle": "2023-12-18T11:15:13.613346Z",
     "shell.execute_reply": "2023-12-18T11:15:13.612751Z",
     "shell.execute_reply.started": "2023-12-18T11:15:08.421539Z"
    },
    "tags": []
   },
   "outputs": [],
   "source": [
    "# general libraries\n",
    "import configparser\n",
    "import numpy as np\n",
    "import pandas as pd\n",
    "from time import time\n",
    "\n",
    "# visualisation libraries\n",
    "import matplotlib.pyplot as plt\n",
    "import seaborn as sns\n",
    "\n",
    "# modelling libraries\n",
    "from sklearn.metrics import accuracy_score, confusion_matrix, f1_score\n",
    "from sklearn.model_selection import train_test_split\n",
    "import spacy\n",
    "from spacy.tokens import DocBin\n",
    "\n",
    "# get rid of the seaborn FutureWarning\n",
    "import warnings\n",
    "warnings.simplefilter(action='ignore', category=FutureWarning)"
   ]
  },
  {
   "cell_type": "code",
   "execution_count": 2,
   "id": "73aae8c8-b991-434b-9ea1-b1881370d9fe",
   "metadata": {
    "execution": {
     "iopub.execute_input": "2023-12-18T11:15:13.615029Z",
     "iopub.status.busy": "2023-12-18T11:15:13.614619Z",
     "iopub.status.idle": "2023-12-18T11:15:18.009837Z",
     "shell.execute_reply": "2023-12-18T11:15:18.009185Z",
     "shell.execute_reply.started": "2023-12-18T11:15:13.615006Z"
    },
    "tags": []
   },
   "outputs": [],
   "source": [
    "# load the data\n",
    "train = pd.read_csv('./data/learn-ai-bbc/BBC News Train.csv')\n",
    "test = pd.read_csv('./data/learn-ai-bbc/BBC News Test.csv')\n",
    "\n",
    "# allocate data and perform operations on gpu. Will raise an error if no GPU is available.\n",
    "spacy.require_gpu()\n",
    "# load the english spacy model\n",
    "nlp = spacy.load(\"en_core_web_lg\")\n",
    "\n",
    "# check out the number of tokens in the articles\n",
    "train['NumChars'] = train.Text.apply(lambda x: len(x))\n",
    "train['NumWords'] = train.Text.apply(lambda x: len(x.split()))\n",
    "\n",
    "# remove articles in the top 1%\n",
    "top = np.quantile(train.NumWords, q=0.99)\n",
    "train_sub = train.loc[train.NumWords < top]"
   ]
  },
  {
   "cell_type": "markdown",
   "id": "f1f4f271-ac45-48fa-8b53-fbfc5cd00629",
   "metadata": {},
   "source": [
    "## Task 6: Supervised Learning - Spacy\n",
    "Spacy has an inbuilt text categoriser ('textcat') that can be added as a component to its NLP pipeline.\n",
    "\n",
    "There are 3 CPU architectures available:\n",
    "- Stacked ensemble of a linear BoW and neural network model. The neural network is built on top of a Tok2Vec (token to vector) layer and uses attention. This is the default architecture.\n",
    "- n-gram BoW model. Runs the fastest, but has particular trouble with short texts (Not too much of an issue in this case, but could be if analysing customer feedback for example).\n",
    "- Neural network model where token vectors are calculated using a CNN. According to the documentation, it's typically less accurate than the default but faster.\n",
    "\n",
    "There is one GPU architecture available:\n",
    "- A transformer model from the HuggingFace transformers library with pre-trained weights and a PyTorch implementation.\n",
    "\n",
    "**The first model trained and evaluated was a BoW model.**"
   ]
  },
  {
   "cell_type": "code",
   "execution_count": 3,
   "id": "5bcb9317-2cf5-4ec4-b64d-9b7c625143b1",
   "metadata": {
    "execution": {
     "iopub.execute_input": "2023-12-18T11:15:22.053835Z",
     "iopub.status.busy": "2023-12-18T11:15:22.053481Z",
     "iopub.status.idle": "2023-12-18T11:15:22.084693Z",
     "shell.execute_reply": "2023-12-18T11:15:22.083900Z",
     "shell.execute_reply.started": "2023-12-18T11:15:22.053807Z"
    },
    "tags": []
   },
   "outputs": [
    {
     "data": {
      "text/plain": [
       "['tok2vec',\n",
       " 'tagger',\n",
       " 'parser',\n",
       " 'attribute_ruler',\n",
       " 'lemmatizer',\n",
       " 'ner',\n",
       " 'textcat']"
      ]
     },
     "execution_count": 3,
     "metadata": {},
     "output_type": "execute_result"
    }
   ],
   "source": [
    "# check if textcat is part of the pipeline\n",
    "if nlp.has_pipe(\"textcat\"):\n",
    "    pass\n",
    "else:\n",
    "    textcat = nlp.add_pipe(\"textcat\", last=True)\n",
    "nlp.pipe_names"
   ]
  },
  {
   "cell_type": "code",
   "execution_count": 4,
   "id": "a47cfc46-7c29-4be6-b7fb-d4d0f6c8312b",
   "metadata": {
    "execution": {
     "iopub.execute_input": "2023-12-18T11:15:23.029309Z",
     "iopub.status.busy": "2023-12-18T11:15:23.028933Z",
     "iopub.status.idle": "2023-12-18T11:15:23.034832Z",
     "shell.execute_reply": "2023-12-18T11:15:23.034213Z",
     "shell.execute_reply.started": "2023-12-18T11:15:23.029283Z"
    },
    "tags": []
   },
   "outputs": [
    {
     "data": {
      "text/plain": [
       "('business', 'entertainment', 'politics', 'sport', 'tech')"
      ]
     },
     "execution_count": 4,
     "metadata": {},
     "output_type": "execute_result"
    }
   ],
   "source": [
    "# add the labels (categories) to the pipeline component\n",
    "textcat.add_label(\"business\")\n",
    "textcat.add_label(\"entertainment\")\n",
    "textcat.add_label(\"politics\")\n",
    "textcat.add_label(\"sport\")\n",
    "textcat.add_label(\"tech\")\n",
    "\n",
    "# double-check they've been added\n",
    "textcat.labels"
   ]
  },
  {
   "cell_type": "code",
   "execution_count": 5,
   "id": "2129a5ef-3892-4975-ac09-39162cbe5e1a",
   "metadata": {
    "execution": {
     "iopub.execute_input": "2023-12-18T11:15:23.832543Z",
     "iopub.status.busy": "2023-12-18T11:15:23.832171Z",
     "iopub.status.idle": "2023-12-18T11:15:23.838033Z",
     "shell.execute_reply": "2023-12-18T11:15:23.837289Z",
     "shell.execute_reply.started": "2023-12-18T11:15:23.832516Z"
    },
    "tags": []
   },
   "outputs": [
    {
     "data": {
      "text/plain": [
       "{'threshold': 0.0,\n",
       " 'model': {'@architectures': 'spacy.TextCatEnsemble.v2',\n",
       "  'linear_model': {'@architectures': 'spacy.TextCatBOW.v2',\n",
       "   'exclusive_classes': True,\n",
       "   'ngram_size': 1,\n",
       "   'no_output_layer': False},\n",
       "  'tok2vec': {'@architectures': 'spacy.Tok2Vec.v2',\n",
       "   'embed': {'@architectures': 'spacy.MultiHashEmbed.v2',\n",
       "    'width': 64,\n",
       "    'rows': [2000, 2000, 500, 1000, 500],\n",
       "    'attrs': ['NORM', 'LOWER', 'PREFIX', 'SUFFIX', 'SHAPE'],\n",
       "    'include_static_vectors': False},\n",
       "   'encode': {'@architectures': 'spacy.MaxoutWindowEncoder.v2',\n",
       "    'width': 64,\n",
       "    'window_size': 1,\n",
       "    'maxout_pieces': 3,\n",
       "    'depth': 2}}},\n",
       " 'scorer': {'@scorers': 'spacy.textcat_scorer.v2'}}"
      ]
     },
     "execution_count": 5,
     "metadata": {},
     "output_type": "execute_result"
    }
   ],
   "source": [
    "default_config = nlp.get_pipe_meta(\"textcat\").default_config\n",
    "default_config"
   ]
  },
  {
   "cell_type": "markdown",
   "id": "ef9c403c-3d2f-4890-8246-4b066f656180",
   "metadata": {},
   "source": [
    "First rejig the config file for **efficiency**, noting it changes the default model architecture from an ensemble to a BoW.\n",
    "- Step 1: generate a base config file using https://spacy.io/usage/training#quickstart:\n",
    "    - Components: textcat\n",
    "    - Text classification: Exclusive categories\n",
    "    - Hardware: CPU\n",
    "    - Optimise for: efficiency\n",
    "- Step 2: Create a complete config file with all the other components auto-filled to their defaults"
   ]
  },
  {
   "cell_type": "code",
   "execution_count": 6,
   "id": "8ffdca7e-bbce-4e3d-be9f-980dbafcdd8a",
   "metadata": {
    "execution": {
     "iopub.execute_input": "2023-12-18T11:15:25.766951Z",
     "iopub.status.busy": "2023-12-18T11:15:25.766576Z",
     "iopub.status.idle": "2023-12-18T11:15:29.689003Z",
     "shell.execute_reply": "2023-12-18T11:15:29.688129Z",
     "shell.execute_reply.started": "2023-12-18T11:15:25.766926Z"
    },
    "scrolled": true,
    "tags": []
   },
   "outputs": [
    {
     "name": "stdout",
     "output_type": "stream",
     "text": [
      "\u001b[38;5;2m✔ Auto-filled config with all values\u001b[0m\n",
      "\u001b[1m\n",
      "============================= START CONFIG DIFF =============================\u001b[0m\n",
      "\n",
      "[paths]\n",
      "train = null\n",
      "dev = null\n",
      "vectors = null\n",
      "\u001b[38;5;16;48;5;2minit_tok2vec = null\u001b[0m\n",
      "\n",
      "[system]\n",
      "gpu_allocator = null\n",
      "\u001b[38;5;16;48;5;2mseed = 0\u001b[0m\n",
      "\n",
      "[nlp]\n",
      "lang = \"en\"\n",
      "pipeline = [\"textcat\"]\n",
      "batch_size = 1000\n",
      "\u001b[38;5;16;48;5;2mdisabled = []\u001b[0m\n",
      "\u001b[38;5;16;48;5;2mbefore_creation = null\u001b[0m\n",
      "\u001b[38;5;16;48;5;2mafter_creation = null\u001b[0m\n",
      "\u001b[38;5;16;48;5;2mafter_pipeline_creation = null\u001b[0m\n",
      "\u001b[38;5;16;48;5;2mtokenizer = {\"@tokenizers\":\"spacy.Tokenizer.v1\"}\u001b[0m\n",
      "\u001b[38;5;16;48;5;2mvectors = {\"@vectors\":\"spacy.Vectors.v1\"}\u001b[0m\n",
      "\n",
      "[components]\n",
      "\n",
      "[components.textcat]\n",
      "factory = \"textcat\"\n",
      "\u001b[38;5;16;48;5;2mscorer = {\"@scorers\":\"spacy.textcat_scorer.v2\"}\u001b[0m\n",
      "\u001b[38;5;16;48;5;2mthreshold = 0.0\u001b[0m\n",
      "\n",
      "[components.textcat.model]\n",
      "@architectures = \"spacy.TextCatBOW.v2\"\n",
      "exclusive_classes = true\n",
      "ngram_size = 1\n",
      "no_output_layer = false\n",
      "\u001b[38;5;16;48;5;2mnO = null\u001b[0m\n",
      "\n",
      "[corpora]\n",
      "\n",
      "[corpora.dev]\n",
      "@readers = \"spacy.Corpus.v1\"\n",
      "path = ${paths.dev}\n",
      "max_length = 0\n",
      "\u001b[38;5;16;48;5;2mgold_preproc = false\u001b[0m\n",
      "\u001b[38;5;16;48;5;2mlimit = 0\u001b[0m\n",
      "\u001b[38;5;16;48;5;2maugmenter = null\u001b[0m\n",
      "\n",
      "[corpora.train]\n",
      "@readers = \"spacy.Corpus.v1\"\n",
      "path = ${paths.train}\n",
      "max_length = 0\n",
      "\u001b[38;5;16;48;5;2mgold_preproc = false\u001b[0m\n",
      "\u001b[38;5;16;48;5;2mlimit = 0\u001b[0m\n",
      "\u001b[38;5;16;48;5;2maugmenter = null\u001b[0m\n",
      "\n",
      "[training]\n",
      "dev_corpus = \"corpora.dev\"\n",
      "train_corpus = \"corpora.train\"\n",
      "\u001b[38;5;16;48;5;2mseed = ${system.seed}\u001b[0m\n",
      "\u001b[38;5;16;48;5;2mgpu_allocator = ${system.gpu_allocator}\u001b[0m\n",
      "\u001b[38;5;16;48;5;2mdropout = 0.1\u001b[0m\n",
      "\u001b[38;5;16;48;5;2maccumulate_gradient = 1\u001b[0m\n",
      "\u001b[38;5;16;48;5;2mpatience = 1600\u001b[0m\n",
      "\u001b[38;5;16;48;5;2mmax_epochs = 0\u001b[0m\n",
      "\u001b[38;5;16;48;5;2mmax_steps = 20000\u001b[0m\n",
      "\u001b[38;5;16;48;5;2meval_frequency = 200\u001b[0m\n",
      "\u001b[38;5;16;48;5;2mfrozen_components = []\u001b[0m\n",
      "\u001b[38;5;16;48;5;2mannotating_components = []\u001b[0m\n",
      "\u001b[38;5;16;48;5;2mbefore_to_disk = null\u001b[0m\n",
      "\u001b[38;5;16;48;5;2mbefore_update = null\u001b[0m\n",
      "\u001b[38;5;16;48;5;1moptimizer = {\"@optimizers\":\"Adam.v1\"}\u001b[0m\n",
      "\n",
      "[training.batcher]\n",
      "@batchers = \"spacy.batch_by_words.v1\"\n",
      "discard_oversize = false\n",
      "tolerance = 0.2\n",
      "\u001b[38;5;16;48;5;2mget_length = null\u001b[0m\n",
      "\n",
      "[training.batcher.size]\n",
      "@schedules = \"compounding.v1\"\n",
      "start = 100\n",
      "stop = 1000\n",
      "compound = 1.001\n",
      "\u001b[38;5;16;48;5;2mt = 0.0\u001b[0m\n",
      "\u001b[38;5;16;48;5;2m\u001b[0m\n",
      "\u001b[38;5;16;48;5;2m[training.logger]\u001b[0m\n",
      "\u001b[38;5;16;48;5;2m@loggers = \"spacy.ConsoleLogger.v1\"\u001b[0m\n",
      "\u001b[38;5;16;48;5;2mprogress_bar = false\u001b[0m\n",
      "\u001b[38;5;16;48;5;2m\u001b[0m\n",
      "\u001b[38;5;16;48;5;2m[training.optimizer]\u001b[0m\n",
      "\u001b[38;5;16;48;5;2m@optimizers = \"Adam.v1\"\u001b[0m\n",
      "\u001b[38;5;16;48;5;2mbeta1 = 0.9\u001b[0m\n",
      "\u001b[38;5;16;48;5;2mbeta2 = 0.999\u001b[0m\n",
      "\u001b[38;5;16;48;5;2mL2_is_weight_decay = true\u001b[0m\n",
      "\u001b[38;5;16;48;5;2mL2 = 0.01\u001b[0m\n",
      "\u001b[38;5;16;48;5;2mgrad_clip = 1.0\u001b[0m\n",
      "\u001b[38;5;16;48;5;2muse_averages = false\u001b[0m\n",
      "\u001b[38;5;16;48;5;2meps = 0.00000001\u001b[0m\n",
      "\u001b[38;5;16;48;5;2mlearn_rate = 0.001\u001b[0m\n",
      "\u001b[38;5;16;48;5;2m\u001b[0m\n",
      "\u001b[38;5;16;48;5;2m[training.score_weights]\u001b[0m\n",
      "\u001b[38;5;16;48;5;2mcats_score = 1.0\u001b[0m\n",
      "\u001b[38;5;16;48;5;2mcats_score_desc = null\u001b[0m\n",
      "\u001b[38;5;16;48;5;2mcats_micro_p = null\u001b[0m\n",
      "\u001b[38;5;16;48;5;2mcats_micro_r = null\u001b[0m\n",
      "\u001b[38;5;16;48;5;2mcats_micro_f = null\u001b[0m\n",
      "\u001b[38;5;16;48;5;2mcats_macro_p = null\u001b[0m\n",
      "\u001b[38;5;16;48;5;2mcats_macro_r = null\u001b[0m\n",
      "\u001b[38;5;16;48;5;2mcats_macro_f = null\u001b[0m\n",
      "\u001b[38;5;16;48;5;2mcats_macro_auc = null\u001b[0m\n",
      "\u001b[38;5;16;48;5;2mcats_f_per_type = null\u001b[0m\n",
      "\u001b[38;5;16;48;5;2m\u001b[0m\n",
      "\u001b[38;5;16;48;5;2m[pretraining]\u001b[0m\n",
      "\n",
      "[initialize]\n",
      "vectors = ${paths.vectors}\n",
      "\u001b[38;5;16;48;5;2minit_tok2vec = ${paths.init_tok2vec}\u001b[0m\n",
      "\u001b[38;5;16;48;5;2mvocab_data = null\u001b[0m\n",
      "\u001b[38;5;16;48;5;2mlookups = null\u001b[0m\n",
      "\u001b[38;5;16;48;5;2mbefore_init = null\u001b[0m\n",
      "\u001b[38;5;16;48;5;2mafter_init = null\u001b[0m\n",
      "\u001b[38;5;16;48;5;2m\u001b[0m\n",
      "\u001b[38;5;16;48;5;2m[initialize.components]\u001b[0m\n",
      "\u001b[38;5;16;48;5;2m\u001b[0m\n",
      "\u001b[38;5;16;48;5;2m[initialize.tokenizer]\u001b[0m\n",
      "\u001b[1m\n",
      "============================== END CONFIG DIFF ==============================\u001b[0m\n",
      "\n",
      "\u001b[38;5;2m✔ Saved config\u001b[0m\n",
      "configs/efficiency_cpu_config.cfg\n",
      "You can now add your data and train your pipeline:\n",
      "python -m spacy train efficiency_cpu_config.cfg --paths.train ./train.spacy --paths.dev ./dev.spacy\n"
     ]
    }
   ],
   "source": [
    "# CLI command\n",
    "!python -m spacy init fill-config ./configs/base_efficiency_cpu_config.cfg ./configs/efficiency_cpu_config.cfg --diff\n",
    "# --diff produces a helpful comparison to the base config file (i.e. what's been added/removed)"
   ]
  },
  {
   "cell_type": "code",
   "execution_count": 7,
   "id": "ed24c547-bc02-443c-bf9d-00f9c024fc5e",
   "metadata": {
    "execution": {
     "iopub.execute_input": "2023-12-18T11:15:38.265796Z",
     "iopub.status.busy": "2023-12-18T11:15:38.265393Z",
     "iopub.status.idle": "2023-12-18T11:15:38.275646Z",
     "shell.execute_reply": "2023-12-18T11:15:38.274877Z",
     "shell.execute_reply.started": "2023-12-18T11:15:38.265769Z"
    },
    "scrolled": true,
    "tags": []
   },
   "outputs": [
    {
     "data": {
      "text/plain": [
       "{'paths': {'train': 'null',\n",
       "  'dev': 'null',\n",
       "  'vectors': 'null',\n",
       "  'init_tok2vec': 'null'},\n",
       " 'system': {'gpu_allocator': 'null', 'seed': '0'},\n",
       " 'nlp': {'lang': '\"en\"',\n",
       "  'pipeline': '[\"textcat\"]',\n",
       "  'batch_size': '1000',\n",
       "  'disabled': '[]',\n",
       "  'before_creation': 'null',\n",
       "  'after_creation': 'null',\n",
       "  'after_pipeline_creation': 'null',\n",
       "  'tokenizer': '{\"@tokenizers\":\"spacy.Tokenizer.v1\"}',\n",
       "  'vectors': '{\"@vectors\":\"spacy.Vectors.v1\"}'},\n",
       " 'components': {},\n",
       " 'components.textcat': {'factory': '\"textcat\"',\n",
       "  'scorer': '{\"@scorers\":\"spacy.textcat_scorer.v2\"}',\n",
       "  'threshold': '0.0'},\n",
       " 'components.textcat.model': {'@architectures': '\"spacy.TextCatBOW.v2\"',\n",
       "  'exclusive_classes': 'true',\n",
       "  'ngram_size': '1',\n",
       "  'no_output_layer': 'false',\n",
       "  'no': 'null'},\n",
       " 'corpora': {},\n",
       " 'corpora.dev': {'@readers': '\"spacy.Corpus.v1\"',\n",
       "  'path': '${paths.dev}',\n",
       "  'max_length': '0',\n",
       "  'gold_preproc': 'false',\n",
       "  'limit': '0',\n",
       "  'augmenter': 'null'},\n",
       " 'corpora.train': {'@readers': '\"spacy.Corpus.v1\"',\n",
       "  'path': '${paths.train}',\n",
       "  'max_length': '0',\n",
       "  'gold_preproc': 'false',\n",
       "  'limit': '0',\n",
       "  'augmenter': 'null'},\n",
       " 'training': {'dev_corpus': '\"corpora.dev\"',\n",
       "  'train_corpus': '\"corpora.train\"',\n",
       "  'seed': '${system.seed}',\n",
       "  'gpu_allocator': '${system.gpu_allocator}',\n",
       "  'dropout': '0.1',\n",
       "  'accumulate_gradient': '1',\n",
       "  'patience': '1600',\n",
       "  'max_epochs': '0',\n",
       "  'max_steps': '20000',\n",
       "  'eval_frequency': '200',\n",
       "  'frozen_components': '[]',\n",
       "  'annotating_components': '[]',\n",
       "  'before_to_disk': 'null',\n",
       "  'before_update': 'null'},\n",
       " 'training.batcher': {'@batchers': '\"spacy.batch_by_words.v1\"',\n",
       "  'discard_oversize': 'false',\n",
       "  'tolerance': '0.2',\n",
       "  'get_length': 'null'},\n",
       " 'training.batcher.size': {'@schedules': '\"compounding.v1\"',\n",
       "  'start': '100',\n",
       "  'stop': '1000',\n",
       "  'compound': '1.001',\n",
       "  't': '0.0'},\n",
       " 'training.logger': {'@loggers': '\"spacy.ConsoleLogger.v1\"',\n",
       "  'progress_bar': 'false'},\n",
       " 'training.optimizer': {'@optimizers': '\"Adam.v1\"',\n",
       "  'beta1': '0.9',\n",
       "  'beta2': '0.999',\n",
       "  'l2_is_weight_decay': 'true',\n",
       "  'l2': '0.01',\n",
       "  'grad_clip': '1.0',\n",
       "  'use_averages': 'false',\n",
       "  'eps': '0.00000001',\n",
       "  'learn_rate': '0.001'},\n",
       " 'training.score_weights': {'cats_score': '1.0',\n",
       "  'cats_score_desc': 'null',\n",
       "  'cats_micro_p': 'null',\n",
       "  'cats_micro_r': 'null',\n",
       "  'cats_micro_f': 'null',\n",
       "  'cats_macro_p': 'null',\n",
       "  'cats_macro_r': 'null',\n",
       "  'cats_macro_f': 'null',\n",
       "  'cats_macro_auc': 'null',\n",
       "  'cats_f_per_type': 'null'},\n",
       " 'pretraining': {},\n",
       " 'initialize': {'vectors': '${paths.vectors}',\n",
       "  'init_tok2vec': '${paths.init_tok2vec}',\n",
       "  'vocab_data': 'null',\n",
       "  'lookups': 'null',\n",
       "  'before_init': 'null',\n",
       "  'after_init': 'null'},\n",
       " 'initialize.components': {},\n",
       " 'initialize.tokenizer': {}}"
      ]
     },
     "execution_count": 7,
     "metadata": {},
     "output_type": "execute_result"
    }
   ],
   "source": [
    "# view the configuration file\n",
    "def read_spacy_config(file_path):\n",
    "    config = configparser.ConfigParser()\n",
    "    config.read(file_path)\n",
    "\n",
    "    config_dict = {}\n",
    "    for section in config.sections():\n",
    "        config_dict[section] = {}\n",
    "        for option in config.options(section):\n",
    "            config_dict[section][option] = config.get(section, option)\n",
    "\n",
    "    return config_dict\n",
    "\n",
    "\n",
    "file_path = './configs/efficiency_cpu_config.cfg'\n",
    "textcat_config = read_spacy_config(file_path)\n",
    "textcat_config"
   ]
  },
  {
   "cell_type": "code",
   "execution_count": 8,
   "id": "caf92bac-0e00-496b-8e54-466b08e29c2a",
   "metadata": {
    "execution": {
     "iopub.execute_input": "2023-12-18T11:15:39.610793Z",
     "iopub.status.busy": "2023-12-18T11:15:39.610408Z",
     "iopub.status.idle": "2023-12-18T11:15:45.979270Z",
     "shell.execute_reply": "2023-12-18T11:15:45.978499Z",
     "shell.execute_reply.started": "2023-12-18T11:15:39.610767Z"
    },
    "tags": []
   },
   "outputs": [
    {
     "name": "stdout",
     "output_type": "stream",
     "text": [
      "{'sport': {'sport': 1, 'business': 0, 'tech': 0, 'politics': 0, 'entertainment': 0}, 'business': {'sport': 0, 'business': 1, 'tech': 0, 'politics': 0, 'entertainment': 0}, 'tech': {'sport': 0, 'business': 0, 'tech': 1, 'politics': 0, 'entertainment': 0}, 'politics': {'sport': 0, 'business': 0, 'tech': 0, 'politics': 1, 'entertainment': 0}, 'entertainment': {'sport': 0, 'business': 0, 'tech': 0, 'politics': 0, 'entertainment': 1}}\n",
      "{'sport': {'sport': 1, 'business': 0, 'tech': 0, 'politics': 0, 'entertainment': 0}, 'business': {'sport': 0, 'business': 1, 'tech': 0, 'politics': 0, 'entertainment': 0}, 'tech': {'sport': 0, 'business': 0, 'tech': 1, 'politics': 0, 'entertainment': 0}, 'politics': {'sport': 0, 'business': 0, 'tech': 0, 'politics': 1, 'entertainment': 0}, 'entertainment': {'sport': 0, 'business': 0, 'tech': 0, 'politics': 0, 'entertainment': 1}}\n"
     ]
    }
   ],
   "source": [
    "# split the data into a training and dev set (80/20 split)\n",
    "# ensure that the category splits are roughly even\n",
    "train_data, dev_data = train_test_split(train_sub, stratify=train_sub.Category, test_size=0.2, random_state=42)\n",
    "train_data.reset_index(inplace=True, drop=True)\n",
    "dev_data.reset_index(inplace=True, drop=True)\n",
    "\n",
    "\n",
    "# convert the data to spacy's required training format: https://spacy.io/api/data-formats#binary-training\n",
    "def convert_data(output_path, df, label='Category'):\n",
    "    # extract all the unique categories\n",
    "    cats = set(df[label])\n",
    "\n",
    "    # create a one-hot-dictionary for each unique category\n",
    "    one_hot_dicts = {}\n",
    "    for c1 in cats:\n",
    "        one_hot_dict = {c2: (1 if c2 == c1 else 0) for c2 in cats}\n",
    "        one_hot_dicts[c1] = one_hot_dict\n",
    "    print(one_hot_dicts)\n",
    "\n",
    "    # create spacy and DocBin objects\n",
    "    nlp = spacy.blank('en')\n",
    "    db = DocBin()\n",
    "\n",
    "    # for each row in the dataframe...\n",
    "    for idx, row in df.iterrows():\n",
    "        # locate just the text and label information\n",
    "        text = row['Text']\n",
    "        cat = row['Category']\n",
    "\n",
    "        # make a doc from the text\n",
    "        doc = nlp.make_doc(text)\n",
    "        # add the relevant one-hot-dictionary\n",
    "        doc.cats = one_hot_dicts[cat]\n",
    "        # print(one_hot_dicts[cat])\n",
    "        # add it to the DocBin object\n",
    "        db.add(doc)\n",
    "\n",
    "    # write the DocBin object to disk\n",
    "    db.to_disk(output_path)\n",
    "\n",
    "\n",
    "convert_data(\"./corpora/train.spacy\", df=train_data)\n",
    "convert_data(\"./corpora/dev.spacy\", df=dev_data)"
   ]
  },
  {
   "cell_type": "code",
   "execution_count": 10,
   "id": "22e23f2d-1b44-44f3-96bb-230dd34a1d08",
   "metadata": {
    "execution": {
     "iopub.execute_input": "2023-12-18T11:16:10.819784Z",
     "iopub.status.busy": "2023-12-18T11:16:10.819390Z",
     "iopub.status.idle": "2023-12-18T11:17:54.687861Z",
     "shell.execute_reply": "2023-12-18T11:17:54.687056Z",
     "shell.execute_reply.started": "2023-12-18T11:16:10.819755Z"
    },
    "tags": []
   },
   "outputs": [
    {
     "name": "stdout",
     "output_type": "stream",
     "text": [
      "\u001b[38;5;4mℹ Saving to output directory: outputs\u001b[0m\n",
      "\u001b[38;5;4mℹ Using GPU: 0\u001b[0m\n",
      "\u001b[1m\n",
      "=========================== Initializing pipeline ===========================\u001b[0m\n",
      "\u001b[38;5;2m✔ Initialized pipeline\u001b[0m\n",
      "\u001b[1m\n",
      "============================= Training pipeline =============================\u001b[0m\n",
      "\u001b[38;5;4mℹ Pipeline: ['textcat']\u001b[0m\n",
      "\u001b[38;5;4mℹ Initial learn rate: 0.001\u001b[0m\n",
      "E    #       LOSS TEXTCAT  CATS_SCORE  SCORE \n",
      "---  ------  ------------  ----------  ------\n",
      "  0       0          0.16        5.90    0.06\n",
      "  0     200         15.30       91.67    0.92\n",
      "  0     400          4.44       91.37    0.91\n",
      "  0     600          2.67       96.13    0.96\n",
      "  0     800          2.25       93.55    0.94\n",
      "  0    1000          2.77       95.39    0.95\n",
      "  1    1200          1.65       96.54    0.97\n",
      "  1    1400          0.33       96.44    0.96\n",
      "  1    1600          0.39       95.76    0.96\n",
      "  1    1800          0.13       96.44    0.96\n",
      "  1    2000          0.87       95.76    0.96\n",
      "  1    2200          0.01       96.91    0.97\n",
      "  2    2400          0.00       97.21    0.97\n",
      "  2    2600          0.77       95.48    0.95\n",
      "  2    2800          0.00       97.64    0.98\n",
      "  2    3000          0.00       97.61    0.98\n",
      "  2    3200          0.01       94.39    0.94\n",
      "  2    3400          0.00       96.92    0.97\n",
      "  3    3600          0.00       97.26    0.97\n",
      "  3    3800          0.00       97.26    0.97\n",
      "  3    4000          0.00       97.26    0.97\n",
      "  3    4200          0.00       96.92    0.97\n",
      "  3    4400          0.40       96.92    0.97\n",
      "\u001b[38;5;2m✔ Saved pipeline to output directory\u001b[0m\n",
      "outputs/model-last\n",
      "Done in 1.731m.\n"
     ]
    }
   ],
   "source": [
    "# train the model: https://spacy.io/usage/training#quickstart\n",
    "# override various config sections using the syntax: --section.option\n",
    "t0 = time()\n",
    "!python -m spacy train ./configs/efficiency_cpu_config.cfg --output ./outputs --paths.train ./corpora/train.spacy --paths.dev ./corpora/dev.spacy --gpu-id 0\n",
    "print(\"Done in %0.3fm.\" % ((time() - t0)/60))"
   ]
  },
  {
   "cell_type": "code",
   "execution_count": 13,
   "id": "b815cb66-9e29-4604-b327-1cf43b52c816",
   "metadata": {
    "execution": {
     "iopub.execute_input": "2023-12-18T11:18:57.644739Z",
     "iopub.status.busy": "2023-12-18T11:18:57.644295Z",
     "iopub.status.idle": "2023-12-18T11:19:10.824837Z",
     "shell.execute_reply": "2023-12-18T11:19:10.823992Z",
     "shell.execute_reply.started": "2023-12-18T11:18:57.644709Z"
    },
    "tags": []
   },
   "outputs": [
    {
     "name": "stdout",
     "output_type": "stream",
     "text": [
      "\u001b[38;5;4mℹ Using GPU: 0\u001b[0m\n",
      "\u001b[1m\n",
      "================================== Results ==================================\u001b[0m\n",
      "\n",
      "TOK                 100.00\n",
      "TEXTCAT (macro F)   99.92 \n",
      "SPEED               242495\n",
      "\n",
      "\u001b[1m\n",
      "=========================== Textcat F (per label) ===========================\u001b[0m\n",
      "\n",
      "                     P        R        F\n",
      "sport           100.00   100.00   100.00\n",
      "business        100.00    99.63    99.81\n",
      "tech            100.00   100.00   100.00\n",
      "politics         99.54   100.00    99.77\n",
      "entertainment   100.00   100.00   100.00\n",
      "\n",
      "\u001b[1m\n",
      "======================== Textcat ROC AUC (per label) ========================\u001b[0m\n",
      "\n",
      "                ROC AUC\n",
      "sport              1.00\n",
      "business           1.00\n",
      "tech               1.00\n",
      "politics           1.00\n",
      "entertainment      1.00\n",
      "\n"
     ]
    }
   ],
   "source": [
    "# evaluate model performance\n",
    "!python -m spacy evaluate ./outputs/efficiency-cpu-model-best/ ./corpora/train.spacy --gpu-id 0"
   ]
  },
  {
   "cell_type": "code",
   "execution_count": 14,
   "id": "86160f98-5a56-40c7-a6ea-a7185b5a6a3f",
   "metadata": {
    "execution": {
     "iopub.execute_input": "2023-12-18T11:19:10.827259Z",
     "iopub.status.busy": "2023-12-18T11:19:10.826784Z",
     "iopub.status.idle": "2023-12-18T11:19:17.475269Z",
     "shell.execute_reply": "2023-12-18T11:19:17.474288Z",
     "shell.execute_reply.started": "2023-12-18T11:19:10.827197Z"
    },
    "tags": []
   },
   "outputs": [
    {
     "name": "stdout",
     "output_type": "stream",
     "text": [
      "\u001b[38;5;4mℹ Using GPU: 0\u001b[0m\n",
      "\u001b[1m\n",
      "================================== Results ==================================\u001b[0m\n",
      "\n",
      "TOK                 100.00\n",
      "TEXTCAT (macro F)   97.64 \n",
      "SPEED               184760\n",
      "\n",
      "\u001b[1m\n",
      "=========================== Textcat F (per label) ===========================\u001b[0m\n",
      "\n",
      "                     P        R       F\n",
      "sport            98.55    98.55   98.55\n",
      "business         95.59    97.01   96.30\n",
      "tech             98.04    98.04   98.04\n",
      "politics        100.00    94.44   97.14\n",
      "entertainment    96.43   100.00   98.18\n",
      "\n",
      "\u001b[1m\n",
      "======================== Textcat ROC AUC (per label) ========================\u001b[0m\n",
      "\n",
      "                ROC AUC\n",
      "sport              1.00\n",
      "business           1.00\n",
      "tech               1.00\n",
      "politics           1.00\n",
      "entertainment      1.00\n",
      "\n"
     ]
    }
   ],
   "source": [
    "!python -m spacy evaluate ./outputs/efficiency-cpu-model-best/ ./corpora/dev.spacy --gpu-id 0"
   ]
  },
  {
   "cell_type": "markdown",
   "id": "d042054e-7426-4fda-b5f0-4505cefdf52d",
   "metadata": {},
   "source": [
    "We can see therefore that the scoring during model training is for the dev set (as it should be). Also, the F-score on the dev set is only slightly lower than the training set (97.6 vs 99.9), indicating that it's not overfitting."
   ]
  },
  {
   "cell_type": "code",
   "execution_count": 15,
   "id": "7fdb5191-73d3-4665-98fc-d7b5ce0f3a93",
   "metadata": {
    "execution": {
     "iopub.execute_input": "2023-12-18T11:21:10.864324Z",
     "iopub.status.busy": "2023-12-18T11:21:10.863919Z",
     "iopub.status.idle": "2023-12-18T11:21:15.318919Z",
     "shell.execute_reply": "2023-12-18T11:21:15.318079Z",
     "shell.execute_reply.started": "2023-12-18T11:21:10.864296Z"
    },
    "tags": []
   },
   "outputs": [
    {
     "data": {
      "image/png": "[encoded data removed]",
      "text/plain": [
       "<Figure size 640x480 with 1 Axes>"
      ]
     },
     "metadata": {},
     "output_type": "display_data"
    }
   ],
   "source": [
    "# load the model\n",
    "nlp_efficiency = spacy.load(\"./outputs/efficiency-cpu-model-best\")\n",
    "\n",
    "def generate_predictions(df, text_col='Text', label_col='Category', textcat_model=nlp_efficiency):\n",
    "    data = df[text_col].to_list()\n",
    "\n",
    "    pred_cats = []\n",
    "    for article in data:\n",
    "        doc = textcat_model(article)\n",
    "        scores_dict = doc.cats\n",
    "        pred_cat = max(scores_dict, key=lambda k: scores_dict[k])\n",
    "        pred_cats.append(pred_cat)\n",
    "    if label_col is None:\n",
    "        pred_df = pd.DataFrame(data = {'ArticleId': df['ArticleId'], 'PredictedLabel': pred_cats, 'Text': df[text_col]})\n",
    "    else:\n",
    "        pred_df = pd.DataFrame(data = {'ArticleId': df['ArticleId'], 'Actual': df[label_col], \n",
    "                                       'Predicted': pred_cats, 'Text': df[text_col]})\n",
    "\n",
    "    return pred_df\n",
    "\n",
    "\n",
    "train_preds = generate_predictions(train)\n",
    "\n",
    "\n",
    "def plot_confusion_matrix(true_labels, predicted_labels, title,\n",
    "                          cats=['business', 'entertainment', 'politics', 'sport', 'tech']):\n",
    "    cm = confusion_matrix(y_true=true_labels, y_pred=predicted_labels)\n",
    "    cm_df = pd.DataFrame(cm, columns=cats, index=cats)\n",
    "    ax = sns.heatmap(cm_df, annot=True, fmt=\".0f\", cbar=False, cmap=\"Greens\")\n",
    "    ax.set(xlabel=\"Predicted Label\", ylabel=\"True Label\", title=title)\n",
    "\n",
    "plot_confusion_matrix(train_preds.Actual, train_preds.Predicted, title='Spacy n-gram Bag of Words Confusion Matrix')"
   ]
  },
  {
   "cell_type": "code",
   "execution_count": 18,
   "id": "72cbade5-d87f-463b-ac51-705c27fc8cc6",
   "metadata": {
    "execution": {
     "iopub.execute_input": "2023-12-18T11:22:15.057059Z",
     "iopub.status.busy": "2023-12-18T11:22:15.056684Z",
     "iopub.status.idle": "2023-12-18T11:22:16.431447Z",
     "shell.execute_reply": "2023-12-18T11:22:16.430821Z",
     "shell.execute_reply.started": "2023-12-18T11:22:15.057032Z"
    },
    "tags": []
   },
   "outputs": [
    {
     "name": "stdout",
     "output_type": "stream",
     "text": [
      "Training accuracy: 0.9946308724832215\n",
      "Training F1 score: 0.9946284051192686\n"
     ]
    }
   ],
   "source": [
    "accuracy = accuracy_score(train_preds.Actual, train_preds.Predicted)\n",
    "print(\"Training accuracy:\", accuracy)\n",
    "\n",
    "f1 = f1_score(train_preds.Actual, train_preds.Predicted, average='weighted')\n",
    "print(\"Training F1 score:\", f1)\n",
    "\n",
    "# make predictions\n",
    "test_preds = generate_predictions(test, label_col=None)\n",
    "\n",
    "kaggle_submission = test_preds.loc[:, ['ArticleId', 'PredictedLabel']]\n",
    "kaggle_submission.columns=['ArticleId', 'Category']\n",
    "kaggle_submission.to_csv('./outputs/kaggle submission efficient textcat.csv', index=False)"
   ]
  },
  {
   "cell_type": "markdown",
   "id": "fbc92394-6942-4ab3-a439-9da22f62d2d8",
   "metadata": {},
   "source": [
    "The model performed well on both the training and test sets, achieving a near 100% accuracy on the full training data and around 98% on the test data."
   ]
  },
  {
   "cell_type": "markdown",
   "id": "eeb68ed5-8cff-4c85-a407-ca2c60d1da6c",
   "metadata": {},
   "source": [
    "**The second model trained and evaluated was stacked ensemble model.**\n",
    "\n",
    "Now rejig the config file for **accuracy**. This keeps the default model architecture.\n",
    "- Step 1: generate a base config file using https://spacy.io/usage/training#quickstart:\n",
    "    - Components: textcat\n",
    "    - Text classification: Exclusive categories\n",
    "    - Hardware: CPU\n",
    "    - Optimise for: accuracy\n",
    "- Step 2: Create a complete config file with all the other components auto-filled to their defaults"
   ]
  },
  {
   "cell_type": "code",
   "execution_count": 19,
   "id": "1adb7d56-6777-4d64-a48a-44f68e04a074",
   "metadata": {
    "execution": {
     "iopub.execute_input": "2023-12-18T11:24:40.142399Z",
     "iopub.status.busy": "2023-12-18T11:24:40.142020Z",
     "iopub.status.idle": "2023-12-18T11:24:44.007890Z",
     "shell.execute_reply": "2023-12-18T11:24:44.007127Z",
     "shell.execute_reply.started": "2023-12-18T11:24:40.142372Z"
    },
    "scrolled": true,
    "tags": []
   },
   "outputs": [
    {
     "name": "stdout",
     "output_type": "stream",
     "text": [
      "\u001b[38;5;2m✔ Auto-filled config with all values\u001b[0m\n",
      "\u001b[1m\n",
      "============================= START CONFIG DIFF =============================\u001b[0m\n",
      "\n",
      "[paths]\n",
      "train = null\n",
      "dev = null\n",
      "vectors = \"en_core_web_lg\"\n",
      "\u001b[38;5;16;48;5;2minit_tok2vec = null\u001b[0m\n",
      "\n",
      "[system]\n",
      "gpu_allocator = null\n",
      "\u001b[38;5;16;48;5;2mseed = 0\u001b[0m\n",
      "\n",
      "[nlp]\n",
      "lang = \"en\"\n",
      "pipeline = [\"tok2vec\",\"textcat\"]\n",
      "batch_size = 1000\n",
      "\u001b[38;5;16;48;5;2mdisabled = []\u001b[0m\n",
      "\u001b[38;5;16;48;5;2mbefore_creation = null\u001b[0m\n",
      "\u001b[38;5;16;48;5;2mafter_creation = null\u001b[0m\n",
      "\u001b[38;5;16;48;5;2mafter_pipeline_creation = null\u001b[0m\n",
      "\u001b[38;5;16;48;5;2mtokenizer = {\"@tokenizers\":\"spacy.Tokenizer.v1\"}\u001b[0m\n",
      "\u001b[38;5;16;48;5;2mvectors = {\"@vectors\":\"spacy.Vectors.v1\"}\u001b[0m\n",
      "\n",
      "[components]\n",
      "\n",
      "[components.textcat]\n",
      "factory = \"textcat\"\n",
      "\u001b[38;5;16;48;5;2mscorer = {\"@scorers\":\"spacy.textcat_scorer.v2\"}\u001b[0m\n",
      "\u001b[38;5;16;48;5;2mthreshold = 0.0\u001b[0m\n",
      "\n",
      "[components.textcat.model]\n",
      "@architectures = \"spacy.TextCatEnsemble.v2\"\n",
      "nO = null\n",
      "\n",
      "[components.textcat.model.linear_model]\n",
      "@architectures = \"spacy.TextCatBOW.v2\"\n",
      "exclusive_classes = true\n",
      "ngram_size = 1\n",
      "no_output_layer = false\n",
      "\u001b[38;5;16;48;5;2mnO = null\u001b[0m\n",
      "\n",
      "[components.textcat.model.tok2vec]\n",
      "@architectures = \"spacy.Tok2VecListener.v1\"\n",
      "width = ${components.tok2vec.model.encode.width}\n",
      "\u001b[38;5;16;48;5;2mupstream = \"*\"\u001b[0m\n",
      "\n",
      "[components.tok2vec]\n",
      "factory = \"tok2vec\"\n",
      "\n",
      "[components.tok2vec.model]\n",
      "@architectures = \"spacy.Tok2Vec.v2\"\n",
      "\n",
      "[components.tok2vec.model.embed]\n",
      "@architectures = \"spacy.MultiHashEmbed.v2\"\n",
      "width = ${components.tok2vec.model.encode.width}\n",
      "attrs = [\"NORM\",\"PREFIX\",\"SUFFIX\",\"SHAPE\"]\n",
      "rows = [5000,1000,2500,2500]\n",
      "include_static_vectors = true\n",
      "\n",
      "[components.tok2vec.model.encode]\n",
      "@architectures = \"spacy.MaxoutWindowEncoder.v2\"\n",
      "width = 256\n",
      "depth = 8\n",
      "window_size = 1\n",
      "maxout_pieces = 3\n",
      "\n",
      "[corpora]\n",
      "\n",
      "[corpora.dev]\n",
      "@readers = \"spacy.Corpus.v1\"\n",
      "path = ${paths.dev}\n",
      "max_length = 0\n",
      "\u001b[38;5;16;48;5;2mgold_preproc = false\u001b[0m\n",
      "\u001b[38;5;16;48;5;2mlimit = 0\u001b[0m\n",
      "\u001b[38;5;16;48;5;2maugmenter = null\u001b[0m\n",
      "\n",
      "[corpora.train]\n",
      "@readers = \"spacy.Corpus.v1\"\n",
      "path = ${paths.train}\n",
      "max_length = 0\n",
      "\u001b[38;5;16;48;5;2mgold_preproc = false\u001b[0m\n",
      "\u001b[38;5;16;48;5;2mlimit = 0\u001b[0m\n",
      "\u001b[38;5;16;48;5;2maugmenter = null\u001b[0m\n",
      "\n",
      "[training]\n",
      "dev_corpus = \"corpora.dev\"\n",
      "train_corpus = \"corpora.train\"\n",
      "\u001b[38;5;16;48;5;2mseed = ${system.seed}\u001b[0m\n",
      "\u001b[38;5;16;48;5;2mgpu_allocator = ${system.gpu_allocator}\u001b[0m\n",
      "\u001b[38;5;16;48;5;2mdropout = 0.1\u001b[0m\n",
      "\u001b[38;5;16;48;5;2maccumulate_gradient = 1\u001b[0m\n",
      "\u001b[38;5;16;48;5;2mpatience = 1600\u001b[0m\n",
      "\u001b[38;5;16;48;5;2mmax_epochs = 0\u001b[0m\n",
      "\u001b[38;5;16;48;5;2mmax_steps = 20000\u001b[0m\n",
      "\u001b[38;5;16;48;5;2meval_frequency = 200\u001b[0m\n",
      "\u001b[38;5;16;48;5;2mfrozen_components = []\u001b[0m\n",
      "\u001b[38;5;16;48;5;2mannotating_components = []\u001b[0m\n",
      "\u001b[38;5;16;48;5;2mbefore_to_disk = null\u001b[0m\n",
      "\u001b[38;5;16;48;5;2mbefore_update = null\u001b[0m\n",
      "\u001b[38;5;16;48;5;1moptimizer = {\"@optimizers\":\"Adam.v1\"}\u001b[0m\n",
      "\n",
      "[training.batcher]\n",
      "@batchers = \"spacy.batch_by_words.v1\"\n",
      "discard_oversize = false\n",
      "tolerance = 0.2\n",
      "\u001b[38;5;16;48;5;2mget_length = null\u001b[0m\n",
      "\n",
      "[training.batcher.size]\n",
      "@schedules = \"compounding.v1\"\n",
      "start = 100\n",
      "stop = 1000\n",
      "compound = 1.001\n",
      "\u001b[38;5;16;48;5;2mt = 0.0\u001b[0m\n",
      "\u001b[38;5;16;48;5;2m\u001b[0m\n",
      "\u001b[38;5;16;48;5;2m[training.logger]\u001b[0m\n",
      "\u001b[38;5;16;48;5;2m@loggers = \"spacy.ConsoleLogger.v1\"\u001b[0m\n",
      "\u001b[38;5;16;48;5;2mprogress_bar = false\u001b[0m\n",
      "\u001b[38;5;16;48;5;2m\u001b[0m\n",
      "\u001b[38;5;16;48;5;2m[training.optimizer]\u001b[0m\n",
      "\u001b[38;5;16;48;5;2m@optimizers = \"Adam.v1\"\u001b[0m\n",
      "\u001b[38;5;16;48;5;2mbeta1 = 0.9\u001b[0m\n",
      "\u001b[38;5;16;48;5;2mbeta2 = 0.999\u001b[0m\n",
      "\u001b[38;5;16;48;5;2mL2_is_weight_decay = true\u001b[0m\n",
      "\u001b[38;5;16;48;5;2mL2 = 0.01\u001b[0m\n",
      "\u001b[38;5;16;48;5;2mgrad_clip = 1.0\u001b[0m\n",
      "\u001b[38;5;16;48;5;2muse_averages = false\u001b[0m\n",
      "\u001b[38;5;16;48;5;2meps = 0.00000001\u001b[0m\n",
      "\u001b[38;5;16;48;5;2mlearn_rate = 0.001\u001b[0m\n",
      "\u001b[38;5;16;48;5;2m\u001b[0m\n",
      "\u001b[38;5;16;48;5;2m[training.score_weights]\u001b[0m\n",
      "\u001b[38;5;16;48;5;2mcats_score = 1.0\u001b[0m\n",
      "\u001b[38;5;16;48;5;2mcats_score_desc = null\u001b[0m\n",
      "\u001b[38;5;16;48;5;2mcats_micro_p = null\u001b[0m\n",
      "\u001b[38;5;16;48;5;2mcats_micro_r = null\u001b[0m\n",
      "\u001b[38;5;16;48;5;2mcats_micro_f = null\u001b[0m\n",
      "\u001b[38;5;16;48;5;2mcats_macro_p = null\u001b[0m\n",
      "\u001b[38;5;16;48;5;2mcats_macro_r = null\u001b[0m\n",
      "\u001b[38;5;16;48;5;2mcats_macro_f = null\u001b[0m\n",
      "\u001b[38;5;16;48;5;2mcats_macro_auc = null\u001b[0m\n",
      "\u001b[38;5;16;48;5;2mcats_f_per_type = null\u001b[0m\n",
      "\u001b[38;5;16;48;5;2m\u001b[0m\n",
      "\u001b[38;5;16;48;5;2m[pretraining]\u001b[0m\n",
      "\n",
      "[initialize]\n",
      "vectors = ${paths.vectors}\n",
      "\u001b[38;5;16;48;5;2minit_tok2vec = ${paths.init_tok2vec}\u001b[0m\n",
      "\u001b[38;5;16;48;5;2mvocab_data = null\u001b[0m\n",
      "\u001b[38;5;16;48;5;2mlookups = null\u001b[0m\n",
      "\u001b[38;5;16;48;5;2mbefore_init = null\u001b[0m\n",
      "\u001b[38;5;16;48;5;2mafter_init = null\u001b[0m\n",
      "\u001b[38;5;16;48;5;2m\u001b[0m\n",
      "\u001b[38;5;16;48;5;2m[initialize.components]\u001b[0m\n",
      "\u001b[38;5;16;48;5;2m\u001b[0m\n",
      "\u001b[38;5;16;48;5;2m[initialize.tokenizer]\u001b[0m\n",
      "\u001b[1m\n",
      "============================== END CONFIG DIFF ==============================\u001b[0m\n",
      "\n",
      "\u001b[38;5;2m✔ Saved config\u001b[0m\n",
      "configs/accuracy_cpu_config.cfg\n",
      "You can now add your data and train your pipeline:\n",
      "python -m spacy train accuracy_cpu_config.cfg --paths.train ./train.spacy --paths.dev ./dev.spacy\n"
     ]
    }
   ],
   "source": [
    "# CLI command\n",
    "!python -m spacy init fill-config ./configs/base_accuracy_cpu_config.cfg ./configs/accuracy_cpu_config.cfg --diff"
   ]
  },
  {
   "cell_type": "code",
   "execution_count": 20,
   "id": "c2b8d2d7-9576-4928-9026-7110be39720b",
   "metadata": {
    "execution": {
     "iopub.execute_input": "2023-12-18T11:24:58.837299Z",
     "iopub.status.busy": "2023-12-18T11:24:58.836895Z",
     "iopub.status.idle": "2023-12-18T11:24:58.846430Z",
     "shell.execute_reply": "2023-12-18T11:24:58.845828Z",
     "shell.execute_reply.started": "2023-12-18T11:24:58.837271Z"
    },
    "scrolled": true,
    "tags": []
   },
   "outputs": [
    {
     "data": {
      "text/plain": [
       "{'paths': {'train': 'null',\n",
       "  'dev': 'null',\n",
       "  'vectors': '\"en_core_web_lg\"',\n",
       "  'init_tok2vec': 'null'},\n",
       " 'system': {'gpu_allocator': 'null', 'seed': '0'},\n",
       " 'nlp': {'lang': '\"en\"',\n",
       "  'pipeline': '[\"tok2vec\",\"textcat\"]',\n",
       "  'batch_size': '1000',\n",
       "  'disabled': '[]',\n",
       "  'before_creation': 'null',\n",
       "  'after_creation': 'null',\n",
       "  'after_pipeline_creation': 'null',\n",
       "  'tokenizer': '{\"@tokenizers\":\"spacy.Tokenizer.v1\"}',\n",
       "  'vectors': '{\"@vectors\":\"spacy.Vectors.v1\"}'},\n",
       " 'components': {},\n",
       " 'components.textcat': {'factory': '\"textcat\"',\n",
       "  'scorer': '{\"@scorers\":\"spacy.textcat_scorer.v2\"}',\n",
       "  'threshold': '0.0'},\n",
       " 'components.textcat.model': {'@architectures': '\"spacy.TextCatEnsemble.v2\"',\n",
       "  'no': 'null'},\n",
       " 'components.textcat.model.linear_model': {'@architectures': '\"spacy.TextCatBOW.v2\"',\n",
       "  'exclusive_classes': 'true',\n",
       "  'ngram_size': '1',\n",
       "  'no_output_layer': 'false',\n",
       "  'no': 'null'},\n",
       " 'components.textcat.model.tok2vec': {'@architectures': '\"spacy.Tok2VecListener.v1\"',\n",
       "  'width': '${components.tok2vec.model.encode.width}',\n",
       "  'upstream': '\"*\"'},\n",
       " 'components.tok2vec': {'factory': '\"tok2vec\"'},\n",
       " 'components.tok2vec.model': {'@architectures': '\"spacy.Tok2Vec.v2\"'},\n",
       " 'components.tok2vec.model.embed': {'@architectures': '\"spacy.MultiHashEmbed.v2\"',\n",
       "  'width': '${components.tok2vec.model.encode.width}',\n",
       "  'attrs': '[\"NORM\",\"PREFIX\",\"SUFFIX\",\"SHAPE\"]',\n",
       "  'rows': '[5000,1000,2500,2500]',\n",
       "  'include_static_vectors': 'true'},\n",
       " 'components.tok2vec.model.encode': {'@architectures': '\"spacy.MaxoutWindowEncoder.v2\"',\n",
       "  'width': '256',\n",
       "  'depth': '8',\n",
       "  'window_size': '1',\n",
       "  'maxout_pieces': '3'},\n",
       " 'corpora': {},\n",
       " 'corpora.dev': {'@readers': '\"spacy.Corpus.v1\"',\n",
       "  'path': '${paths.dev}',\n",
       "  'max_length': '0',\n",
       "  'gold_preproc': 'false',\n",
       "  'limit': '0',\n",
       "  'augmenter': 'null'},\n",
       " 'corpora.train': {'@readers': '\"spacy.Corpus.v1\"',\n",
       "  'path': '${paths.train}',\n",
       "  'max_length': '0',\n",
       "  'gold_preproc': 'false',\n",
       "  'limit': '0',\n",
       "  'augmenter': 'null'},\n",
       " 'training': {'dev_corpus': '\"corpora.dev\"',\n",
       "  'train_corpus': '\"corpora.train\"',\n",
       "  'seed': '${system.seed}',\n",
       "  'gpu_allocator': '${system.gpu_allocator}',\n",
       "  'dropout': '0.1',\n",
       "  'accumulate_gradient': '1',\n",
       "  'patience': '1600',\n",
       "  'max_epochs': '0',\n",
       "  'max_steps': '20000',\n",
       "  'eval_frequency': '200',\n",
       "  'frozen_components': '[]',\n",
       "  'annotating_components': '[]',\n",
       "  'before_to_disk': 'null',\n",
       "  'before_update': 'null'},\n",
       " 'training.batcher': {'@batchers': '\"spacy.batch_by_words.v1\"',\n",
       "  'discard_oversize': 'false',\n",
       "  'tolerance': '0.2',\n",
       "  'get_length': 'null'},\n",
       " 'training.batcher.size': {'@schedules': '\"compounding.v1\"',\n",
       "  'start': '100',\n",
       "  'stop': '1000',\n",
       "  'compound': '1.001',\n",
       "  't': '0.0'},\n",
       " 'training.logger': {'@loggers': '\"spacy.ConsoleLogger.v1\"',\n",
       "  'progress_bar': 'false'},\n",
       " 'training.optimizer': {'@optimizers': '\"Adam.v1\"',\n",
       "  'beta1': '0.9',\n",
       "  'beta2': '0.999',\n",
       "  'l2_is_weight_decay': 'true',\n",
       "  'l2': '0.01',\n",
       "  'grad_clip': '1.0',\n",
       "  'use_averages': 'false',\n",
       "  'eps': '0.00000001',\n",
       "  'learn_rate': '0.001'},\n",
       " 'training.score_weights': {'cats_score': '1.0',\n",
       "  'cats_score_desc': 'null',\n",
       "  'cats_micro_p': 'null',\n",
       "  'cats_micro_r': 'null',\n",
       "  'cats_micro_f': 'null',\n",
       "  'cats_macro_p': 'null',\n",
       "  'cats_macro_r': 'null',\n",
       "  'cats_macro_f': 'null',\n",
       "  'cats_macro_auc': 'null',\n",
       "  'cats_f_per_type': 'null'},\n",
       " 'pretraining': {},\n",
       " 'initialize': {'vectors': '${paths.vectors}',\n",
       "  'init_tok2vec': '${paths.init_tok2vec}',\n",
       "  'vocab_data': 'null',\n",
       "  'lookups': 'null',\n",
       "  'before_init': 'null',\n",
       "  'after_init': 'null'},\n",
       " 'initialize.components': {},\n",
       " 'initialize.tokenizer': {}}"
      ]
     },
     "execution_count": 20,
     "metadata": {},
     "output_type": "execute_result"
    }
   ],
   "source": [
    "# view the configuration file\n",
    "file_path = './configs/accuracy_cpu_config.cfg'\n",
    "textcat_config = read_spacy_config(file_path)\n",
    "textcat_config"
   ]
  },
  {
   "cell_type": "code",
   "execution_count": 22,
   "id": "0372a32a-6227-43ba-a815-a85489c594fd",
   "metadata": {
    "execution": {
     "iopub.execute_input": "2023-12-18T11:25:14.463051Z",
     "iopub.status.busy": "2023-12-18T11:25:14.462617Z",
     "iopub.status.idle": "2023-12-18T11:33:08.754529Z",
     "shell.execute_reply": "2023-12-18T11:33:08.753485Z",
     "shell.execute_reply.started": "2023-12-18T11:25:14.463022Z"
    },
    "tags": []
   },
   "outputs": [
    {
     "name": "stdout",
     "output_type": "stream",
     "text": [
      "\u001b[38;5;4mℹ Saving to output directory: outputs\u001b[0m\n",
      "\u001b[38;5;4mℹ Using GPU: 0\u001b[0m\n",
      "\u001b[1m\n",
      "=========================== Initializing pipeline ===========================\u001b[0m\n",
      "\u001b[38;5;2m✔ Initialized pipeline\u001b[0m\n",
      "\u001b[1m\n",
      "============================= Training pipeline =============================\u001b[0m\n",
      "\u001b[38;5;4mℹ Pipeline: ['tok2vec', 'textcat']\u001b[0m\n",
      "\u001b[38;5;4mℹ Initial learn rate: 0.001\u001b[0m\n",
      "E    #       LOSS TOK2VEC  LOSS TEXTCAT  CATS_SCORE  SCORE \n",
      "---  ------  ------------  ------------  ----------  ------\n",
      "  0       0          0.00          0.16        6.39    0.06\n",
      "  0     200         17.95         38.60       14.37    0.14\n",
      "  0     400         30.34         38.16       29.65    0.30\n",
      "  0     600         22.97         33.68       43.78    0.44\n",
      "  0     800         14.53         30.63       51.74    0.52\n",
      "  0    1000         36.00         26.22       43.05    0.43\n",
      "  1    1200         16.56         21.49       40.46    0.40\n",
      "  1    1400         27.72         20.73       73.65    0.74\n",
      "  1    1600         21.78         15.13       71.58    0.72\n",
      "  1    1800         44.47         14.34       73.30    0.73\n",
      "  1    2000         29.83         12.66       76.81    0.77\n",
      "  1    2200         35.36         11.02       87.69    0.88\n",
      "  2    2400         20.99          6.18       87.37    0.87\n",
      "  2    2600         24.56          6.21       90.41    0.90\n",
      "  2    2800         46.43          6.65       90.70    0.91\n",
      "  2    3000         42.19          8.29       88.38    0.88\n",
      "  2    3200         47.47          8.19       88.12    0.88\n",
      "  2    3400         31.04          6.11       61.21    0.61\n",
      "  3    3600         35.87          5.20       90.93    0.91\n",
      "  3    3800         15.77          4.94       86.07    0.86\n",
      "  3    4000         53.65          5.66       85.58    0.86\n",
      "  3    4200         36.51          4.72       94.47    0.94\n",
      "  3    4400         40.79          4.81       92.00    0.92\n",
      "  3    4600         31.71          3.78       92.92    0.93\n",
      "  4    4800         30.39          2.75       91.21    0.91\n",
      "  4    5000         53.39          4.34       94.05    0.94\n",
      "  4    5200         52.14          5.53       92.43    0.92\n",
      "  4    5400         37.33          5.75       91.66    0.92\n",
      "  4    5600         41.47          3.01       89.71    0.90\n",
      "  4    5800         48.40          4.10       94.12    0.94\n",
      "\u001b[38;5;2m✔ Saved pipeline to output directory\u001b[0m\n",
      "outputs/model-last\n",
      "Done in 7.905m.\n"
     ]
    }
   ],
   "source": [
    "# train the model: https://spacy.io/usage/training#quickstart\n",
    "# override various config sections using the syntax: --section.option\n",
    "t0 = time()\n",
    "!python -m spacy train ./configs/accuracy_cpu_config.cfg --output ./outputs --paths.train ./corpora/train.spacy --paths.dev ./corpora/dev.spacy --gpu-id 0\n",
    "print(\"Done in %0.3fm.\" % ((time() - t0)/60))"
   ]
  },
  {
   "cell_type": "code",
   "execution_count": 28,
   "id": "e283e7ee-48d5-467b-b051-e41c0052da3b",
   "metadata": {
    "execution": {
     "iopub.execute_input": "2023-12-18T11:39:30.720252Z",
     "iopub.status.busy": "2023-12-18T11:39:30.719841Z",
     "iopub.status.idle": "2023-12-18T11:40:13.772547Z",
     "shell.execute_reply": "2023-12-18T11:40:13.764102Z",
     "shell.execute_reply.started": "2023-12-18T11:39:30.720224Z"
    },
    "scrolled": true,
    "tags": []
   },
   "outputs": [
    {
     "name": "stdout",
     "output_type": "stream",
     "text": [
      "\u001b[38;5;4mℹ Using CPU\u001b[0m\n",
      "\u001b[38;5;4mℹ To switch to GPU 0, use the option: --gpu-id 0\u001b[0m\n"
     ]
    }
   ],
   "source": [
    "# evaluate model performance\n",
    "!python -m spacy evaluate ./outputs/accuracy-cpu-model-best/ ./corpora/train.spacy"
   ]
  },
  {
   "cell_type": "code",
   "execution_count": 25,
   "id": "14dd95a4-a71b-43e4-851a-2bd6ca3e3e5c",
   "metadata": {
    "execution": {
     "iopub.execute_input": "2023-12-18T11:37:53.216610Z",
     "iopub.status.busy": "2023-12-18T11:37:53.216204Z",
     "iopub.status.idle": "2023-12-18T11:38:04.637874Z",
     "shell.execute_reply": "2023-12-18T11:38:04.637122Z",
     "shell.execute_reply.started": "2023-12-18T11:37:53.216582Z"
    },
    "scrolled": true,
    "tags": []
   },
   "outputs": [
    {
     "name": "stdout",
     "output_type": "stream",
     "text": [
      "\u001b[38;5;4mℹ Using GPU: 0\u001b[0m\n",
      "\u001b[1m\n",
      "================================== Results ==================================\u001b[0m\n",
      "\n",
      "TOK                 100.00\n",
      "TEXTCAT (macro F)   94.47 \n",
      "SPEED               37859 \n",
      "\n",
      "\u001b[1m\n",
      "=========================== Textcat F (per label) ===========================\u001b[0m\n",
      "\n",
      "                    P        R       F\n",
      "sport           95.83   100.00   97.87\n",
      "business        98.31    86.57   92.06\n",
      "tech            90.91    98.04   94.34\n",
      "politics        89.66    96.30   92.86\n",
      "entertainment   98.04    92.59   95.24\n",
      "\n",
      "\u001b[1m\n",
      "======================== Textcat ROC AUC (per label) ========================\u001b[0m\n",
      "\n",
      "                ROC AUC\n",
      "sport              1.00\n",
      "business           0.99\n",
      "tech               1.00\n",
      "politics           0.99\n",
      "entertainment      1.00\n",
      "\n"
     ]
    }
   ],
   "source": [
    "!python -m spacy evaluate ./outputs/accuracy-cpu-model-best/ ./corpora/dev.spacy --gpu-id 0"
   ]
  },
  {
   "cell_type": "code",
   "execution_count": 29,
   "id": "dbc508e2-59da-4928-86ad-a383d41de839",
   "metadata": {
    "execution": {
     "iopub.execute_input": "2023-12-18T11:48:47.236796Z",
     "iopub.status.busy": "2023-12-18T11:48:47.236391Z",
     "iopub.status.idle": "2023-12-18T11:49:24.624861Z",
     "shell.execute_reply": "2023-12-18T11:49:24.624013Z",
     "shell.execute_reply.started": "2023-12-18T11:48:47.236769Z"
    },
    "tags": []
   },
   "outputs": [
    {
     "data": {
      "image/png": "[encoded data removed]",
      "text/plain": [
       "<Figure size 640x480 with 1 Axes>"
      ]
     },
     "metadata": {},
     "output_type": "display_data"
    }
   ],
   "source": [
    "# load the model\n",
    "nlp_accuracy = spacy.load(\"./outputs/accuracy-cpu-model-best\")\n",
    "\n",
    "train_preds = generate_predictions(train, textcat_model=nlp_accuracy)\n",
    "\n",
    "plot_confusion_matrix(train_preds.Actual, train_preds.Predicted, title='Spacy Stacked Ensemble Confusion Matrix')"
   ]
  },
  {
   "cell_type": "code",
   "execution_count": 31,
   "id": "4e76cd64-8344-4871-a8e4-543447e722dd",
   "metadata": {
    "execution": {
     "iopub.execute_input": "2023-12-18T11:55:48.741110Z",
     "iopub.status.busy": "2023-12-18T11:55:48.740737Z",
     "iopub.status.idle": "2023-12-18T11:56:02.407465Z",
     "shell.execute_reply": "2023-12-18T11:56:02.406828Z",
     "shell.execute_reply.started": "2023-12-18T11:55:48.741085Z"
    },
    "tags": []
   },
   "outputs": [
    {
     "name": "stdout",
     "output_type": "stream",
     "text": [
      "Training accuracy: 0.9489932885906041\n",
      "Training F1 score: 0.9488005422471573\n"
     ]
    }
   ],
   "source": [
    "accuracy = accuracy_score(train_preds.Actual, train_preds.Predicted)\n",
    "print(\"Training accuracy:\", accuracy)\n",
    "\n",
    "f1 = f1_score(train_preds.Actual, train_preds.Predicted, average='weighted')\n",
    "print(\"Training F1 score:\", f1)\n",
    "\n",
    "# make predictions\n",
    "test_preds = generate_predictions(test, label_col=None, textcat_model=nlp_accuracy)\n",
    "\n",
    "kaggle_submission = test_preds.loc[:, ['ArticleId', 'PredictedLabel']]\n",
    "kaggle_submission.columns=['ArticleId', 'Category']\n",
    "kaggle_submission.to_csv('./outputs/kaggle submission accurate textcat.csv', index=False)"
   ]
  },
  {
   "cell_type": "markdown",
   "id": "31f4f9f0-a182-40b1-a1fb-b5d735cd26a1",
   "metadata": {},
   "source": [
    "The model performed reasonably well, but not quite as well as the simpler Bag of Words classifier (95% on the training data and 94% on the test data). It appears to have missclassified a reasonable number of political and tech articles as business articles."
   ]
  },
  {
   "cell_type": "markdown",
   "id": "3b1e03dc-ccae-44c2-8a1f-1f24f4eb6167",
   "metadata": {},
   "source": [
    "**The third model trained and evaluated was a CPU-based CNN model.**"
   ]
  },
  {
   "cell_type": "code",
   "execution_count": 40,
   "id": "5d5c7e6c-2825-4441-b4c1-8cfffc1a3c5a",
   "metadata": {
    "execution": {
     "iopub.execute_input": "2023-12-18T12:24:18.545802Z",
     "iopub.status.busy": "2023-12-18T12:24:18.545413Z",
     "iopub.status.idle": "2023-12-18T12:24:18.555142Z",
     "shell.execute_reply": "2023-12-18T12:24:18.554312Z",
     "shell.execute_reply.started": "2023-12-18T12:24:18.545772Z"
    },
    "scrolled": true,
    "tags": []
   },
   "outputs": [
    {
     "data": {
      "text/plain": [
       "{'paths': {'train': 'null',\n",
       "  'dev': 'null',\n",
       "  'vectors': 'null',\n",
       "  'init_tok2vec': 'null'},\n",
       " 'system': {'gpu_allocator': 'null', 'seed': '0'},\n",
       " 'nlp': {'lang': '\"en\"',\n",
       "  'pipeline': '[\"tok2vec\", \"textcat\"]',\n",
       "  'batch_size': '1000',\n",
       "  'disabled': '[]',\n",
       "  'before_creation': 'null',\n",
       "  'after_creation': 'null',\n",
       "  'after_pipeline_creation': 'null',\n",
       "  'tokenizer': '{\"@tokenizers\":\"spacy.Tokenizer.v1\"}',\n",
       "  'vectors': '{\"@vectors\":\"spacy.Vectors.v1\"}'},\n",
       " 'components': {},\n",
       " 'components.textcat': {'factory': '\"textcat\"',\n",
       "  'scorer': '{\"@scorers\":\"spacy.textcat_scorer.v2\"}',\n",
       "  'threshold': '0.0'},\n",
       " 'components.textcat.model': {'@architectures': '\"spacy.TextCatCNN.v2\"',\n",
       "  'exclusive_classes': 'True',\n",
       "  'no': 'null'},\n",
       " 'components.textcat.model.tok2vec': {'@architectures': '\"spacy.Tok2VecListener.v1\"',\n",
       "  'width': '${components.tok2vec.model.width}',\n",
       "  'upstream': '\"*\"'},\n",
       " 'components.tok2vec': {'factory': '\"tok2vec\"'},\n",
       " 'components.tok2vec.model': {'@architectures': '\"spacy.HashEmbedCNN.v2\"',\n",
       "  'pretrained_vectors': 'null',\n",
       "  'width': '96',\n",
       "  'depth': '4',\n",
       "  'embed_size': '2000',\n",
       "  'window_size': '1',\n",
       "  'maxout_pieces': '3',\n",
       "  'subword_features': 'true'},\n",
       " 'corpora': {},\n",
       " 'corpora.dev': {'@readers': '\"spacy.Corpus.v1\"',\n",
       "  'path': '${paths.dev}',\n",
       "  'max_length': '0',\n",
       "  'gold_preproc': 'false',\n",
       "  'limit': '0',\n",
       "  'augmenter': 'null'},\n",
       " 'corpora.train': {'@readers': '\"spacy.Corpus.v1\"',\n",
       "  'path': '${paths.train}',\n",
       "  'max_length': '0',\n",
       "  'gold_preproc': 'false',\n",
       "  'limit': '0',\n",
       "  'augmenter': 'null'},\n",
       " 'training': {'dev_corpus': '\"corpora.dev\"',\n",
       "  'train_corpus': '\"corpora.train\"',\n",
       "  'seed': '${system.seed}',\n",
       "  'gpu_allocator': '${system.gpu_allocator}',\n",
       "  'dropout': '0.1',\n",
       "  'accumulate_gradient': '1',\n",
       "  'patience': '1600',\n",
       "  'max_epochs': '0',\n",
       "  'max_steps': '20000',\n",
       "  'eval_frequency': '200',\n",
       "  'frozen_components': '[]',\n",
       "  'annotating_components': '[]',\n",
       "  'before_to_disk': 'null',\n",
       "  'before_update': 'null'},\n",
       " 'training.batcher': {'@batchers': '\"spacy.batch_by_words.v1\"',\n",
       "  'discard_oversize': 'false',\n",
       "  'tolerance': '0.2',\n",
       "  'get_length': 'null'},\n",
       " 'training.batcher.size': {'@schedules': '\"compounding.v1\"',\n",
       "  'start': '100',\n",
       "  'stop': '1000',\n",
       "  'compound': '1.001',\n",
       "  't': '0.0'},\n",
       " 'training.logger': {'@loggers': '\"spacy.ConsoleLogger.v1\"',\n",
       "  'progress_bar': 'false'},\n",
       " 'training.optimizer': {'@optimizers': '\"Adam.v1\"',\n",
       "  'beta1': '0.9',\n",
       "  'beta2': '0.999',\n",
       "  'l2_is_weight_decay': 'true',\n",
       "  'l2': '0.01',\n",
       "  'grad_clip': '1.0',\n",
       "  'use_averages': 'false',\n",
       "  'eps': '0.00000001',\n",
       "  'learn_rate': '0.001'},\n",
       " 'training.score_weights': {'cats_score': '1.0',\n",
       "  'cats_score_desc': 'null',\n",
       "  'cats_micro_p': 'null',\n",
       "  'cats_micro_r': 'null',\n",
       "  'cats_micro_f': 'null',\n",
       "  'cats_macro_p': 'null',\n",
       "  'cats_macro_r': 'null',\n",
       "  'cats_macro_f': 'null',\n",
       "  'cats_macro_auc': 'null',\n",
       "  'cats_f_per_type': 'null'},\n",
       " 'pretraining': {},\n",
       " 'initialize': {'vectors': '${paths.vectors}',\n",
       "  'init_tok2vec': '${paths.init_tok2vec}',\n",
       "  'vocab_data': 'null',\n",
       "  'lookups': 'null',\n",
       "  'before_init': 'null',\n",
       "  'after_init': 'null'},\n",
       " 'initialize.components': {},\n",
       " 'initialize.tokenizer': {}}"
      ]
     },
     "execution_count": 40,
     "metadata": {},
     "output_type": "execute_result"
    }
   ],
   "source": [
    "# view the configuration file - there was no helpful widget to fill out the configuration\n",
    "file_path = './configs/cnn_cpu_config.cfg'\n",
    "textcat_config = read_spacy_config(file_path)\n",
    "textcat_config"
   ]
  },
  {
   "cell_type": "code",
   "execution_count": 39,
   "id": "04f51249-77e2-4a17-9f02-fffc29d70bf9",
   "metadata": {
    "execution": {
     "iopub.execute_input": "2023-12-18T12:17:02.536414Z",
     "iopub.status.busy": "2023-12-18T12:17:02.535984Z",
     "iopub.status.idle": "2023-12-18T12:20:33.818174Z",
     "shell.execute_reply": "2023-12-18T12:20:33.817199Z",
     "shell.execute_reply.started": "2023-12-18T12:17:02.536387Z"
    },
    "tags": []
   },
   "outputs": [
    {
     "name": "stdout",
     "output_type": "stream",
     "text": [
      "\u001b[38;5;4mℹ Saving to output directory: outputs\u001b[0m\n",
      "\u001b[38;5;4mℹ Using GPU: 0\u001b[0m\n",
      "\u001b[1m\n",
      "=========================== Initializing pipeline ===========================\u001b[0m\n",
      "\u001b[38;5;2m✔ Initialized pipeline\u001b[0m\n",
      "\u001b[1m\n",
      "============================= Training pipeline =============================\u001b[0m\n",
      "\u001b[38;5;4mℹ Pipeline: ['tok2vec', 'textcat']\u001b[0m\n",
      "\u001b[38;5;4mℹ Initial learn rate: 0.001\u001b[0m\n",
      "E    #       LOSS TOK2VEC  LOSS TEXTCAT  CATS_SCORE  SCORE \n",
      "---  ------  ------------  ------------  ----------  ------\n",
      "  0       0          0.00          0.16        5.90    0.06\n",
      "  0     200          0.00         32.21       15.53    0.16\n",
      "  0     400          0.02         23.15       57.57    0.58\n",
      "  0     600          0.03         16.59       73.98    0.74\n",
      "  0     800          0.04         10.89       79.87    0.80\n",
      "  0    1000          0.05          9.43       83.35    0.83\n",
      "  1    1200          0.07          9.16       88.66    0.89\n",
      "  1    1400          0.03          3.60       89.08    0.89\n",
      "  1    1600          0.05          4.87       90.08    0.90\n",
      "  1    1800          0.05          3.34       90.15    0.90\n",
      "  1    2000          0.05          3.89       89.31    0.89\n",
      "  1    2200          0.09          4.60       92.29    0.92\n",
      "  2    2400          0.04          2.06       94.20    0.94\n",
      "  2    2600          0.02          1.43       95.45    0.95\n",
      "  2    2800          0.02          1.18       94.23    0.94\n",
      "  2    3000          0.01          0.55       95.11    0.95\n",
      "  2    3200          0.01          0.51       84.63    0.85\n",
      "  2    3400          0.05          2.18       93.41    0.93\n",
      "  3    3600          0.02          1.14       92.97    0.93\n",
      "  3    3800          0.00          0.32       95.37    0.95\n",
      "  3    4000          0.03          0.85       95.95    0.96\n",
      "  3    4200          0.01          0.20       92.94    0.93\n",
      "  3    4400          0.03          1.26       94.73    0.95\n",
      "  3    4600          0.03          0.70       95.81    0.96\n",
      "  4    4800          0.03          1.32       95.49    0.95\n",
      "  4    5000          0.08          2.06       94.49    0.94\n",
      "  4    5200          0.05          1.35       94.69    0.95\n",
      "  4    5400          0.00          0.10       94.83    0.95\n",
      "  4    5600          0.00          0.00       95.05    0.95\n",
      "\u001b[38;5;2m✔ Saved pipeline to output directory\u001b[0m\n",
      "outputs/model-last\n",
      "Done in 3.521m.\n"
     ]
    }
   ],
   "source": [
    "# train the model: https://spacy.io/usage/training#quickstart\n",
    "# override various config sections using the syntax: --section.option\n",
    "t0 = time()\n",
    "!python -m spacy train ./configs/cnn_cpu_config.cfg --output ./outputs --paths.train ./corpora/train.spacy --paths.dev ./corpora/dev.spacy --gpu-id 0\n",
    "print(\"Done in %0.3fm.\" % ((time() - t0)/60))"
   ]
  },
  {
   "cell_type": "code",
   "execution_count": 43,
   "id": "86ad8a99-a996-4d26-9ada-7cad59d047bd",
   "metadata": {
    "execution": {
     "iopub.execute_input": "2023-12-18T12:24:54.938105Z",
     "iopub.status.busy": "2023-12-18T12:24:54.937701Z",
     "iopub.status.idle": "2023-12-18T12:25:10.698577Z",
     "shell.execute_reply": "2023-12-18T12:25:10.697704Z",
     "shell.execute_reply.started": "2023-12-18T12:24:54.938076Z"
    },
    "tags": []
   },
   "outputs": [
    {
     "name": "stdout",
     "output_type": "stream",
     "text": [
      "\u001b[38;5;4mℹ Using GPU: 0\u001b[0m\n",
      "\u001b[1m\n",
      "================================== Results ==================================\u001b[0m\n",
      "\n",
      "TOK                 100.00\n",
      "TEXTCAT (macro F)   99.73 \n",
      "SPEED               114347\n",
      "\n",
      "\u001b[1m\n",
      "=========================== Textcat F (per label) ===========================\u001b[0m\n",
      "\n",
      "                     P        R        F\n",
      "sport            99.64   100.00    99.82\n",
      "business        100.00    99.63    99.81\n",
      "tech             99.51    99.51    99.51\n",
      "politics        100.00   100.00   100.00\n",
      "entertainment    99.53    99.53    99.53\n",
      "\n",
      "\u001b[1m\n",
      "======================== Textcat ROC AUC (per label) ========================\u001b[0m\n",
      "\n",
      "                ROC AUC\n",
      "sport              1.00\n",
      "business           1.00\n",
      "tech               1.00\n",
      "politics           1.00\n",
      "entertainment      1.00\n",
      "\n"
     ]
    }
   ],
   "source": [
    "# evaluate model performance\n",
    "!python -m spacy evaluate ./outputs/cnn-cpu-model-best/ ./corpora/train.spacy --gpu-id 0"
   ]
  },
  {
   "cell_type": "code",
   "execution_count": 44,
   "id": "61fa5c81-34e7-4920-b290-eeea7ad6a82a",
   "metadata": {
    "execution": {
     "iopub.execute_input": "2023-12-18T12:25:10.701125Z",
     "iopub.status.busy": "2023-12-18T12:25:10.700479Z",
     "iopub.status.idle": "2023-12-18T12:25:19.349522Z",
     "shell.execute_reply": "2023-12-18T12:25:19.348730Z",
     "shell.execute_reply.started": "2023-12-18T12:25:10.701087Z"
    },
    "tags": []
   },
   "outputs": [
    {
     "name": "stdout",
     "output_type": "stream",
     "text": [
      "\u001b[38;5;4mℹ Using GPU: 0\u001b[0m\n",
      "\u001b[1m\n",
      "================================== Results ==================================\u001b[0m\n",
      "\n",
      "TOK                 100.00\n",
      "TEXTCAT (macro F)   95.95 \n",
      "SPEED               51325 \n",
      "\n",
      "\u001b[1m\n",
      "=========================== Textcat F (per label) ===========================\u001b[0m\n",
      "\n",
      "                     P        R       F\n",
      "sport            90.79   100.00   95.17\n",
      "business        100.00    94.03   96.92\n",
      "tech             98.04    98.04   98.04\n",
      "politics         96.30    96.30   96.30\n",
      "entertainment    96.08    90.74   93.33\n",
      "\n",
      "\u001b[1m\n",
      "======================== Textcat ROC AUC (per label) ========================\u001b[0m\n",
      "\n",
      "                ROC AUC\n",
      "sport              1.00\n",
      "business           1.00\n",
      "tech               1.00\n",
      "politics           0.99\n",
      "entertainment      0.99\n",
      "\n"
     ]
    }
   ],
   "source": [
    "!python -m spacy evaluate ./outputs/cnn-cpu-model-best/ ./corpora/dev.spacy --gpu-id 0"
   ]
  },
  {
   "cell_type": "code",
   "execution_count": 45,
   "id": "596994c2-a81d-4d65-bf2a-5af52172926c",
   "metadata": {
    "execution": {
     "iopub.execute_input": "2023-12-18T12:25:59.313025Z",
     "iopub.status.busy": "2023-12-18T12:25:59.312613Z",
     "iopub.status.idle": "2023-12-18T12:26:14.397581Z",
     "shell.execute_reply": "2023-12-18T12:26:14.396797Z",
     "shell.execute_reply.started": "2023-12-18T12:25:59.312996Z"
    },
    "tags": []
   },
   "outputs": [
    {
     "data": {
      "image/png": "[encoded data removed]",
      "text/plain": [
       "<Figure size 640x480 with 1 Axes>"
      ]
     },
     "metadata": {},
     "output_type": "display_data"
    }
   ],
   "source": [
    "# load the model\n",
    "nlp_cnn = spacy.load(\"./outputs/cnn-cpu-model-best\")\n",
    "\n",
    "train_preds = generate_predictions(train, textcat_model=nlp_cnn)\n",
    "\n",
    "plot_confusion_matrix(train_preds.Actual, train_preds.Predicted, title='Spacy CNN Confusion Matrix')"
   ]
  },
  {
   "cell_type": "code",
   "execution_count": 46,
   "id": "3b674ba3-672b-418a-9cc5-43a350583ff7",
   "metadata": {
    "execution": {
     "iopub.execute_input": "2023-12-18T12:26:14.399117Z",
     "iopub.status.busy": "2023-12-18T12:26:14.398800Z",
     "iopub.status.idle": "2023-12-18T12:26:21.239066Z",
     "shell.execute_reply": "2023-12-18T12:26:21.238357Z",
     "shell.execute_reply.started": "2023-12-18T12:26:14.399095Z"
    },
    "tags": []
   },
   "outputs": [
    {
     "name": "stdout",
     "output_type": "stream",
     "text": [
      "Training accuracy: 0.9892617449664429\n",
      "Training F1 score: 0.9892581389403271\n"
     ]
    }
   ],
   "source": [
    "accuracy = accuracy_score(train_preds.Actual, train_preds.Predicted)\n",
    "print(\"Training accuracy:\", accuracy)\n",
    "\n",
    "f1 = f1_score(train_preds.Actual, train_preds.Predicted, average='weighted')\n",
    "print(\"Training F1 score:\", f1)\n",
    "\n",
    "# make predictions\n",
    "test_preds = generate_predictions(test, label_col=None, textcat_model=nlp_cnn)\n",
    "\n",
    "kaggle_submission = test_preds.loc[:, ['ArticleId', 'PredictedLabel']]\n",
    "kaggle_submission.columns=['ArticleId', 'Category']\n",
    "kaggle_submission.to_csv('./outputs/kaggle submission cnn textcat.csv', index=False)"
   ]
  },
  {
   "cell_type": "markdown",
   "id": "6df1e43a-3157-494b-9888-ea85b258e88e",
   "metadata": {},
   "source": [
    "Model performance was close to the Bag of Words approach, but dropped a little on the test data (98% vs 94%). Although the margins are quite small, there was also more of a gap between the train and dev set accuracies, indicating that some overfitting might have been occurring. This model struggled most (relatively speaking) with distinguishing sports and entertainment articles - i.e. missclassifying entertainment articles as sport but not the other way around.\n",
    "\n",
    "**The fourth model trained and evaluated was a transformer-based CNN model.**\n",
    "\n",
    "Rejig the config file for **GPU efficiency**.\n",
    "- Step 1: generate a base config file using https://spacy.io/usage/training#quickstart:\n",
    "    - Components: textcat\n",
    "    - Text classification: Exclusive categories\n",
    "    - Hardware: GPU (transformer)\n",
    "    - Optimise for: efficiency\n",
    "- Step 2: Create a complete config file with all the other components auto-filled to their defaults"
   ]
  },
  {
   "cell_type": "code",
   "execution_count": 47,
   "id": "a189603e-b361-47cc-bcb5-2cff45269c1d",
   "metadata": {
    "execution": {
     "iopub.execute_input": "2023-12-18T12:36:12.942815Z",
     "iopub.status.busy": "2023-12-18T12:36:12.942436Z",
     "iopub.status.idle": "2023-12-18T12:36:16.922093Z",
     "shell.execute_reply": "2023-12-18T12:36:16.921334Z",
     "shell.execute_reply.started": "2023-12-18T12:36:12.942789Z"
    },
    "scrolled": true,
    "tags": []
   },
   "outputs": [
    {
     "name": "stdout",
     "output_type": "stream",
     "text": [
      "\u001b[38;5;2m✔ Auto-filled config with all values\u001b[0m\n",
      "\u001b[1m\n",
      "============================= START CONFIG DIFF =============================\u001b[0m\n",
      "\n",
      "[paths]\n",
      "train = null\n",
      "dev = null\n",
      "vectors = null\n",
      "\u001b[38;5;16;48;5;2minit_tok2vec = null\u001b[0m\n",
      "\n",
      "[system]\n",
      "gpu_allocator = \"pytorch\"\n",
      "\u001b[38;5;16;48;5;2mseed = 0\u001b[0m\n",
      "\n",
      "[nlp]\n",
      "lang = \"en\"\n",
      "pipeline = [\"transformer\",\"textcat\"]\n",
      "batch_size = 128\n",
      "\u001b[38;5;16;48;5;2mdisabled = []\u001b[0m\n",
      "\u001b[38;5;16;48;5;2mbefore_creation = null\u001b[0m\n",
      "\u001b[38;5;16;48;5;2mafter_creation = null\u001b[0m\n",
      "\u001b[38;5;16;48;5;2mafter_pipeline_creation = null\u001b[0m\n",
      "\u001b[38;5;16;48;5;2mtokenizer = {\"@tokenizers\":\"spacy.Tokenizer.v1\"}\u001b[0m\n",
      "\u001b[38;5;16;48;5;2mvectors = {\"@vectors\":\"spacy.Vectors.v1\"}\u001b[0m\n",
      "\n",
      "[components]\n",
      "\n",
      "[components.textcat]\n",
      "factory = \"textcat\"\n",
      "\u001b[38;5;16;48;5;2mscorer = {\"@scorers\":\"spacy.textcat_scorer.v2\"}\u001b[0m\n",
      "\u001b[38;5;16;48;5;2mthreshold = 0.0\u001b[0m\n",
      "\n",
      "[components.textcat.model]\n",
      "@architectures = \"spacy.TextCatCNN.v2\"\n",
      "exclusive_classes = true\n",
      "nO = null\n",
      "\n",
      "[components.textcat.model.tok2vec]\n",
      "@architectures = \"spacy-transformers.TransformerListener.v1\"\n",
      "grad_factor = 1.0\n",
      "pooling = {\"@layers\":\"reduce_mean.v1\"}\n",
      "\u001b[38;5;16;48;5;2mupstream = \"*\"\u001b[0m\n",
      "\n",
      "[components.transformer]\n",
      "factory = \"transformer\"\n",
      "\u001b[38;5;16;48;5;2mmax_batch_items = 4096\u001b[0m\n",
      "\u001b[38;5;16;48;5;2mset_extra_annotations = {\"@annotation_setters\":\"spacy-transformers.null_annotation_setter.v1\"}\u001b[0m\n",
      "\n",
      "[components.transformer.model]\n",
      "@architectures = \"spacy-transformers.TransformerModel.v3\"\n",
      "name = \"roberta-base\"\n",
      "\u001b[38;5;16;48;5;2mmixed_precision = false\u001b[0m\n",
      "\n",
      "[components.transformer.model.get_spans]\n",
      "@span_getters = \"spacy-transformers.strided_spans.v1\"\n",
      "window = 128\n",
      "stride = 96\n",
      "\n",
      "\u001b[38;5;16;48;5;2m[components.transformer.model.grad_scaler_config]\u001b[0m\n",
      "\u001b[38;5;16;48;5;2m\u001b[0m\n",
      "[components.transformer.model.tokenizer_config]\n",
      "use_fast = true\n",
      "\u001b[38;5;16;48;5;2m\u001b[0m\n",
      "\u001b[38;5;16;48;5;2m[components.transformer.model.transformer_config]\u001b[0m\n",
      "\n",
      "[corpora]\n",
      "\n",
      "[corpora.dev]\n",
      "@readers = \"spacy.Corpus.v1\"\n",
      "path = ${paths.dev}\n",
      "max_length = 0\n",
      "\u001b[38;5;16;48;5;2mgold_preproc = false\u001b[0m\n",
      "\u001b[38;5;16;48;5;2mlimit = 0\u001b[0m\n",
      "\u001b[38;5;16;48;5;2maugmenter = null\u001b[0m\n",
      "\n",
      "[corpora.train]\n",
      "@readers = \"spacy.Corpus.v1\"\n",
      "path = ${paths.train}\n",
      "max_length = 0\n",
      "\u001b[38;5;16;48;5;2mgold_preproc = false\u001b[0m\n",
      "\u001b[38;5;16;48;5;2mlimit = 0\u001b[0m\n",
      "\u001b[38;5;16;48;5;2maugmenter = null\u001b[0m\n",
      "\n",
      "[training]\n",
      "accumulate_gradient = 3\n",
      "dev_corpus = \"corpora.dev\"\n",
      "train_corpus = \"corpora.train\"\n",
      "\u001b[38;5;16;48;5;2mseed = ${system.seed}\u001b[0m\n",
      "\u001b[38;5;16;48;5;2mgpu_allocator = ${system.gpu_allocator}\u001b[0m\n",
      "\u001b[38;5;16;48;5;2mdropout = 0.1\u001b[0m\n",
      "\u001b[38;5;16;48;5;2mpatience = 1600\u001b[0m\n",
      "\u001b[38;5;16;48;5;2mmax_epochs = 0\u001b[0m\n",
      "\u001b[38;5;16;48;5;2mmax_steps = 20000\u001b[0m\n",
      "\u001b[38;5;16;48;5;2meval_frequency = 200\u001b[0m\n",
      "\u001b[38;5;16;48;5;2mfrozen_components = []\u001b[0m\n",
      "\u001b[38;5;16;48;5;2mannotating_components = []\u001b[0m\n",
      "\u001b[38;5;16;48;5;2mbefore_to_disk = null\u001b[0m\n",
      "\u001b[38;5;16;48;5;2mbefore_update = null\u001b[0m\n",
      "\n",
      "[training.batcher]\n",
      "@batchers = \"spacy.batch_by_padded.v1\"\n",
      "discard_oversize = true\n",
      "size = 2000\n",
      "buffer = 256\n",
      "\u001b[38;5;16;48;5;2mget_length = null\u001b[0m\n",
      "\u001b[38;5;16;48;5;2m\u001b[0m\n",
      "\u001b[38;5;16;48;5;2m[training.logger]\u001b[0m\n",
      "\u001b[38;5;16;48;5;2m@loggers = \"spacy.ConsoleLogger.v1\"\u001b[0m\n",
      "\u001b[38;5;16;48;5;2mprogress_bar = false\u001b[0m\n",
      "\n",
      "[training.optimizer]\n",
      "@optimizers = \"Adam.v1\"\n",
      "\u001b[38;5;16;48;5;2mbeta1 = 0.9\u001b[0m\n",
      "\u001b[38;5;16;48;5;2mbeta2 = 0.999\u001b[0m\n",
      "\u001b[38;5;16;48;5;2mL2_is_weight_decay = true\u001b[0m\n",
      "\u001b[38;5;16;48;5;2mL2 = 0.01\u001b[0m\n",
      "\u001b[38;5;16;48;5;2mgrad_clip = 1.0\u001b[0m\n",
      "\u001b[38;5;16;48;5;2muse_averages = false\u001b[0m\n",
      "\u001b[38;5;16;48;5;2meps = 0.00000001\u001b[0m\n",
      "\n",
      "[training.optimizer.learn_rate]\n",
      "@schedules = \"warmup_linear.v1\"\n",
      "warmup_steps = 250\n",
      "total_steps = 20000\n",
      "initial_rate = 0.00005\n",
      "\n",
      "\u001b[38;5;16;48;5;2m[training.score_weights]\u001b[0m\n",
      "\u001b[38;5;16;48;5;2mcats_score = 1.0\u001b[0m\n",
      "\u001b[38;5;16;48;5;2mcats_score_desc = null\u001b[0m\n",
      "\u001b[38;5;16;48;5;2mcats_micro_p = null\u001b[0m\n",
      "\u001b[38;5;16;48;5;2mcats_micro_r = null\u001b[0m\n",
      "\u001b[38;5;16;48;5;2mcats_micro_f = null\u001b[0m\n",
      "\u001b[38;5;16;48;5;2mcats_macro_p = null\u001b[0m\n",
      "\u001b[38;5;16;48;5;2mcats_macro_r = null\u001b[0m\n",
      "\u001b[38;5;16;48;5;2mcats_macro_f = null\u001b[0m\n",
      "\u001b[38;5;16;48;5;2mcats_macro_auc = null\u001b[0m\n",
      "\u001b[38;5;16;48;5;2mcats_f_per_type = null\u001b[0m\n",
      "\u001b[38;5;16;48;5;2m\u001b[0m\n",
      "\u001b[38;5;16;48;5;2m[pretraining]\u001b[0m\n",
      "\u001b[38;5;16;48;5;2m\u001b[0m\n",
      "[initialize]\n",
      "vectors = ${paths.vectors}\n",
      "\u001b[38;5;16;48;5;2minit_tok2vec = ${paths.init_tok2vec}\u001b[0m\n",
      "\u001b[38;5;16;48;5;2mvocab_data = null\u001b[0m\n",
      "\u001b[38;5;16;48;5;2mlookups = null\u001b[0m\n",
      "\u001b[38;5;16;48;5;2mbefore_init = null\u001b[0m\n",
      "\u001b[38;5;16;48;5;2mafter_init = null\u001b[0m\n",
      "\u001b[38;5;16;48;5;2m\u001b[0m\n",
      "\u001b[38;5;16;48;5;2m[initialize.components]\u001b[0m\n",
      "\u001b[38;5;16;48;5;2m\u001b[0m\n",
      "\u001b[38;5;16;48;5;2m[initialize.tokenizer]\u001b[0m\n",
      "\u001b[1m\n",
      "============================== END CONFIG DIFF ==============================\u001b[0m\n",
      "\n",
      "\u001b[38;5;2m✔ Saved config\u001b[0m\n",
      "configs/efficiency_gpu_config.cfg\n",
      "You can now add your data and train your pipeline:\n",
      "python -m spacy train efficiency_gpu_config.cfg --paths.train ./train.spacy --paths.dev ./dev.spacy\n"
     ]
    }
   ],
   "source": [
    "# CLI command\n",
    "!python -m spacy init fill-config ./configs/base_efficiency_gpu_config.cfg ./configs/efficiency_gpu_config.cfg --diff"
   ]
  },
  {
   "cell_type": "code",
   "execution_count": 48,
   "id": "d5cbcec9-6df4-4bf9-b202-a695dfe56f75",
   "metadata": {
    "execution": {
     "iopub.execute_input": "2023-12-18T12:37:19.309507Z",
     "iopub.status.busy": "2023-12-18T12:37:19.309083Z",
     "iopub.status.idle": "2023-12-18T12:37:19.320158Z",
     "shell.execute_reply": "2023-12-18T12:37:19.319422Z",
     "shell.execute_reply.started": "2023-12-18T12:37:19.309479Z"
    },
    "scrolled": true,
    "tags": []
   },
   "outputs": [
    {
     "data": {
      "text/plain": [
       "{'paths': {'train': 'null',\n",
       "  'dev': 'null',\n",
       "  'vectors': 'null',\n",
       "  'init_tok2vec': 'null'},\n",
       " 'system': {'gpu_allocator': '\"pytorch\"', 'seed': '0'},\n",
       " 'nlp': {'lang': '\"en\"',\n",
       "  'pipeline': '[\"transformer\",\"textcat\"]',\n",
       "  'batch_size': '128',\n",
       "  'disabled': '[]',\n",
       "  'before_creation': 'null',\n",
       "  'after_creation': 'null',\n",
       "  'after_pipeline_creation': 'null',\n",
       "  'tokenizer': '{\"@tokenizers\":\"spacy.Tokenizer.v1\"}',\n",
       "  'vectors': '{\"@vectors\":\"spacy.Vectors.v1\"}'},\n",
       " 'components': {},\n",
       " 'components.textcat': {'factory': '\"textcat\"',\n",
       "  'scorer': '{\"@scorers\":\"spacy.textcat_scorer.v2\"}',\n",
       "  'threshold': '0.0'},\n",
       " 'components.textcat.model': {'@architectures': '\"spacy.TextCatCNN.v2\"',\n",
       "  'exclusive_classes': 'true',\n",
       "  'no': 'null'},\n",
       " 'components.textcat.model.tok2vec': {'@architectures': '\"spacy-transformers.TransformerListener.v1\"',\n",
       "  'grad_factor': '1.0',\n",
       "  'pooling': '{\"@layers\":\"reduce_mean.v1\"}',\n",
       "  'upstream': '\"*\"'},\n",
       " 'components.transformer': {'factory': '\"transformer\"',\n",
       "  'max_batch_items': '4096',\n",
       "  'set_extra_annotations': '{\"@annotation_setters\":\"spacy-transformers.null_annotation_setter.v1\"}'},\n",
       " 'components.transformer.model': {'@architectures': '\"spacy-transformers.TransformerModel.v3\"',\n",
       "  'name': '\"roberta-base\"',\n",
       "  'mixed_precision': 'false'},\n",
       " 'components.transformer.model.get_spans': {'@span_getters': '\"spacy-transformers.strided_spans.v1\"',\n",
       "  'window': '128',\n",
       "  'stride': '96'},\n",
       " 'components.transformer.model.grad_scaler_config': {},\n",
       " 'components.transformer.model.tokenizer_config': {'use_fast': 'true'},\n",
       " 'components.transformer.model.transformer_config': {},\n",
       " 'corpora': {},\n",
       " 'corpora.dev': {'@readers': '\"spacy.Corpus.v1\"',\n",
       "  'path': '${paths.dev}',\n",
       "  'max_length': '0',\n",
       "  'gold_preproc': 'false',\n",
       "  'limit': '0',\n",
       "  'augmenter': 'null'},\n",
       " 'corpora.train': {'@readers': '\"spacy.Corpus.v1\"',\n",
       "  'path': '${paths.train}',\n",
       "  'max_length': '0',\n",
       "  'gold_preproc': 'false',\n",
       "  'limit': '0',\n",
       "  'augmenter': 'null'},\n",
       " 'training': {'accumulate_gradient': '3',\n",
       "  'dev_corpus': '\"corpora.dev\"',\n",
       "  'train_corpus': '\"corpora.train\"',\n",
       "  'seed': '${system.seed}',\n",
       "  'gpu_allocator': '${system.gpu_allocator}',\n",
       "  'dropout': '0.1',\n",
       "  'patience': '1600',\n",
       "  'max_epochs': '0',\n",
       "  'max_steps': '20000',\n",
       "  'eval_frequency': '200',\n",
       "  'frozen_components': '[]',\n",
       "  'annotating_components': '[]',\n",
       "  'before_to_disk': 'null',\n",
       "  'before_update': 'null'},\n",
       " 'training.batcher': {'@batchers': '\"spacy.batch_by_padded.v1\"',\n",
       "  'discard_oversize': 'true',\n",
       "  'size': '2000',\n",
       "  'buffer': '256',\n",
       "  'get_length': 'null'},\n",
       " 'training.logger': {'@loggers': '\"spacy.ConsoleLogger.v1\"',\n",
       "  'progress_bar': 'false'},\n",
       " 'training.optimizer': {'@optimizers': '\"Adam.v1\"',\n",
       "  'beta1': '0.9',\n",
       "  'beta2': '0.999',\n",
       "  'l2_is_weight_decay': 'true',\n",
       "  'l2': '0.01',\n",
       "  'grad_clip': '1.0',\n",
       "  'use_averages': 'false',\n",
       "  'eps': '0.00000001'},\n",
       " 'training.optimizer.learn_rate': {'@schedules': '\"warmup_linear.v1\"',\n",
       "  'warmup_steps': '250',\n",
       "  'total_steps': '20000',\n",
       "  'initial_rate': '0.00005'},\n",
       " 'training.score_weights': {'cats_score': '1.0',\n",
       "  'cats_score_desc': 'null',\n",
       "  'cats_micro_p': 'null',\n",
       "  'cats_micro_r': 'null',\n",
       "  'cats_micro_f': 'null',\n",
       "  'cats_macro_p': 'null',\n",
       "  'cats_macro_r': 'null',\n",
       "  'cats_macro_f': 'null',\n",
       "  'cats_macro_auc': 'null',\n",
       "  'cats_f_per_type': 'null'},\n",
       " 'pretraining': {},\n",
       " 'initialize': {'vectors': '${paths.vectors}',\n",
       "  'init_tok2vec': '${paths.init_tok2vec}',\n",
       "  'vocab_data': 'null',\n",
       "  'lookups': 'null',\n",
       "  'before_init': 'null',\n",
       "  'after_init': 'null'},\n",
       " 'initialize.components': {},\n",
       " 'initialize.tokenizer': {}}"
      ]
     },
     "execution_count": 48,
     "metadata": {},
     "output_type": "execute_result"
    }
   ],
   "source": [
    "# view the configuration file\n",
    "file_path = './configs/efficiency_gpu_config.cfg'\n",
    "textcat_config = read_spacy_config(file_path)\n",
    "textcat_config"
   ]
  },
  {
   "cell_type": "code",
   "execution_count": 49,
   "id": "9d7f8b81-abe6-47d0-9fa6-4aac20ed2b4c",
   "metadata": {
    "execution": {
     "iopub.execute_input": "2023-12-18T12:37:42.931101Z",
     "iopub.status.busy": "2023-12-18T12:37:42.930436Z",
     "iopub.status.idle": "2023-12-18T13:07:49.309180Z",
     "shell.execute_reply": "2023-12-18T13:07:49.308203Z",
     "shell.execute_reply.started": "2023-12-18T12:37:42.931072Z"
    },
    "tags": []
   },
   "outputs": [
    {
     "name": "stdout",
     "output_type": "stream",
     "text": [
      "\u001b[38;5;4mℹ Saving to output directory: outputs\u001b[0m\n",
      "\u001b[38;5;4mℹ Using GPU: 0\u001b[0m\n",
      "\u001b[1m\n",
      "=========================== Initializing pipeline ===========================\u001b[0m\n",
      "config.json: 100%|█████████████████████████████| 481/481 [00:00<00:00, 4.36MB/s]\n",
      "vocab.json: 100%|████████████████████████████| 899k/899k [00:00<00:00, 68.1MB/s]\n",
      "merges.txt: 100%|████████████████████████████| 456k/456k [00:00<00:00, 20.0MB/s]\n",
      "tokenizer.json: 100%|██████████████████████| 1.36M/1.36M [00:00<00:00, 48.4MB/s]\n",
      "model.safetensors: 100%|██████████████████████| 499M/499M [00:01<00:00, 482MB/s]\n",
      "Some weights of RobertaModel were not initialized from the model checkpoint at roberta-base and are newly initialized: ['roberta.pooler.dense.weight', 'roberta.pooler.dense.bias']\n",
      "You should probably TRAIN this model on a down-stream task to be able to use it for predictions and inference.\n",
      "\u001b[38;5;2m✔ Initialized pipeline\u001b[0m\n",
      "\u001b[1m\n",
      "============================= Training pipeline =============================\u001b[0m\n",
      "\u001b[38;5;4mℹ Pipeline: ['transformer', 'textcat']\u001b[0m\n",
      "\u001b[38;5;4mℹ Initial learn rate: 0.0\u001b[0m\n",
      "E    #       LOSS TRANS...  LOSS TEXTCAT  CATS_SCORE  SCORE \n",
      "---  ------  -------------  ------------  ----------  ------\n",
      "  0       0           0.00          0.16        7.58    0.08\n",
      "  0     200           0.00         70.30       92.48    0.92\n",
      "  1     400           0.00         12.60       95.12    0.95\n",
      "  2     600           0.01          5.36       96.24    0.96\n",
      "  2     800           0.00          3.35       95.08    0.95\n",
      "  3    1000           0.01          4.20       96.59    0.97\n",
      "  4    1200           0.01          3.07       97.31    0.97\n",
      "  4    1400           0.01          5.13       97.19    0.97\n",
      "  5    1600           0.01          2.45       96.84    0.97\n",
      "  6    1800           0.01          4.01       96.21    0.96\n",
      "  6    2000           0.03          6.99       57.47    0.57\n",
      "  7    2200           0.12         22.98       68.71    0.69\n",
      "  8    2400           0.15         28.11       71.88    0.72\n",
      "  8    2600           0.12         25.27       70.24    0.70\n",
      "  9    2800           0.16         31.18       68.81    0.69\n",
      "\u001b[38;5;2m✔ Saved pipeline to output directory\u001b[0m\n",
      "outputs/model-last\n",
      "Done in 30.106m.\n"
     ]
    }
   ],
   "source": [
    "# train the model: https://spacy.io/usage/training#quickstart\n",
    "# override various config sections using the syntax: --section.option\n",
    "t0 = time()\n",
    "!python -m spacy train ./configs/efficiency_gpu_config.cfg --output ./outputs --paths.train ./corpora/train.spacy --paths.dev ./corpora/dev.spacy --gpu-id 0\n",
    "print(\"Done in %0.3fm.\" % ((time() - t0)/60))"
   ]
  },
  {
   "cell_type": "code",
   "execution_count": 50,
   "id": "2bb0f0db-5c63-4773-b471-986e99f6b5c6",
   "metadata": {
    "execution": {
     "iopub.execute_input": "2023-12-18T13:08:12.607113Z",
     "iopub.status.busy": "2023-12-18T13:08:12.606694Z",
     "iopub.status.idle": "2023-12-18T13:09:16.565674Z",
     "shell.execute_reply": "2023-12-18T13:09:16.564799Z",
     "shell.execute_reply.started": "2023-12-18T13:08:12.607078Z"
    },
    "tags": []
   },
   "outputs": [
    {
     "name": "stdout",
     "output_type": "stream",
     "text": [
      "\u001b[38;5;4mℹ Using GPU: 0\u001b[0m\n",
      "\u001b[1m\n",
      "================================== Results ==================================\u001b[0m\n",
      "\n",
      "TOK                 100.00\n",
      "TEXTCAT (macro F)   98.76 \n",
      "SPEED               10382 \n",
      "\n",
      "\u001b[1m\n",
      "=========================== Textcat F (per label) ===========================\u001b[0m\n",
      "\n",
      "                     P       R       F\n",
      "sport           100.00   99.64   99.82\n",
      "business         98.15   98.88   98.52\n",
      "tech             98.49   96.55   97.51\n",
      "politics         99.08   99.08   99.08\n",
      "entertainment    98.17   99.53   98.85\n",
      "\n",
      "\u001b[1m\n",
      "======================== Textcat ROC AUC (per label) ========================\u001b[0m\n",
      "\n",
      "                ROC AUC\n",
      "sport              1.00\n",
      "business           1.00\n",
      "tech               1.00\n",
      "politics           1.00\n",
      "entertainment      1.00\n",
      "\n"
     ]
    }
   ],
   "source": [
    "# evaluate model performance\n",
    "!python -m spacy evaluate ./outputs/efficiency-gpu-model-best/ ./corpora/train.spacy --gpu-id 0"
   ]
  },
  {
   "cell_type": "code",
   "execution_count": 51,
   "id": "3532920a-35bd-42ad-9e00-0830b15c68f2",
   "metadata": {
    "execution": {
     "iopub.execute_input": "2023-12-18T13:09:16.568199Z",
     "iopub.status.busy": "2023-12-18T13:09:16.567747Z",
     "iopub.status.idle": "2023-12-18T13:09:40.556200Z",
     "shell.execute_reply": "2023-12-18T13:09:40.555329Z",
     "shell.execute_reply.started": "2023-12-18T13:09:16.568157Z"
    },
    "tags": []
   },
   "outputs": [
    {
     "name": "stdout",
     "output_type": "stream",
     "text": [
      "\u001b[38;5;4mℹ Using GPU: 0\u001b[0m\n",
      "\u001b[1m\n",
      "================================== Results ==================================\u001b[0m\n",
      "\n",
      "TOK                 100.00\n",
      "TEXTCAT (macro F)   97.31 \n",
      "SPEED               9112  \n",
      "\n",
      "\u001b[1m\n",
      "=========================== Textcat F (per label) ===========================\u001b[0m\n",
      "\n",
      "                     P       R       F\n",
      "sport            98.55   98.55   98.55\n",
      "business         96.97   95.52   96.24\n",
      "tech            100.00   98.04   99.01\n",
      "politics         91.23   96.30   93.69\n",
      "entertainment   100.00   98.15   99.07\n",
      "\n",
      "\u001b[1m\n",
      "======================== Textcat ROC AUC (per label) ========================\u001b[0m\n",
      "\n",
      "                ROC AUC\n",
      "sport              1.00\n",
      "business           0.99\n",
      "tech               1.00\n",
      "politics           1.00\n",
      "entertainment      1.00\n",
      "\n"
     ]
    }
   ],
   "source": [
    "!python -m spacy evaluate ./outputs/efficiency-gpu-model-best/ ./corpora/dev.spacy --gpu-id 0"
   ]
  },
  {
   "cell_type": "code",
   "execution_count": 53,
   "id": "75e7cfe3-9373-4f21-bd15-f00efa5001ed",
   "metadata": {
    "execution": {
     "iopub.execute_input": "2023-12-18T13:10:48.575840Z",
     "iopub.status.busy": "2023-12-18T13:10:48.575444Z",
     "iopub.status.idle": "2023-12-18T13:12:22.217783Z",
     "shell.execute_reply": "2023-12-18T13:12:22.217037Z",
     "shell.execute_reply.started": "2023-12-18T13:10:48.575812Z"
    },
    "tags": []
   },
   "outputs": [
    {
     "data": {
      "image/png": "[encoded data removed]",
      "text/plain": [
       "<Figure size 640x480 with 1 Axes>"
      ]
     },
     "metadata": {},
     "output_type": "display_data"
    }
   ],
   "source": [
    "# load the model\n",
    "nlp_efficiency_gpu = spacy.load(\"./outputs/efficiency-gpu-model-best\")\n",
    "\n",
    "train_preds = generate_predictions(train, textcat_model=nlp_efficiency_gpu)\n",
    "\n",
    "plot_confusion_matrix(train_preds.Actual, train_preds.Predicted, title='Spacy Transformer CNN Confusion Matrix')"
   ]
  },
  {
   "cell_type": "code",
   "execution_count": 54,
   "id": "43cd0e27-85f8-409e-b582-215870a0f121",
   "metadata": {
    "execution": {
     "iopub.execute_input": "2023-12-18T13:12:22.219996Z",
     "iopub.status.busy": "2023-12-18T13:12:22.219378Z",
     "iopub.status.idle": "2023-12-18T13:13:08.126658Z",
     "shell.execute_reply": "2023-12-18T13:13:08.126044Z",
     "shell.execute_reply.started": "2023-12-18T13:12:22.219958Z"
    },
    "tags": []
   },
   "outputs": [
    {
     "name": "stdout",
     "output_type": "stream",
     "text": [
      "Training accuracy: 0.9852348993288591\n",
      "Training F1 score: 0.9852316714422409\n"
     ]
    }
   ],
   "source": [
    "accuracy = accuracy_score(train_preds.Actual, train_preds.Predicted)\n",
    "print(\"Training accuracy:\", accuracy)\n",
    "\n",
    "f1 = f1_score(train_preds.Actual, train_preds.Predicted, average='weighted')\n",
    "print(\"Training F1 score:\", f1)\n",
    "\n",
    "# make predictions\n",
    "test_preds = generate_predictions(test, label_col=None, textcat_model=nlp_efficiency_gpu)\n",
    "\n",
    "kaggle_submission = test_preds.loc[:, ['ArticleId', 'PredictedLabel']]\n",
    "kaggle_submission.columns=['ArticleId', 'Category']\n",
    "kaggle_submission.to_csv('./outputs/kaggle submission efficient gpu textcat.csv', index=False)"
   ]
  },
  {
   "cell_type": "markdown",
   "id": "fac5d4d1-d59e-4b81-883d-88489182d737",
   "metadata": {},
   "source": [
    "Model performance on all datasets was just behind the Bag of Words approach (99% on the training data and 97% on the test data.)\n",
    "\n",
    "**The fifth and final model trained and evaluated was a transformer-based stacked ensemble model.**\n",
    "\n",
    "Rejig the config file for **GPU accuracy**.\n",
    "- Step 1: generate a base config file using https://spacy.io/usage/training#quickstart:\n",
    "    - Components: textcat\n",
    "    - Text classification: Exclusive categories\n",
    "    - Hardware: GPU\n",
    "    - Optimise for: accuracy\n",
    "- Step 2: Create a complete config file with all the other components auto-filled to their defaults"
   ]
  },
  {
   "cell_type": "code",
   "execution_count": 55,
   "id": "5ae30051-4184-494f-903a-8e0095a96ff5",
   "metadata": {
    "execution": {
     "iopub.execute_input": "2023-12-18T13:13:08.127819Z",
     "iopub.status.busy": "2023-12-18T13:13:08.127586Z",
     "iopub.status.idle": "2023-12-18T13:13:12.096335Z",
     "shell.execute_reply": "2023-12-18T13:13:12.095553Z",
     "shell.execute_reply.started": "2023-12-18T13:13:08.127797Z"
    },
    "scrolled": true,
    "tags": []
   },
   "outputs": [
    {
     "name": "stdout",
     "output_type": "stream",
     "text": [
      "huggingface/tokenizers: The current process just got forked, after parallelism has already been used. Disabling parallelism to avoid deadlocks...\n",
      "To disable this warning, you can either:\n",
      "\t- Avoid using `tokenizers` before the fork if possible\n",
      "\t- Explicitly set the environment variable TOKENIZERS_PARALLELISM=(true | false)\n",
      "\u001b[38;5;2m✔ Auto-filled config with all values\u001b[0m\n",
      "\u001b[1m\n",
      "============================= START CONFIG DIFF =============================\u001b[0m\n",
      "\n",
      "[paths]\n",
      "train = null\n",
      "dev = null\n",
      "vectors = null\n",
      "\u001b[38;5;16;48;5;2minit_tok2vec = null\u001b[0m\n",
      "\n",
      "[system]\n",
      "gpu_allocator = \"pytorch\"\n",
      "\u001b[38;5;16;48;5;2mseed = 0\u001b[0m\n",
      "\n",
      "[nlp]\n",
      "lang = \"en\"\n",
      "pipeline = [\"transformer\",\"textcat\"]\n",
      "batch_size = 128\n",
      "\u001b[38;5;16;48;5;2mdisabled = []\u001b[0m\n",
      "\u001b[38;5;16;48;5;2mbefore_creation = null\u001b[0m\n",
      "\u001b[38;5;16;48;5;2mafter_creation = null\u001b[0m\n",
      "\u001b[38;5;16;48;5;2mafter_pipeline_creation = null\u001b[0m\n",
      "\u001b[38;5;16;48;5;2mtokenizer = {\"@tokenizers\":\"spacy.Tokenizer.v1\"}\u001b[0m\n",
      "\u001b[38;5;16;48;5;2mvectors = {\"@vectors\":\"spacy.Vectors.v1\"}\u001b[0m\n",
      "\n",
      "[components]\n",
      "\n",
      "[components.textcat]\n",
      "factory = \"textcat\"\n",
      "\u001b[38;5;16;48;5;2mscorer = {\"@scorers\":\"spacy.textcat_scorer.v2\"}\u001b[0m\n",
      "\u001b[38;5;16;48;5;2mthreshold = 0.0\u001b[0m\n",
      "\n",
      "[components.textcat.model]\n",
      "@architectures = \"spacy.TextCatEnsemble.v2\"\n",
      "nO = null\n",
      "\n",
      "[components.textcat.model.linear_model]\n",
      "@architectures = \"spacy.TextCatBOW.v2\"\n",
      "exclusive_classes = true\n",
      "ngram_size = 1\n",
      "no_output_layer = false\n",
      "\u001b[38;5;16;48;5;2mnO = null\u001b[0m\n",
      "\n",
      "[components.textcat.model.tok2vec]\n",
      "@architectures = \"spacy-transformers.TransformerListener.v1\"\n",
      "grad_factor = 1.0\n",
      "pooling = {\"@layers\":\"reduce_mean.v1\"}\n",
      "\u001b[38;5;16;48;5;2mupstream = \"*\"\u001b[0m\n",
      "\n",
      "[components.transformer]\n",
      "factory = \"transformer\"\n",
      "\u001b[38;5;16;48;5;2mmax_batch_items = 4096\u001b[0m\n",
      "\u001b[38;5;16;48;5;2mset_extra_annotations = {\"@annotation_setters\":\"spacy-transformers.null_annotation_setter.v1\"}\u001b[0m\n",
      "\n",
      "[components.transformer.model]\n",
      "@architectures = \"spacy-transformers.TransformerModel.v3\"\n",
      "name = \"roberta-base\"\n",
      "\u001b[38;5;16;48;5;2mmixed_precision = false\u001b[0m\n",
      "\n",
      "[components.transformer.model.get_spans]\n",
      "@span_getters = \"spacy-transformers.strided_spans.v1\"\n",
      "window = 128\n",
      "stride = 96\n",
      "\n",
      "\u001b[38;5;16;48;5;2m[components.transformer.model.grad_scaler_config]\u001b[0m\n",
      "\u001b[38;5;16;48;5;2m\u001b[0m\n",
      "[components.transformer.model.tokenizer_config]\n",
      "use_fast = true\n",
      "\u001b[38;5;16;48;5;2m\u001b[0m\n",
      "\u001b[38;5;16;48;5;2m[components.transformer.model.transformer_config]\u001b[0m\n",
      "\n",
      "[corpora]\n",
      "\n",
      "[corpora.dev]\n",
      "@readers = \"spacy.Corpus.v1\"\n",
      "path = ${paths.dev}\n",
      "max_length = 0\n",
      "\u001b[38;5;16;48;5;2mgold_preproc = false\u001b[0m\n",
      "\u001b[38;5;16;48;5;2mlimit = 0\u001b[0m\n",
      "\u001b[38;5;16;48;5;2maugmenter = null\u001b[0m\n",
      "\n",
      "[corpora.train]\n",
      "@readers = \"spacy.Corpus.v1\"\n",
      "path = ${paths.train}\n",
      "max_length = 0\n",
      "\u001b[38;5;16;48;5;2mgold_preproc = false\u001b[0m\n",
      "\u001b[38;5;16;48;5;2mlimit = 0\u001b[0m\n",
      "\u001b[38;5;16;48;5;2maugmenter = null\u001b[0m\n",
      "\n",
      "[training]\n",
      "accumulate_gradient = 3\n",
      "dev_corpus = \"corpora.dev\"\n",
      "train_corpus = \"corpora.train\"\n",
      "\u001b[38;5;16;48;5;2mseed = ${system.seed}\u001b[0m\n",
      "\u001b[38;5;16;48;5;2mgpu_allocator = ${system.gpu_allocator}\u001b[0m\n",
      "\u001b[38;5;16;48;5;2mdropout = 0.1\u001b[0m\n",
      "\u001b[38;5;16;48;5;2mpatience = 1600\u001b[0m\n",
      "\u001b[38;5;16;48;5;2mmax_epochs = 0\u001b[0m\n",
      "\u001b[38;5;16;48;5;2mmax_steps = 20000\u001b[0m\n",
      "\u001b[38;5;16;48;5;2meval_frequency = 200\u001b[0m\n",
      "\u001b[38;5;16;48;5;2mfrozen_components = []\u001b[0m\n",
      "\u001b[38;5;16;48;5;2mannotating_components = []\u001b[0m\n",
      "\u001b[38;5;16;48;5;2mbefore_to_disk = null\u001b[0m\n",
      "\u001b[38;5;16;48;5;2mbefore_update = null\u001b[0m\n",
      "\n",
      "[training.batcher]\n",
      "@batchers = \"spacy.batch_by_padded.v1\"\n",
      "discard_oversize = true\n",
      "size = 2000\n",
      "buffer = 256\n",
      "\u001b[38;5;16;48;5;2mget_length = null\u001b[0m\n",
      "\u001b[38;5;16;48;5;2m\u001b[0m\n",
      "\u001b[38;5;16;48;5;2m[training.logger]\u001b[0m\n",
      "\u001b[38;5;16;48;5;2m@loggers = \"spacy.ConsoleLogger.v1\"\u001b[0m\n",
      "\u001b[38;5;16;48;5;2mprogress_bar = false\u001b[0m\n",
      "\n",
      "[training.optimizer]\n",
      "@optimizers = \"Adam.v1\"\n",
      "\u001b[38;5;16;48;5;2mbeta1 = 0.9\u001b[0m\n",
      "\u001b[38;5;16;48;5;2mbeta2 = 0.999\u001b[0m\n",
      "\u001b[38;5;16;48;5;2mL2_is_weight_decay = true\u001b[0m\n",
      "\u001b[38;5;16;48;5;2mL2 = 0.01\u001b[0m\n",
      "\u001b[38;5;16;48;5;2mgrad_clip = 1.0\u001b[0m\n",
      "\u001b[38;5;16;48;5;2muse_averages = false\u001b[0m\n",
      "\u001b[38;5;16;48;5;2meps = 0.00000001\u001b[0m\n",
      "\n",
      "[training.optimizer.learn_rate]\n",
      "@schedules = \"warmup_linear.v1\"\n",
      "warmup_steps = 250\n",
      "total_steps = 20000\n",
      "initial_rate = 0.00005\n",
      "\n",
      "\u001b[38;5;16;48;5;2m[training.score_weights]\u001b[0m\n",
      "\u001b[38;5;16;48;5;2mcats_score = 1.0\u001b[0m\n",
      "\u001b[38;5;16;48;5;2mcats_score_desc = null\u001b[0m\n",
      "\u001b[38;5;16;48;5;2mcats_micro_p = null\u001b[0m\n",
      "\u001b[38;5;16;48;5;2mcats_micro_r = null\u001b[0m\n",
      "\u001b[38;5;16;48;5;2mcats_micro_f = null\u001b[0m\n",
      "\u001b[38;5;16;48;5;2mcats_macro_p = null\u001b[0m\n",
      "\u001b[38;5;16;48;5;2mcats_macro_r = null\u001b[0m\n",
      "\u001b[38;5;16;48;5;2mcats_macro_f = null\u001b[0m\n",
      "\u001b[38;5;16;48;5;2mcats_macro_auc = null\u001b[0m\n",
      "\u001b[38;5;16;48;5;2mcats_f_per_type = null\u001b[0m\n",
      "\u001b[38;5;16;48;5;2m\u001b[0m\n",
      "\u001b[38;5;16;48;5;2m[pretraining]\u001b[0m\n",
      "\u001b[38;5;16;48;5;2m\u001b[0m\n",
      "[initialize]\n",
      "vectors = ${paths.vectors}\n",
      "\u001b[38;5;16;48;5;2minit_tok2vec = ${paths.init_tok2vec}\u001b[0m\n",
      "\u001b[38;5;16;48;5;2mvocab_data = null\u001b[0m\n",
      "\u001b[38;5;16;48;5;2mlookups = null\u001b[0m\n",
      "\u001b[38;5;16;48;5;2mbefore_init = null\u001b[0m\n",
      "\u001b[38;5;16;48;5;2mafter_init = null\u001b[0m\n",
      "\u001b[38;5;16;48;5;2m\u001b[0m\n",
      "\u001b[38;5;16;48;5;2m[initialize.components]\u001b[0m\n",
      "\u001b[38;5;16;48;5;2m\u001b[0m\n",
      "\u001b[38;5;16;48;5;2m[initialize.tokenizer]\u001b[0m\n",
      "\u001b[1m\n",
      "============================== END CONFIG DIFF ==============================\u001b[0m\n",
      "\n",
      "\u001b[38;5;2m✔ Saved config\u001b[0m\n",
      "configs/accuracy_gpu_config.cfg\n",
      "You can now add your data and train your pipeline:\n",
      "python -m spacy train accuracy_gpu_config.cfg --paths.train ./train.spacy --paths.dev ./dev.spacy\n"
     ]
    }
   ],
   "source": [
    "# CLI command\n",
    "!python -m spacy init fill-config ./configs/base_accuracy_gpu_config.cfg ./configs/accuracy_gpu_config.cfg --diff"
   ]
  },
  {
   "cell_type": "code",
   "execution_count": 56,
   "id": "c9229b5a-6122-4d16-959a-d1b8178bcb51",
   "metadata": {
    "execution": {
     "iopub.execute_input": "2023-12-18T13:13:12.098423Z",
     "iopub.status.busy": "2023-12-18T13:13:12.098104Z",
     "iopub.status.idle": "2023-12-18T13:13:12.107521Z",
     "shell.execute_reply": "2023-12-18T13:13:12.106785Z",
     "shell.execute_reply.started": "2023-12-18T13:13:12.098397Z"
    },
    "scrolled": true,
    "tags": []
   },
   "outputs": [
    {
     "data": {
      "text/plain": [
       "{'paths': {'train': 'null',\n",
       "  'dev': 'null',\n",
       "  'vectors': 'null',\n",
       "  'init_tok2vec': 'null'},\n",
       " 'system': {'gpu_allocator': '\"pytorch\"', 'seed': '0'},\n",
       " 'nlp': {'lang': '\"en\"',\n",
       "  'pipeline': '[\"transformer\",\"textcat\"]',\n",
       "  'batch_size': '128',\n",
       "  'disabled': '[]',\n",
       "  'before_creation': 'null',\n",
       "  'after_creation': 'null',\n",
       "  'after_pipeline_creation': 'null',\n",
       "  'tokenizer': '{\"@tokenizers\":\"spacy.Tokenizer.v1\"}',\n",
       "  'vectors': '{\"@vectors\":\"spacy.Vectors.v1\"}'},\n",
       " 'components': {},\n",
       " 'components.textcat': {'factory': '\"textcat\"',\n",
       "  'scorer': '{\"@scorers\":\"spacy.textcat_scorer.v2\"}',\n",
       "  'threshold': '0.0'},\n",
       " 'components.textcat.model': {'@architectures': '\"spacy.TextCatEnsemble.v2\"',\n",
       "  'no': 'null'},\n",
       " 'components.textcat.model.linear_model': {'@architectures': '\"spacy.TextCatBOW.v2\"',\n",
       "  'exclusive_classes': 'true',\n",
       "  'ngram_size': '1',\n",
       "  'no_output_layer': 'false',\n",
       "  'no': 'null'},\n",
       " 'components.textcat.model.tok2vec': {'@architectures': '\"spacy-transformers.TransformerListener.v1\"',\n",
       "  'grad_factor': '1.0',\n",
       "  'pooling': '{\"@layers\":\"reduce_mean.v1\"}',\n",
       "  'upstream': '\"*\"'},\n",
       " 'components.transformer': {'factory': '\"transformer\"',\n",
       "  'max_batch_items': '4096',\n",
       "  'set_extra_annotations': '{\"@annotation_setters\":\"spacy-transformers.null_annotation_setter.v1\"}'},\n",
       " 'components.transformer.model': {'@architectures': '\"spacy-transformers.TransformerModel.v3\"',\n",
       "  'name': '\"roberta-base\"',\n",
       "  'mixed_precision': 'false'},\n",
       " 'components.transformer.model.get_spans': {'@span_getters': '\"spacy-transformers.strided_spans.v1\"',\n",
       "  'window': '128',\n",
       "  'stride': '96'},\n",
       " 'components.transformer.model.grad_scaler_config': {},\n",
       " 'components.transformer.model.tokenizer_config': {'use_fast': 'true'},\n",
       " 'components.transformer.model.transformer_config': {},\n",
       " 'corpora': {},\n",
       " 'corpora.dev': {'@readers': '\"spacy.Corpus.v1\"',\n",
       "  'path': '${paths.dev}',\n",
       "  'max_length': '0',\n",
       "  'gold_preproc': 'false',\n",
       "  'limit': '0',\n",
       "  'augmenter': 'null'},\n",
       " 'corpora.train': {'@readers': '\"spacy.Corpus.v1\"',\n",
       "  'path': '${paths.train}',\n",
       "  'max_length': '0',\n",
       "  'gold_preproc': 'false',\n",
       "  'limit': '0',\n",
       "  'augmenter': 'null'},\n",
       " 'training': {'accumulate_gradient': '3',\n",
       "  'dev_corpus': '\"corpora.dev\"',\n",
       "  'train_corpus': '\"corpora.train\"',\n",
       "  'seed': '${system.seed}',\n",
       "  'gpu_allocator': '${system.gpu_allocator}',\n",
       "  'dropout': '0.1',\n",
       "  'patience': '1600',\n",
       "  'max_epochs': '0',\n",
       "  'max_steps': '20000',\n",
       "  'eval_frequency': '200',\n",
       "  'frozen_components': '[]',\n",
       "  'annotating_components': '[]',\n",
       "  'before_to_disk': 'null',\n",
       "  'before_update': 'null'},\n",
       " 'training.batcher': {'@batchers': '\"spacy.batch_by_padded.v1\"',\n",
       "  'discard_oversize': 'true',\n",
       "  'size': '2000',\n",
       "  'buffer': '256',\n",
       "  'get_length': 'null'},\n",
       " 'training.logger': {'@loggers': '\"spacy.ConsoleLogger.v1\"',\n",
       "  'progress_bar': 'false'},\n",
       " 'training.optimizer': {'@optimizers': '\"Adam.v1\"',\n",
       "  'beta1': '0.9',\n",
       "  'beta2': '0.999',\n",
       "  'l2_is_weight_decay': 'true',\n",
       "  'l2': '0.01',\n",
       "  'grad_clip': '1.0',\n",
       "  'use_averages': 'false',\n",
       "  'eps': '0.00000001'},\n",
       " 'training.optimizer.learn_rate': {'@schedules': '\"warmup_linear.v1\"',\n",
       "  'warmup_steps': '250',\n",
       "  'total_steps': '20000',\n",
       "  'initial_rate': '0.00005'},\n",
       " 'training.score_weights': {'cats_score': '1.0',\n",
       "  'cats_score_desc': 'null',\n",
       "  'cats_micro_p': 'null',\n",
       "  'cats_micro_r': 'null',\n",
       "  'cats_micro_f': 'null',\n",
       "  'cats_macro_p': 'null',\n",
       "  'cats_macro_r': 'null',\n",
       "  'cats_macro_f': 'null',\n",
       "  'cats_macro_auc': 'null',\n",
       "  'cats_f_per_type': 'null'},\n",
       " 'pretraining': {},\n",
       " 'initialize': {'vectors': '${paths.vectors}',\n",
       "  'init_tok2vec': '${paths.init_tok2vec}',\n",
       "  'vocab_data': 'null',\n",
       "  'lookups': 'null',\n",
       "  'before_init': 'null',\n",
       "  'after_init': 'null'},\n",
       " 'initialize.components': {},\n",
       " 'initialize.tokenizer': {}}"
      ]
     },
     "execution_count": 56,
     "metadata": {},
     "output_type": "execute_result"
    }
   ],
   "source": [
    "# view the configuration file\n",
    "file_path = './configs/accuracy_gpu_config.cfg'\n",
    "textcat_config = read_spacy_config(file_path)\n",
    "textcat_config"
   ]
  },
  {
   "cell_type": "code",
   "execution_count": 57,
   "id": "3447036f-49e6-4066-8f60-ef29dbe0b85d",
   "metadata": {
    "execution": {
     "iopub.execute_input": "2023-12-18T13:13:12.108865Z",
     "iopub.status.busy": "2023-12-18T13:13:12.108495Z",
     "iopub.status.idle": "2023-12-18T13:42:00.740819Z",
     "shell.execute_reply": "2023-12-18T13:42:00.739824Z",
     "shell.execute_reply.started": "2023-12-18T13:13:12.108831Z"
    },
    "tags": []
   },
   "outputs": [
    {
     "name": "stdout",
     "output_type": "stream",
     "text": [
      "huggingface/tokenizers: The current process just got forked, after parallelism has already been used. Disabling parallelism to avoid deadlocks...\n",
      "To disable this warning, you can either:\n",
      "\t- Avoid using `tokenizers` before the fork if possible\n",
      "\t- Explicitly set the environment variable TOKENIZERS_PARALLELISM=(true | false)\n",
      "\u001b[38;5;4mℹ Saving to output directory: outputs\u001b[0m\n",
      "\u001b[38;5;4mℹ Using GPU: 0\u001b[0m\n",
      "\u001b[1m\n",
      "=========================== Initializing pipeline ===========================\u001b[0m\n",
      "Some weights of RobertaModel were not initialized from the model checkpoint at roberta-base and are newly initialized: ['roberta.pooler.dense.weight', 'roberta.pooler.dense.bias']\n",
      "You should probably TRAIN this model on a down-stream task to be able to use it for predictions and inference.\n",
      "\u001b[38;5;2m✔ Initialized pipeline\u001b[0m\n",
      "\u001b[1m\n",
      "============================= Training pipeline =============================\u001b[0m\n",
      "\u001b[38;5;4mℹ Pipeline: ['transformer', 'textcat']\u001b[0m\n",
      "\u001b[38;5;4mℹ Initial learn rate: 0.0\u001b[0m\n",
      "E    #       LOSS TRANS...  LOSS TEXTCAT  CATS_SCORE  SCORE \n",
      "---  ------  -------------  ------------  ----------  ------\n",
      "  0       0           0.00          0.16        7.58    0.08\n",
      "  0     200           0.28         60.47       93.43    0.93\n",
      "  1     400           3.43         23.60       95.82    0.96\n",
      "  2     600          17.64         23.54       82.97    0.83\n",
      "  2     800           9.40         14.64       91.09    0.91\n",
      "  3    1000           9.56         13.11       96.85    0.97\n",
      "  4    1200          11.01          8.63       92.30    0.92\n",
      "  4    1400           7.01         14.51       95.90    0.96\n",
      "  5    1600           6.44         10.68       96.12    0.96\n",
      "  6    1800           3.37          7.25       91.66    0.92\n",
      "  6    2000           7.62         13.13       94.05    0.94\n",
      "  7    2200           8.55          8.24       92.53    0.93\n",
      "  8    2400          10.12          6.94       91.71    0.92\n",
      "  8    2600           7.80         10.69       92.74    0.93\n",
      "\u001b[38;5;2m✔ Saved pipeline to output directory\u001b[0m\n",
      "outputs/model-last\n",
      "Done in 28.810m.\n"
     ]
    }
   ],
   "source": [
    "# train the model: https://spacy.io/usage/training#quickstart\n",
    "# override various config sections using the syntax: --section.option\n",
    "t0 = time()\n",
    "!python -m spacy train ./configs/accuracy_gpu_config.cfg --output ./outputs --paths.train ./corpora/train.spacy --paths.dev ./corpora/dev.spacy --gpu-id 0\n",
    "print(\"Done in %0.3fm.\" % ((time() - t0)/60))"
   ]
  },
  {
   "cell_type": "code",
   "execution_count": 58,
   "id": "43af8240-3a80-4974-925a-1c5851b6a677",
   "metadata": {
    "execution": {
     "iopub.execute_input": "2023-12-18T13:42:00.744100Z",
     "iopub.status.busy": "2023-12-18T13:42:00.743364Z",
     "iopub.status.idle": "2023-12-18T13:43:04.597523Z",
     "shell.execute_reply": "2023-12-18T13:43:04.596654Z",
     "shell.execute_reply.started": "2023-12-18T13:42:00.744058Z"
    },
    "tags": []
   },
   "outputs": [
    {
     "name": "stdout",
     "output_type": "stream",
     "text": [
      "huggingface/tokenizers: The current process just got forked, after parallelism has already been used. Disabling parallelism to avoid deadlocks...\n",
      "To disable this warning, you can either:\n",
      "\t- Avoid using `tokenizers` before the fork if possible\n",
      "\t- Explicitly set the environment variable TOKENIZERS_PARALLELISM=(true | false)\n",
      "\u001b[38;5;4mℹ Using GPU: 0\u001b[0m\n",
      "\u001b[1m\n",
      "================================== Results ==================================\u001b[0m\n",
      "\n",
      "TOK                 100.00\n",
      "TEXTCAT (macro F)   96.98 \n",
      "SPEED               10387 \n",
      "\n",
      "\u001b[1m\n",
      "=========================== Textcat F (per label) ===========================\u001b[0m\n",
      "\n",
      "                    P       R       F\n",
      "sport           98.91   98.91   98.91\n",
      "business        96.28   96.28   96.28\n",
      "tech            96.59   97.54   97.06\n",
      "politics        94.12   95.41   94.76\n",
      "entertainment   99.05   96.74   97.88\n",
      "\n",
      "\u001b[1m\n",
      "======================== Textcat ROC AUC (per label) ========================\u001b[0m\n",
      "\n",
      "                ROC AUC\n",
      "sport              1.00\n",
      "business           1.00\n",
      "tech               1.00\n",
      "politics           0.99\n",
      "entertainment      0.99\n",
      "\n"
     ]
    }
   ],
   "source": [
    "# evaluate model performance\n",
    "!python -m spacy evaluate ./outputs/accuracy-gpu-model-best/ ./corpora/train.spacy --gpu-id 0"
   ]
  },
  {
   "cell_type": "code",
   "execution_count": 59,
   "id": "7d09764b-6999-4e1c-9c12-b306aa413d31",
   "metadata": {
    "execution": {
     "iopub.execute_input": "2023-12-18T13:43:04.599738Z",
     "iopub.status.busy": "2023-12-18T13:43:04.598914Z",
     "iopub.status.idle": "2023-12-18T13:43:28.654566Z",
     "shell.execute_reply": "2023-12-18T13:43:28.653809Z",
     "shell.execute_reply.started": "2023-12-18T13:43:04.599698Z"
    },
    "tags": []
   },
   "outputs": [
    {
     "name": "stdout",
     "output_type": "stream",
     "text": [
      "huggingface/tokenizers: The current process just got forked, after parallelism has already been used. Disabling parallelism to avoid deadlocks...\n",
      "To disable this warning, you can either:\n",
      "\t- Avoid using `tokenizers` before the fork if possible\n",
      "\t- Explicitly set the environment variable TOKENIZERS_PARALLELISM=(true | false)\n",
      "\u001b[38;5;4mℹ Using GPU: 0\u001b[0m\n",
      "\u001b[1m\n",
      "================================== Results ==================================\u001b[0m\n",
      "\n",
      "TOK                 100.00\n",
      "TEXTCAT (macro F)   96.85 \n",
      "SPEED               9047  \n",
      "\n",
      "\u001b[1m\n",
      "=========================== Textcat F (per label) ===========================\u001b[0m\n",
      "\n",
      "                    P        R       F\n",
      "sport           98.55    98.55   98.55\n",
      "business        97.01    97.01   97.01\n",
      "tech            92.73   100.00   96.23\n",
      "politics        98.04    92.59   95.24\n",
      "entertainment   98.11    96.30   97.20\n",
      "\n",
      "\u001b[1m\n",
      "======================== Textcat ROC AUC (per label) ========================\u001b[0m\n",
      "\n",
      "                ROC AUC\n",
      "sport              1.00\n",
      "business           1.00\n",
      "tech               1.00\n",
      "politics           0.97\n",
      "entertainment      0.99\n",
      "\n"
     ]
    }
   ],
   "source": [
    "!python -m spacy evaluate ./outputs/accuracy-gpu-model-best/ ./corpora/dev.spacy --gpu-id 0"
   ]
  },
  {
   "cell_type": "code",
   "execution_count": 62,
   "id": "4e6436df-4651-47c0-b361-9e23ed0582a1",
   "metadata": {
    "execution": {
     "iopub.execute_input": "2023-12-18T13:44:55.458002Z",
     "iopub.status.busy": "2023-12-18T13:44:55.457626Z",
     "iopub.status.idle": "2023-12-18T13:46:30.502188Z",
     "shell.execute_reply": "2023-12-18T13:46:30.501387Z",
     "shell.execute_reply.started": "2023-12-18T13:44:55.457975Z"
    },
    "tags": []
   },
   "outputs": [
    {
     "data": {
      "image/png": "[encoded data removed]",
      "text/plain": [
       "<Figure size 640x480 with 1 Axes>"
      ]
     },
     "metadata": {},
     "output_type": "display_data"
    }
   ],
   "source": [
    "# load the model\n",
    "nlp_accuracy_gpu = spacy.load(\"./outputs/accuracy-gpu-model-best\")\n",
    "\n",
    "train_preds = generate_predictions(train, textcat_model=nlp_accuracy_gpu)\n",
    "\n",
    "plot_confusion_matrix(train_preds.Actual, train_preds.Predicted, title='Spacy Transformer Stacked Ensemble Confusion Matrix')"
   ]
  },
  {
   "cell_type": "code",
   "execution_count": 63,
   "id": "56090cdd-94a2-413d-8089-dcb0af7c03c9",
   "metadata": {
    "execution": {
     "iopub.execute_input": "2023-12-18T13:46:30.504430Z",
     "iopub.status.busy": "2023-12-18T13:46:30.503763Z",
     "iopub.status.idle": "2023-12-18T13:47:17.007084Z",
     "shell.execute_reply": "2023-12-18T13:47:17.006419Z",
     "shell.execute_reply.started": "2023-12-18T13:46:30.504398Z"
    },
    "tags": []
   },
   "outputs": [
    {
     "name": "stdout",
     "output_type": "stream",
     "text": [
      "Training accuracy: 0.9691275167785235\n",
      "Training F1 score: 0.9691410242353468\n"
     ]
    }
   ],
   "source": [
    "accuracy = accuracy_score(train_preds.Actual, train_preds.Predicted)\n",
    "print(\"Training accuracy:\", accuracy)\n",
    "\n",
    "f1 = f1_score(train_preds.Actual, train_preds.Predicted, average='weighted')\n",
    "print(\"Training F1 score:\", f1)\n",
    "\n",
    "# make predictions\n",
    "test_preds = generate_predictions(test, label_col=None, textcat_model=nlp_accuracy_gpu)\n",
    "\n",
    "kaggle_submission = test_preds.loc[:, ['ArticleId', 'PredictedLabel']]\n",
    "kaggle_submission.columns=['ArticleId', 'Category']\n",
    "kaggle_submission.to_csv('./outputs/kaggle submission accurate gpu textcat.csv', index=False)"
   ]
  },
  {
   "cell_type": "markdown",
   "id": "cb1217ad-67aa-4513-95f1-34d1717ce472",
   "metadata": {},
   "source": [
    "Model performance was good, but only a slight improvement on the CPU-based stacked ensemble model (97% on the training data and 95% on the test data). The biggest problem areas in the training data were missclassifying political articles as business articles and business articles as tech articles. \n",
    "\n",
    "In summary, the results for both the supervised and unsupervised models are:\n",
    "| Model            | Train accuracy | Train F1 score | Test accuracy | Data Pre-Processing | Model Training                         | Over/Underfitting?                   |\n",
    "| ---------------- | -------------- | -------------- | ------------- | ------------------- | -------------------------------------- | ------------------------------------ |\n",
    "| Initial NMF      | 0.9195         | 0.9194         | 0.9278        | Intensive           | Very fast (seconds)                    | N/A but unlikely                     |\n",
    "| Tuned NMF        | 0.9362         | 0.9362         | 0.9279        | Intensive           | Very fast (seconds)                    | N/A but unlikely                     |\n",
    "| Textcat BoW      | 0.9946         | 0.9946         | 0.9769        | Simple              | Fast (minutes)                         | No. Train F1: 0.9992; Dev F1: 0.9764 |\n",
    "| Textcat Ensemble | 0.9490         | 0.9488         | 0.9361        | Simple              | Fast on a GPU (minutes); Slow on a CPU | Unknown due to resource constraints. Train F1: -; Dev F1: 0.9447 |\n",
    "| Textcat CNN      | 0.9893         | 0.9893         | 0.9442        | Simple              | Fast on a GPU (minutes)                | Perhaps? Train F1: 0.9974; Dev F1: 0.9595 |\n",
    "| Textcat transformer CNN | 0.9852  | 0.9852         | 0.9714        | Simple  | Slow on a GPU (minutes)                            | No. Train F1: 0.9876; Dev F1: 0.9731 |\n",
    "| Textcat transformer stacked ensemble | 0.9698 | 0.9685 | 0.9510    | Simple              | Slow on a GPU (minutes)                | No. Train F1: 0.9698; Dev F1: 0.9685 |\n",
    "\n",
    "In theory, supervised models perform better than unsupervised models because the algorithm is told whether a pair of observations are similar or not (assuming that the labels are accurate) and therefore only has to figure out why. Unsupervised models don't have that - they start with the data and have to figure out how similar pairs of observations are before being able to apply predictions to invidual observations (such as classifying them). This was largely true here to varying degrees as shown in the table above.\n",
    "\n",
    "What was not consistently true was whether a more sophisticated approach outperformed a simpler approach. However, the author hypothesises that this might be the case because it was a relatively simple classification task. If there was more nuance between the classes, then the Bag of Words approach might have been insufficient to achieve a good result. What was interesting in this case, was that the so-called 'efficient' architectures performed much better than the 'accurate' stacked ensemble architecture.\n",
    "\n",
    "Finally, if one of these models was going to be put into production, the stakeholders would need to weigh up the lengthier training times associated with a more sophisticated transformer against a fast bag of words that would do just fine with the current dataset."
   ]
  },
  {
   "cell_type": "markdown",
   "id": "0a97282e-cb1f-44cf-92eb-ad9db8ca3116",
   "metadata": {},
   "source": [
    "## Task 7: Data Experiments\n",
    "\n",
    "The last section of this analysis investigates whether random subsets of the data have any effect on model performance. The model chosen will be the Bag of Words, given it was very fast."
   ]
  },
  {
   "cell_type": "code",
   "execution_count": 64,
   "id": "b1a0e195-8e3f-431b-8c0e-54e26e44ba9e",
   "metadata": {
    "execution": {
     "iopub.execute_input": "2023-12-18T13:53:29.669250Z",
     "iopub.status.busy": "2023-12-18T13:53:29.668864Z",
     "iopub.status.idle": "2023-12-18T13:54:06.743282Z",
     "shell.execute_reply": "2023-12-18T13:54:06.742630Z",
     "shell.execute_reply.started": "2023-12-18T13:53:29.669224Z"
    },
    "tags": []
   },
   "outputs": [
    {
     "name": "stdout",
     "output_type": "stream",
     "text": [
      "{'sport': {'sport': 1, 'business': 0, 'tech': 0, 'politics': 0, 'entertainment': 0}, 'business': {'sport': 0, 'business': 1, 'tech': 0, 'politics': 0, 'entertainment': 0}, 'tech': {'sport': 0, 'business': 0, 'tech': 1, 'politics': 0, 'entertainment': 0}, 'politics': {'sport': 0, 'business': 0, 'tech': 0, 'politics': 1, 'entertainment': 0}, 'entertainment': {'sport': 0, 'business': 0, 'tech': 0, 'politics': 0, 'entertainment': 1}}\n",
      "{'sport': {'sport': 1, 'business': 0, 'tech': 0, 'politics': 0, 'entertainment': 0}, 'business': {'sport': 0, 'business': 1, 'tech': 0, 'politics': 0, 'entertainment': 0}, 'tech': {'sport': 0, 'business': 0, 'tech': 1, 'politics': 0, 'entertainment': 0}, 'politics': {'sport': 0, 'business': 0, 'tech': 0, 'politics': 1, 'entertainment': 0}, 'entertainment': {'sport': 0, 'business': 0, 'tech': 0, 'politics': 0, 'entertainment': 1}}\n",
      "{'sport': {'sport': 1, 'business': 0, 'tech': 0, 'politics': 0, 'entertainment': 0}, 'business': {'sport': 0, 'business': 1, 'tech': 0, 'politics': 0, 'entertainment': 0}, 'tech': {'sport': 0, 'business': 0, 'tech': 1, 'politics': 0, 'entertainment': 0}, 'politics': {'sport': 0, 'business': 0, 'tech': 0, 'politics': 1, 'entertainment': 0}, 'entertainment': {'sport': 0, 'business': 0, 'tech': 0, 'politics': 0, 'entertainment': 1}}\n",
      "{'sport': {'sport': 1, 'business': 0, 'tech': 0, 'politics': 0, 'entertainment': 0}, 'business': {'sport': 0, 'business': 1, 'tech': 0, 'politics': 0, 'entertainment': 0}, 'tech': {'sport': 0, 'business': 0, 'tech': 1, 'politics': 0, 'entertainment': 0}, 'politics': {'sport': 0, 'business': 0, 'tech': 0, 'politics': 1, 'entertainment': 0}, 'entertainment': {'sport': 0, 'business': 0, 'tech': 0, 'politics': 0, 'entertainment': 1}}\n",
      "{'sport': {'sport': 1, 'business': 0, 'tech': 0, 'politics': 0, 'entertainment': 0}, 'business': {'sport': 0, 'business': 1, 'tech': 0, 'politics': 0, 'entertainment': 0}, 'tech': {'sport': 0, 'business': 0, 'tech': 1, 'politics': 0, 'entertainment': 0}, 'politics': {'sport': 0, 'business': 0, 'tech': 0, 'politics': 1, 'entertainment': 0}, 'entertainment': {'sport': 0, 'business': 0, 'tech': 0, 'politics': 0, 'entertainment': 1}}\n",
      "{'sport': {'sport': 1, 'business': 0, 'tech': 0, 'politics': 0, 'entertainment': 0}, 'business': {'sport': 0, 'business': 1, 'tech': 0, 'politics': 0, 'entertainment': 0}, 'tech': {'sport': 0, 'business': 0, 'tech': 1, 'politics': 0, 'entertainment': 0}, 'politics': {'sport': 0, 'business': 0, 'tech': 0, 'politics': 1, 'entertainment': 0}, 'entertainment': {'sport': 0, 'business': 0, 'tech': 0, 'politics': 0, 'entertainment': 1}}\n",
      "{'sport': {'sport': 1, 'business': 0, 'tech': 0, 'politics': 0, 'entertainment': 0}, 'business': {'sport': 0, 'business': 1, 'tech': 0, 'politics': 0, 'entertainment': 0}, 'tech': {'sport': 0, 'business': 0, 'tech': 1, 'politics': 0, 'entertainment': 0}, 'politics': {'sport': 0, 'business': 0, 'tech': 0, 'politics': 1, 'entertainment': 0}, 'entertainment': {'sport': 0, 'business': 0, 'tech': 0, 'politics': 0, 'entertainment': 1}}\n",
      "{'sport': {'sport': 1, 'business': 0, 'tech': 0, 'politics': 0, 'entertainment': 0}, 'business': {'sport': 0, 'business': 1, 'tech': 0, 'politics': 0, 'entertainment': 0}, 'tech': {'sport': 0, 'business': 0, 'tech': 1, 'politics': 0, 'entertainment': 0}, 'politics': {'sport': 0, 'business': 0, 'tech': 0, 'politics': 1, 'entertainment': 0}, 'entertainment': {'sport': 0, 'business': 0, 'tech': 0, 'politics': 0, 'entertainment': 1}}\n",
      "{'sport': {'sport': 1, 'business': 0, 'tech': 0, 'politics': 0, 'entertainment': 0}, 'business': {'sport': 0, 'business': 1, 'tech': 0, 'politics': 0, 'entertainment': 0}, 'tech': {'sport': 0, 'business': 0, 'tech': 1, 'politics': 0, 'entertainment': 0}, 'politics': {'sport': 0, 'business': 0, 'tech': 0, 'politics': 1, 'entertainment': 0}, 'entertainment': {'sport': 0, 'business': 0, 'tech': 0, 'politics': 0, 'entertainment': 1}}\n",
      "{'sport': {'sport': 1, 'business': 0, 'tech': 0, 'politics': 0, 'entertainment': 0}, 'business': {'sport': 0, 'business': 1, 'tech': 0, 'politics': 0, 'entertainment': 0}, 'tech': {'sport': 0, 'business': 0, 'tech': 1, 'politics': 0, 'entertainment': 0}, 'politics': {'sport': 0, 'business': 0, 'tech': 0, 'politics': 1, 'entertainment': 0}, 'entertainment': {'sport': 0, 'business': 0, 'tech': 0, 'politics': 0, 'entertainment': 1}}\n",
      "{'sport': {'sport': 1, 'business': 0, 'tech': 0, 'politics': 0, 'entertainment': 0}, 'business': {'sport': 0, 'business': 1, 'tech': 0, 'politics': 0, 'entertainment': 0}, 'tech': {'sport': 0, 'business': 0, 'tech': 1, 'politics': 0, 'entertainment': 0}, 'politics': {'sport': 0, 'business': 0, 'tech': 0, 'politics': 1, 'entertainment': 0}, 'entertainment': {'sport': 0, 'business': 0, 'tech': 0, 'politics': 0, 'entertainment': 1}}\n",
      "{'sport': {'sport': 1, 'business': 0, 'tech': 0, 'politics': 0, 'entertainment': 0}, 'business': {'sport': 0, 'business': 1, 'tech': 0, 'politics': 0, 'entertainment': 0}, 'tech': {'sport': 0, 'business': 0, 'tech': 1, 'politics': 0, 'entertainment': 0}, 'politics': {'sport': 0, 'business': 0, 'tech': 0, 'politics': 1, 'entertainment': 0}, 'entertainment': {'sport': 0, 'business': 0, 'tech': 0, 'politics': 0, 'entertainment': 1}}\n"
     ]
    }
   ],
   "source": [
    "for ts in [0.05, 0.1, 0.15, 0.2, 0.25, 0.3]:\n",
    "    ts_str = str(ts).replace(\"0.\", \"\")\n",
    "\n",
    "    # split the data, notice the absence of the random_state parameter. This means the data subsets extracted each time\n",
    "    # the data is split will be different (and not reproducible)\n",
    "    train_data, dev_data = train_test_split(train_sub, stratify=train_sub.Category, test_size=ts)\n",
    "    train_data.reset_index(inplace=True, drop=True)\n",
    "    dev_data.reset_index(inplace=True, drop=True)\n",
    "\n",
    "    # convert the data to spacy's required training format: https://spacy.io/api/data-formats#binary-training\n",
    "    train_path = \"./corpora/train_exp_\" + ts_str + \".spacy\"\n",
    "    dev_path = \"./corpora/dev_exp_\" + ts_str + \".spacy\"\n",
    "    convert_data(train_path, df=train_data)\n",
    "    convert_data(dev_path, df=dev_data)"
   ]
  },
  {
   "cell_type": "code",
   "execution_count": 66,
   "id": "2c3d70f0-c0a9-4434-bab9-fac19f50ccf7",
   "metadata": {
    "execution": {
     "iopub.execute_input": "2023-12-18T13:55:05.187152Z",
     "iopub.status.busy": "2023-12-18T13:55:05.186628Z",
     "iopub.status.idle": "2023-12-18T13:55:55.556070Z",
     "shell.execute_reply": "2023-12-18T13:55:55.555402Z",
     "shell.execute_reply.started": "2023-12-18T13:55:05.187124Z"
    },
    "tags": []
   },
   "outputs": [
    {
     "name": "stdout",
     "output_type": "stream",
     "text": [
      "huggingface/tokenizers: The current process just got forked, after parallelism has already been used. Disabling parallelism to avoid deadlocks...\n",
      "To disable this warning, you can either:\n",
      "\t- Avoid using `tokenizers` before the fork if possible\n",
      "\t- Explicitly set the environment variable TOKENIZERS_PARALLELISM=(true | false)\n",
      "\u001b[38;5;4mℹ Saving to output directory: outputs\u001b[0m\n",
      "\u001b[38;5;4mℹ Using GPU: 0\u001b[0m\n",
      "\u001b[1m\n",
      "=========================== Initializing pipeline ===========================\u001b[0m\n",
      "\u001b[38;5;2m✔ Initialized pipeline\u001b[0m\n",
      "\u001b[1m\n",
      "============================= Training pipeline =============================\u001b[0m\n",
      "\u001b[38;5;4mℹ Pipeline: ['textcat']\u001b[0m\n",
      "\u001b[38;5;4mℹ Initial learn rate: 0.001\u001b[0m\n",
      "E    #       LOSS TEXTCAT  CATS_SCORE  SCORE \n",
      "---  ------  ------------  ----------  ------\n",
      "  0       0          0.16        7.47    0.07\n",
      "  0     200         15.44       87.10    0.87\n",
      "  0     400          5.20       91.86    0.92\n",
      "  0     600          1.95       94.76    0.95\n",
      "  0     800          2.89       97.35    0.97\n",
      "  0    1000          2.14       93.29    0.93\n",
      "  0    1200          2.64      100.00    1.00\n",
      "  0    1400          1.48       98.63    0.99\n",
      "  1    1600          0.18       98.63    0.99\n",
      "  1    1800          0.04       98.63    0.99\n",
      "  1    2000          0.80       98.63    0.99\n",
      "  1    2200          0.01      100.00    1.00\n",
      "  1    2400          0.26       98.63    0.99\n",
      "  1    2600          0.36       97.29    0.97\n",
      "  1    2800          0.40       98.63    0.99\n",
      "\u001b[38;5;2m✔ Saved pipeline to output directory\u001b[0m\n",
      "outputs/model-last\n"
     ]
    }
   ],
   "source": [
    "# train the models: https://spacy.io/usage/training#quickstart\n",
    "!python -m spacy train ./configs/efficiency_cpu_config.cfg --output ./outputs --paths.train ./corpora/train_exp_05.spacy --paths.dev ./corpora/dev_exp_05.spacy --gpu-id 0"
   ]
  },
  {
   "cell_type": "code",
   "execution_count": 67,
   "id": "f5d1ce08-2277-4c3a-8ad8-aca4c6f2deb7",
   "metadata": {
    "execution": {
     "iopub.execute_input": "2023-12-18T13:56:40.250264Z",
     "iopub.status.busy": "2023-12-18T13:56:40.249878Z",
     "iopub.status.idle": "2023-12-18T13:57:51.183161Z",
     "shell.execute_reply": "2023-12-18T13:57:51.182271Z",
     "shell.execute_reply.started": "2023-12-18T13:56:40.250235Z"
    },
    "tags": []
   },
   "outputs": [
    {
     "name": "stdout",
     "output_type": "stream",
     "text": [
      "huggingface/tokenizers: The current process just got forked, after parallelism has already been used. Disabling parallelism to avoid deadlocks...\n",
      "To disable this warning, you can either:\n",
      "\t- Avoid using `tokenizers` before the fork if possible\n",
      "\t- Explicitly set the environment variable TOKENIZERS_PARALLELISM=(true | false)\n",
      "\u001b[38;5;4mℹ Saving to output directory: outputs\u001b[0m\n",
      "\u001b[38;5;4mℹ Using GPU: 0\u001b[0m\n",
      "\u001b[1m\n",
      "=========================== Initializing pipeline ===========================\u001b[0m\n",
      "\u001b[38;5;2m✔ Initialized pipeline\u001b[0m\n",
      "\u001b[1m\n",
      "============================= Training pipeline =============================\u001b[0m\n",
      "\u001b[38;5;4mℹ Pipeline: ['textcat']\u001b[0m\n",
      "\u001b[38;5;4mℹ Initial learn rate: 0.001\u001b[0m\n",
      "E    #       LOSS TEXTCAT  CATS_SCORE  SCORE \n",
      "---  ------  ------------  ----------  ------\n",
      "  0       0          0.16        7.47    0.07\n",
      "  0     200         14.38       85.90    0.86\n",
      "  0     400          4.37       91.65    0.92\n",
      "  0     600          3.94       93.01    0.93\n",
      "  0     800          2.68       93.64    0.94\n",
      "  0    1000          2.53       93.57    0.94\n",
      "  0    1200          2.45       94.19    0.94\n",
      "  1    1400          1.58       93.47    0.93\n",
      "  1    1600          0.72       93.38    0.93\n",
      "  1    1800          0.17       92.11    0.92\n",
      "  1    2000          0.00       92.12    0.92\n",
      "  1    2200          0.55       95.04    0.95\n",
      "  1    2400          0.15       92.82    0.93\n",
      "  1    2600          0.69       93.47    0.93\n",
      "  2    2800          0.38       94.24    0.94\n",
      "  2    3000          0.33       95.01    0.95\n",
      "  2    3200          0.17       91.98    0.92\n",
      "  2    3400          0.34       95.04    0.95\n",
      "  2    3600          0.00       95.04    0.95\n",
      "  2    3800          0.00       94.26    0.94\n",
      "\u001b[38;5;2m✔ Saved pipeline to output directory\u001b[0m\n",
      "outputs/model-last\n"
     ]
    }
   ],
   "source": [
    "!python -m spacy train ./configs/efficiency_cpu_config.cfg --output ./outputs --paths.train ./corpora/train_exp_1.spacy --paths.dev ./corpora/dev_exp_1.spacy --gpu-id 0"
   ]
  },
  {
   "cell_type": "code",
   "execution_count": 68,
   "id": "d401ae3d-62f1-4f41-95b7-1b3b327fa9a4",
   "metadata": {
    "execution": {
     "iopub.execute_input": "2023-12-18T13:58:41.686595Z",
     "iopub.status.busy": "2023-12-18T13:58:41.686200Z",
     "iopub.status.idle": "2023-12-18T13:59:49.748394Z",
     "shell.execute_reply": "2023-12-18T13:59:49.747619Z",
     "shell.execute_reply.started": "2023-12-18T13:58:41.686566Z"
    },
    "tags": []
   },
   "outputs": [
    {
     "name": "stdout",
     "output_type": "stream",
     "text": [
      "huggingface/tokenizers: The current process just got forked, after parallelism has already been used. Disabling parallelism to avoid deadlocks...\n",
      "To disable this warning, you can either:\n",
      "\t- Avoid using `tokenizers` before the fork if possible\n",
      "\t- Explicitly set the environment variable TOKENIZERS_PARALLELISM=(true | false)\n",
      "\u001b[38;5;4mℹ Saving to output directory: outputs\u001b[0m\n",
      "\u001b[38;5;4mℹ Using GPU: 0\u001b[0m\n",
      "\u001b[1m\n",
      "=========================== Initializing pipeline ===========================\u001b[0m\n",
      "\u001b[38;5;2m✔ Initialized pipeline\u001b[0m\n",
      "\u001b[1m\n",
      "============================= Training pipeline =============================\u001b[0m\n",
      "\u001b[38;5;4mℹ Pipeline: ['textcat']\u001b[0m\n",
      "\u001b[38;5;4mℹ Initial learn rate: 0.001\u001b[0m\n",
      "E    #       LOSS TEXTCAT  CATS_SCORE  SCORE \n",
      "---  ------  ------------  ----------  ------\n",
      "  0       0          0.16        7.59    0.08\n",
      "  0     200         16.52       90.69    0.91\n",
      "  0     400          5.10       91.65    0.92\n",
      "  0     600          2.43       96.24    0.96\n",
      "  0     800          2.82       97.26    0.97\n",
      "  0    1000          1.95       96.72    0.97\n",
      "  0    1200          2.25       93.47    0.93\n",
      "  1    1400          0.54       98.16    0.98\n",
      "  1    1600          0.40       98.16    0.98\n",
      "  1    1800          0.24       96.76    0.97\n",
      "  1    2000          0.01       95.84    0.96\n",
      "  1    2200          0.49       97.66    0.98\n",
      "  1    2400          0.12       96.22    0.96\n",
      "  2    2600          0.04       96.22    0.96\n",
      "  2    2800          0.00       96.22    0.96\n",
      "  2    3000          0.00       96.22    0.96\n",
      "\u001b[38;5;2m✔ Saved pipeline to output directory\u001b[0m\n",
      "outputs/model-last\n"
     ]
    }
   ],
   "source": [
    "!python -m spacy train ./configs/efficiency_cpu_config.cfg --output ./outputs --paths.train ./corpora/train_exp_15.spacy --paths.dev ./corpora/dev_exp_15.spacy --gpu-id 0"
   ]
  },
  {
   "cell_type": "code",
   "execution_count": 69,
   "id": "afab6d6a-741a-44af-b975-6bd125b6879b",
   "metadata": {
    "execution": {
     "iopub.execute_input": "2023-12-18T14:01:10.419177Z",
     "iopub.status.busy": "2023-12-18T14:01:10.418750Z",
     "iopub.status.idle": "2023-12-18T14:02:24.888481Z",
     "shell.execute_reply": "2023-12-18T14:02:24.887676Z",
     "shell.execute_reply.started": "2023-12-18T14:01:10.419146Z"
    },
    "tags": []
   },
   "outputs": [
    {
     "name": "stdout",
     "output_type": "stream",
     "text": [
      "huggingface/tokenizers: The current process just got forked, after parallelism has already been used. Disabling parallelism to avoid deadlocks...\n",
      "To disable this warning, you can either:\n",
      "\t- Avoid using `tokenizers` before the fork if possible\n",
      "\t- Explicitly set the environment variable TOKENIZERS_PARALLELISM=(true | false)\n",
      "\u001b[38;5;4mℹ Saving to output directory: outputs\u001b[0m\n",
      "\u001b[38;5;4mℹ Using GPU: 0\u001b[0m\n",
      "\u001b[1m\n",
      "=========================== Initializing pipeline ===========================\u001b[0m\n",
      "\u001b[38;5;2m✔ Initialized pipeline\u001b[0m\n",
      "\u001b[1m\n",
      "============================= Training pipeline =============================\u001b[0m\n",
      "\u001b[38;5;4mℹ Pipeline: ['textcat']\u001b[0m\n",
      "\u001b[38;5;4mℹ Initial learn rate: 0.001\u001b[0m\n",
      "E    #       LOSS TEXTCAT  CATS_SCORE  SCORE \n",
      "---  ------  ------------  ----------  ------\n",
      "  0       0          0.16        7.40    0.07\n",
      "  0     200         15.96       88.10    0.88\n",
      "  0     400          4.41       93.25    0.93\n",
      "  0     600          5.04       94.24    0.94\n",
      "  0     800          1.50       96.44    0.96\n",
      "  0    1000          2.34       96.19    0.96\n",
      "  1    1200          2.56       96.24    0.96\n",
      "  1    1400          0.02       97.62    0.98\n",
      "  1    1600          0.55       95.84    0.96\n",
      "  1    1800          0.46       96.54    0.97\n",
      "  1    2000          0.41       95.86    0.96\n",
      "  1    2200          0.09       97.58    0.98\n",
      "  2    2400          0.55       96.00    0.96\n",
      "  2    2600          0.02       96.95    0.97\n",
      "  2    2800          0.00       96.59    0.97\n",
      "  2    3000          0.00       96.59    0.97\n",
      "\u001b[38;5;2m✔ Saved pipeline to output directory\u001b[0m\n",
      "outputs/model-last\n"
     ]
    }
   ],
   "source": [
    "!python -m spacy train ./configs/efficiency_cpu_config.cfg --output ./outputs --paths.train ./corpora/train_exp_2.spacy --paths.dev ./corpora/dev_exp_2.spacy --gpu-id 0"
   ]
  },
  {
   "cell_type": "code",
   "execution_count": 70,
   "id": "2a3066da-6744-4e3c-aee0-96ec0c071694",
   "metadata": {
    "execution": {
     "iopub.execute_input": "2023-12-18T14:02:47.376094Z",
     "iopub.status.busy": "2023-12-18T14:02:47.375686Z",
     "iopub.status.idle": "2023-12-18T14:04:31.690630Z",
     "shell.execute_reply": "2023-12-18T14:04:31.689834Z",
     "shell.execute_reply.started": "2023-12-18T14:02:47.376066Z"
    },
    "tags": []
   },
   "outputs": [
    {
     "name": "stdout",
     "output_type": "stream",
     "text": [
      "huggingface/tokenizers: The current process just got forked, after parallelism has already been used. Disabling parallelism to avoid deadlocks...\n",
      "To disable this warning, you can either:\n",
      "\t- Avoid using `tokenizers` before the fork if possible\n",
      "\t- Explicitly set the environment variable TOKENIZERS_PARALLELISM=(true | false)\n",
      "\u001b[38;5;4mℹ Saving to output directory: outputs\u001b[0m\n",
      "\u001b[38;5;4mℹ Using GPU: 0\u001b[0m\n",
      "\u001b[1m\n",
      "=========================== Initializing pipeline ===========================\u001b[0m\n",
      "\u001b[38;5;2m✔ Initialized pipeline\u001b[0m\n",
      "\u001b[1m\n",
      "============================= Training pipeline =============================\u001b[0m\n",
      "\u001b[38;5;4mℹ Pipeline: ['textcat']\u001b[0m\n",
      "\u001b[38;5;4mℹ Initial learn rate: 0.001\u001b[0m\n",
      "E    #       LOSS TEXTCAT  CATS_SCORE  SCORE \n",
      "---  ------  ------------  ----------  ------\n",
      "  0       0          0.16        7.56    0.08\n",
      "  0     200         14.33       90.76    0.91\n",
      "  0     400          3.37       90.98    0.91\n",
      "  0     600          4.22       95.43    0.95\n",
      "  0     800          2.56       96.71    0.97\n",
      "  0    1000          2.50       95.81    0.96\n",
      "  1    1200          1.54       96.72    0.97\n",
      "  1    1400          0.53       95.88    0.96\n",
      "  1    1600          0.39       96.68    0.97\n",
      "  1    1800          0.39       95.75    0.96\n",
      "  1    2000          0.81       96.76    0.97\n",
      "  1    2200          0.01       96.98    0.97\n",
      "  2    2400          0.00       97.01    0.97\n",
      "  2    2600          0.00       96.76    0.97\n",
      "  2    2800          0.40       96.14    0.96\n",
      "  2    3000          0.00       96.19    0.96\n",
      "  2    3200          0.00       96.46    0.96\n",
      "  3    3400          0.40       96.46    0.96\n",
      "  3    3600          0.00       96.46    0.96\n",
      "  3    3800          0.00       96.46    0.96\n",
      "  3    4000          0.00       96.46    0.96\n",
      "\u001b[38;5;2m✔ Saved pipeline to output directory\u001b[0m\n",
      "outputs/model-last\n"
     ]
    }
   ],
   "source": [
    "!python -m spacy train ./configs/efficiency_cpu_config.cfg --output ./outputs --paths.train ./corpora/train_exp_25.spacy --paths.dev ./corpora/dev_exp_25.spacy --gpu-id 0"
   ]
  },
  {
   "cell_type": "code",
   "execution_count": 72,
   "id": "197e9488-47ca-4668-92ff-bc301d90b847",
   "metadata": {
    "execution": {
     "iopub.execute_input": "2023-12-18T14:05:33.920476Z",
     "iopub.status.busy": "2023-12-18T14:05:33.920151Z",
     "iopub.status.idle": "2023-12-18T14:07:13.919075Z",
     "shell.execute_reply": "2023-12-18T14:07:13.918281Z",
     "shell.execute_reply.started": "2023-12-18T14:05:33.920451Z"
    },
    "tags": []
   },
   "outputs": [
    {
     "name": "stdout",
     "output_type": "stream",
     "text": [
      "huggingface/tokenizers: The current process just got forked, after parallelism has already been used. Disabling parallelism to avoid deadlocks...\n",
      "To disable this warning, you can either:\n",
      "\t- Avoid using `tokenizers` before the fork if possible\n",
      "\t- Explicitly set the environment variable TOKENIZERS_PARALLELISM=(true | false)\n",
      "\u001b[38;5;4mℹ Saving to output directory: outputs\u001b[0m\n",
      "\u001b[38;5;4mℹ Using GPU: 0\u001b[0m\n",
      "\u001b[1m\n",
      "=========================== Initializing pipeline ===========================\u001b[0m\n",
      "\u001b[38;5;2m✔ Initialized pipeline\u001b[0m\n",
      "\u001b[1m\n",
      "============================= Training pipeline =============================\u001b[0m\n",
      "\u001b[38;5;4mℹ Pipeline: ['textcat']\u001b[0m\n",
      "\u001b[38;5;4mℹ Initial learn rate: 0.001\u001b[0m\n",
      "E    #       LOSS TEXTCAT  CATS_SCORE  SCORE \n",
      "---  ------  ------------  ----------  ------\n",
      "  0       0          0.16        6.25    0.06\n",
      "  0     200         16.39       92.44    0.92\n",
      "  0     400          3.45       93.03    0.93\n",
      "  0     600          4.31       95.61    0.96\n",
      "  0     800          2.77       96.53    0.97\n",
      "  0    1000          1.87       94.27    0.94\n",
      "  1    1200          0.44       95.60    0.96\n",
      "  1    1400          0.70       94.66    0.95\n",
      "  1    1600          0.43       96.57    0.97\n",
      "  1    1800          0.22       96.83    0.97\n",
      "  1    2000          0.10       92.59    0.93\n",
      "  2    2200          0.09       96.03    0.96\n",
      "  2    2400          0.39       96.29    0.96\n",
      "  2    2600          0.00       96.54    0.97\n",
      "  2    2800          0.00       96.29    0.96\n",
      "  2    3000          0.00       96.78    0.97\n",
      "  3    3200          0.00       96.78    0.97\n",
      "  3    3400          0.00       96.78    0.97\n",
      "\u001b[38;5;2m✔ Saved pipeline to output directory\u001b[0m\n",
      "outputs/model-last\n"
     ]
    }
   ],
   "source": [
    "!python -m spacy train ./configs/efficiency_cpu_config.cfg --output ./outputs --paths.train ./corpora/train_exp_3.spacy --paths.dev ./corpora/dev_exp_3.spacy --gpu-id 0"
   ]
  },
  {
   "cell_type": "code",
   "execution_count": 73,
   "id": "35f73132-56d0-479a-ab4d-ba7e5c61577a",
   "metadata": {
    "execution": {
     "iopub.execute_input": "2023-12-18T14:07:13.921208Z",
     "iopub.status.busy": "2023-12-18T14:07:13.920497Z",
     "iopub.status.idle": "2023-12-18T14:07:28.674005Z",
     "shell.execute_reply": "2023-12-18T14:07:28.673144Z",
     "shell.execute_reply.started": "2023-12-18T14:07:13.921165Z"
    },
    "tags": []
   },
   "outputs": [
    {
     "name": "stdout",
     "output_type": "stream",
     "text": [
      "huggingface/tokenizers: The current process just got forked, after parallelism has already been used. Disabling parallelism to avoid deadlocks...\n",
      "To disable this warning, you can either:\n",
      "\t- Avoid using `tokenizers` before the fork if possible\n",
      "\t- Explicitly set the environment variable TOKENIZERS_PARALLELISM=(true | false)\n",
      "\u001b[38;5;4mℹ Using GPU: 0\u001b[0m\n",
      "\u001b[1m\n",
      "================================== Results ==================================\u001b[0m\n",
      "\n",
      "TOK                 100.00\n",
      "TEXTCAT (macro F)   99.55 \n",
      "SPEED               253201\n",
      "\n",
      "\u001b[1m\n",
      "=========================== Textcat F (per label) ===========================\u001b[0m\n",
      "\n",
      "                     P        R        F\n",
      "sport           100.00   100.00   100.00\n",
      "business         99.69    99.37    99.53\n",
      "tech             98.77    99.59    99.17\n",
      "politics         99.61    99.22    99.42\n",
      "entertainment    99.61    99.61    99.61\n",
      "\n",
      "\u001b[1m\n",
      "======================== Textcat ROC AUC (per label) ========================\u001b[0m\n",
      "\n",
      "                ROC AUC\n",
      "sport              1.00\n",
      "business           1.00\n",
      "tech               1.00\n",
      "politics           1.00\n",
      "entertainment      1.00\n",
      "\n"
     ]
    }
   ],
   "source": [
    "# evaluate model performance\n",
    "!python -m spacy evaluate ./outputs/efficiency-cpu-05-model-best/ ./corpora/train_exp_05.spacy --gpu-id 0"
   ]
  },
  {
   "cell_type": "code",
   "execution_count": 74,
   "id": "baefea15-bad3-42c5-960a-5e4e338d850a",
   "metadata": {
    "execution": {
     "iopub.execute_input": "2023-12-18T14:07:28.676403Z",
     "iopub.status.busy": "2023-12-18T14:07:28.676131Z",
     "iopub.status.idle": "2023-12-18T14:07:33.521558Z",
     "shell.execute_reply": "2023-12-18T14:07:33.520775Z",
     "shell.execute_reply.started": "2023-12-18T14:07:28.676372Z"
    },
    "tags": []
   },
   "outputs": [
    {
     "name": "stdout",
     "output_type": "stream",
     "text": [
      "huggingface/tokenizers: The current process just got forked, after parallelism has already been used. Disabling parallelism to avoid deadlocks...\n",
      "To disable this warning, you can either:\n",
      "\t- Avoid using `tokenizers` before the fork if possible\n",
      "\t- Explicitly set the environment variable TOKENIZERS_PARALLELISM=(true | false)\n",
      "\u001b[38;5;4mℹ Using GPU: 0\u001b[0m\n",
      "\u001b[1m\n",
      "================================== Results ==================================\u001b[0m\n",
      "\n",
      "TOK                 100.00\n",
      "TEXTCAT (macro F)   100.00\n",
      "SPEED               156704\n",
      "\n",
      "\u001b[1m\n",
      "=========================== Textcat F (per label) ===========================\u001b[0m\n",
      "\n",
      "                     P        R        F\n",
      "sport           100.00   100.00   100.00\n",
      "business        100.00   100.00   100.00\n",
      "tech            100.00   100.00   100.00\n",
      "politics        100.00   100.00   100.00\n",
      "entertainment   100.00   100.00   100.00\n",
      "\n",
      "\u001b[1m\n",
      "======================== Textcat ROC AUC (per label) ========================\u001b[0m\n",
      "\n",
      "                ROC AUC\n",
      "sport              1.00\n",
      "business           1.00\n",
      "tech               1.00\n",
      "politics           1.00\n",
      "entertainment      1.00\n",
      "\n"
     ]
    }
   ],
   "source": [
    "!python -m spacy evaluate ./outputs/efficiency-cpu-05-model-best/ ./corpora/dev_exp_05.spacy --gpu-id 0"
   ]
  },
  {
   "cell_type": "code",
   "execution_count": 75,
   "id": "b22df2f4-074f-439a-b8d1-e335be0a292a",
   "metadata": {
    "execution": {
     "iopub.execute_input": "2023-12-18T14:07:33.523022Z",
     "iopub.status.busy": "2023-12-18T14:07:33.522715Z",
     "iopub.status.idle": "2023-12-18T14:07:47.918136Z",
     "shell.execute_reply": "2023-12-18T14:07:47.917365Z",
     "shell.execute_reply.started": "2023-12-18T14:07:33.522974Z"
    },
    "tags": []
   },
   "outputs": [
    {
     "name": "stdout",
     "output_type": "stream",
     "text": [
      "huggingface/tokenizers: The current process just got forked, after parallelism has already been used. Disabling parallelism to avoid deadlocks...\n",
      "To disable this warning, you can either:\n",
      "\t- Avoid using `tokenizers` before the fork if possible\n",
      "\t- Explicitly set the environment variable TOKENIZERS_PARALLELISM=(true | false)\n",
      "\u001b[38;5;4mℹ Using GPU: 0\u001b[0m\n",
      "\u001b[1m\n",
      "================================== Results ==================================\u001b[0m\n",
      "\n",
      "TOK                 100.00\n",
      "TEXTCAT (macro F)   99.84 \n",
      "SPEED               252958\n",
      "\n",
      "\u001b[1m\n",
      "=========================== Textcat F (per label) ===========================\u001b[0m\n",
      "\n",
      "                     P        R        F\n",
      "sport           100.00   100.00   100.00\n",
      "business        100.00    99.67    99.83\n",
      "tech            100.00    99.56    99.78\n",
      "politics         99.59   100.00    99.80\n",
      "entertainment    99.59   100.00    99.79\n",
      "\n",
      "\u001b[1m\n",
      "======================== Textcat ROC AUC (per label) ========================\u001b[0m\n",
      "\n",
      "                ROC AUC\n",
      "sport              1.00\n",
      "business           1.00\n",
      "tech               1.00\n",
      "politics           1.00\n",
      "entertainment      1.00\n",
      "\n"
     ]
    }
   ],
   "source": [
    "!python -m spacy evaluate ./outputs/efficiency-cpu-1-model-best/ ./corpora/train_exp_1.spacy --gpu-id 0"
   ]
  },
  {
   "cell_type": "code",
   "execution_count": 76,
   "id": "3eae6ef4-c399-4079-8c32-f3476ad8d339",
   "metadata": {
    "execution": {
     "iopub.execute_input": "2023-12-18T14:07:47.919803Z",
     "iopub.status.busy": "2023-12-18T14:07:47.919423Z",
     "iopub.status.idle": "2023-12-18T14:07:53.258436Z",
     "shell.execute_reply": "2023-12-18T14:07:53.257660Z",
     "shell.execute_reply.started": "2023-12-18T14:07:47.919778Z"
    },
    "tags": []
   },
   "outputs": [
    {
     "name": "stdout",
     "output_type": "stream",
     "text": [
      "huggingface/tokenizers: The current process just got forked, after parallelism has already been used. Disabling parallelism to avoid deadlocks...\n",
      "To disable this warning, you can either:\n",
      "\t- Avoid using `tokenizers` before the fork if possible\n",
      "\t- Explicitly set the environment variable TOKENIZERS_PARALLELISM=(true | false)\n",
      "\u001b[38;5;4mℹ Using GPU: 0\u001b[0m\n",
      "\u001b[1m\n",
      "================================== Results ==================================\u001b[0m\n",
      "\n",
      "TOK                 100.00\n",
      "TEXTCAT (macro F)   95.04 \n",
      "SPEED               176151\n",
      "\n",
      "\u001b[1m\n",
      "=========================== Textcat F (per label) ===========================\u001b[0m\n",
      "\n",
      "                     P        R        F\n",
      "sport           100.00   100.00   100.00\n",
      "business         91.67    97.06    94.29\n",
      "tech             96.00    96.00    96.00\n",
      "politics         92.59    92.59    92.59\n",
      "entertainment    96.00    88.89    92.31\n",
      "\n",
      "\u001b[1m\n",
      "======================== Textcat ROC AUC (per label) ========================\u001b[0m\n",
      "\n",
      "                ROC AUC\n",
      "sport              1.00\n",
      "business           0.97\n",
      "tech               0.99\n",
      "politics           1.00\n",
      "entertainment      1.00\n",
      "\n"
     ]
    }
   ],
   "source": [
    "!python -m spacy evaluate ./outputs/efficiency-cpu-1-model-best/ ./corpora/dev_exp_1.spacy --gpu-id 0"
   ]
  },
  {
   "cell_type": "code",
   "execution_count": 77,
   "id": "b078ca46-4dfe-4f59-95fe-9e382a7b69f5",
   "metadata": {
    "execution": {
     "iopub.execute_input": "2023-12-18T14:07:53.260006Z",
     "iopub.status.busy": "2023-12-18T14:07:53.259661Z",
     "iopub.status.idle": "2023-12-18T14:08:06.990820Z",
     "shell.execute_reply": "2023-12-18T14:08:06.990032Z",
     "shell.execute_reply.started": "2023-12-18T14:07:53.259980Z"
    },
    "tags": []
   },
   "outputs": [
    {
     "name": "stdout",
     "output_type": "stream",
     "text": [
      "huggingface/tokenizers: The current process just got forked, after parallelism has already been used. Disabling parallelism to avoid deadlocks...\n",
      "To disable this warning, you can either:\n",
      "\t- Avoid using `tokenizers` before the fork if possible\n",
      "\t- Explicitly set the environment variable TOKENIZERS_PARALLELISM=(true | false)\n",
      "\u001b[38;5;4mℹ Using GPU: 0\u001b[0m\n",
      "\u001b[1m\n",
      "================================== Results ==================================\u001b[0m\n",
      "\n",
      "TOK                 100.00\n",
      "TEXTCAT (macro F)   99.74 \n",
      "SPEED               246252\n",
      "\n",
      "\u001b[1m\n",
      "=========================== Textcat F (per label) ===========================\u001b[0m\n",
      "\n",
      "                     P        R        F\n",
      "sport           100.00   100.00   100.00\n",
      "business        100.00   100.00   100.00\n",
      "tech            100.00    99.54    99.77\n",
      "politics         99.57    99.57    99.57\n",
      "entertainment    99.13    99.56    99.35\n",
      "\n",
      "\u001b[1m\n",
      "======================== Textcat ROC AUC (per label) ========================\u001b[0m\n",
      "\n",
      "                ROC AUC\n",
      "sport              1.00\n",
      "business           1.00\n",
      "tech               1.00\n",
      "politics           1.00\n",
      "entertainment      1.00\n",
      "\n"
     ]
    }
   ],
   "source": [
    "!python -m spacy evaluate ./outputs/efficiency-cpu-15-model-best/ ./corpora/train_exp_15.spacy --gpu-id 0"
   ]
  },
  {
   "cell_type": "code",
   "execution_count": 78,
   "id": "5122ce2f-e4b9-47a9-bce9-25c9d7a929c2",
   "metadata": {
    "execution": {
     "iopub.execute_input": "2023-12-18T14:08:06.992344Z",
     "iopub.status.busy": "2023-12-18T14:08:06.991991Z",
     "iopub.status.idle": "2023-12-18T14:08:13.199628Z",
     "shell.execute_reply": "2023-12-18T14:08:13.198769Z",
     "shell.execute_reply.started": "2023-12-18T14:08:06.992317Z"
    },
    "tags": []
   },
   "outputs": [
    {
     "name": "stdout",
     "output_type": "stream",
     "text": [
      "huggingface/tokenizers: The current process just got forked, after parallelism has already been used. Disabling parallelism to avoid deadlocks...\n",
      "To disable this warning, you can either:\n",
      "\t- Avoid using `tokenizers` before the fork if possible\n",
      "\t- Explicitly set the environment variable TOKENIZERS_PARALLELISM=(true | false)\n",
      "\u001b[38;5;4mℹ Using GPU: 0\u001b[0m\n",
      "\u001b[1m\n",
      "================================== Results ==================================\u001b[0m\n",
      "\n",
      "TOK                 100.00\n",
      "TEXTCAT (macro F)   98.16 \n",
      "SPEED               181031\n",
      "\n",
      "\u001b[1m\n",
      "=========================== Textcat F (per label) ===========================\u001b[0m\n",
      "\n",
      "                     P        R        F\n",
      "sport           100.00   100.00   100.00\n",
      "business        100.00    94.12    96.97\n",
      "tech             97.44   100.00    98.70\n",
      "politics         95.24    97.56    96.39\n",
      "entertainment    97.56   100.00    98.77\n",
      "\n",
      "\u001b[1m\n",
      "======================== Textcat ROC AUC (per label) ========================\u001b[0m\n",
      "\n",
      "                ROC AUC\n",
      "sport              1.00\n",
      "business           0.98\n",
      "tech               1.00\n",
      "politics           1.00\n",
      "entertainment      1.00\n",
      "\n"
     ]
    }
   ],
   "source": [
    "!python -m spacy evaluate ./outputs/efficiency-cpu-15-model-best/ ./corpora/dev_exp_15.spacy --gpu-id 0"
   ]
  },
  {
   "cell_type": "code",
   "execution_count": 79,
   "id": "a1169ced-5ae0-4340-8c66-2409ca76ef80",
   "metadata": {
    "execution": {
     "iopub.execute_input": "2023-12-18T14:08:13.201229Z",
     "iopub.status.busy": "2023-12-18T14:08:13.200880Z",
     "iopub.status.idle": "2023-12-18T14:08:26.476823Z",
     "shell.execute_reply": "2023-12-18T14:08:26.476053Z",
     "shell.execute_reply.started": "2023-12-18T14:08:13.201201Z"
    },
    "tags": []
   },
   "outputs": [
    {
     "name": "stdout",
     "output_type": "stream",
     "text": [
      "huggingface/tokenizers: The current process just got forked, after parallelism has already been used. Disabling parallelism to avoid deadlocks...\n",
      "To disable this warning, you can either:\n",
      "\t- Avoid using `tokenizers` before the fork if possible\n",
      "\t- Explicitly set the environment variable TOKENIZERS_PARALLELISM=(true | false)\n",
      "\u001b[38;5;4mℹ Using GPU: 0\u001b[0m\n",
      "\u001b[1m\n",
      "================================== Results ==================================\u001b[0m\n",
      "\n",
      "TOK                 100.00\n",
      "TEXTCAT (macro F)   99.56 \n",
      "SPEED               245124\n",
      "\n",
      "\u001b[1m\n",
      "=========================== Textcat F (per label) ===========================\u001b[0m\n",
      "\n",
      "                     P        R        F\n",
      "sport           100.00   100.00   100.00\n",
      "business        100.00    98.88    99.44\n",
      "tech             99.51    99.51    99.51\n",
      "politics         99.09   100.00    99.54\n",
      "entertainment    99.07    99.53    99.30\n",
      "\n",
      "\u001b[1m\n",
      "======================== Textcat ROC AUC (per label) ========================\u001b[0m\n",
      "\n",
      "                ROC AUC\n",
      "sport              1.00\n",
      "business           1.00\n",
      "tech               1.00\n",
      "politics           1.00\n",
      "entertainment      1.00\n",
      "\n"
     ]
    }
   ],
   "source": [
    "!python -m spacy evaluate ./outputs/efficiency-cpu-2-model-best/ ./corpora/train_exp_2.spacy --gpu-id 0"
   ]
  },
  {
   "cell_type": "code",
   "execution_count": 80,
   "id": "2bd93807-eb14-44a7-8de3-4abcc014bb8a",
   "metadata": {
    "execution": {
     "iopub.execute_input": "2023-12-18T14:08:26.479459Z",
     "iopub.status.busy": "2023-12-18T14:08:26.479111Z",
     "iopub.status.idle": "2023-12-18T14:08:33.129757Z",
     "shell.execute_reply": "2023-12-18T14:08:33.128981Z",
     "shell.execute_reply.started": "2023-12-18T14:08:26.479434Z"
    },
    "tags": []
   },
   "outputs": [
    {
     "name": "stdout",
     "output_type": "stream",
     "text": [
      "huggingface/tokenizers: The current process just got forked, after parallelism has already been used. Disabling parallelism to avoid deadlocks...\n",
      "To disable this warning, you can either:\n",
      "\t- Avoid using `tokenizers` before the fork if possible\n",
      "\t- Explicitly set the environment variable TOKENIZERS_PARALLELISM=(true | false)\n",
      "\u001b[38;5;4mℹ Using GPU: 0\u001b[0m\n",
      "\u001b[1m\n",
      "================================== Results ==================================\u001b[0m\n",
      "\n",
      "TOK                 100.00\n",
      "TEXTCAT (macro F)   97.62 \n",
      "SPEED               194383\n",
      "\n",
      "\u001b[1m\n",
      "=========================== Textcat F (per label) ===========================\u001b[0m\n",
      "\n",
      "                     P       R       F\n",
      "sport           100.00   98.55   99.27\n",
      "business         95.59   97.01   96.30\n",
      "tech             98.04   98.04   98.04\n",
      "politics         94.64   98.15   96.36\n",
      "entertainment   100.00   96.30   98.11\n",
      "\n",
      "\u001b[1m\n",
      "======================== Textcat ROC AUC (per label) ========================\u001b[0m\n",
      "\n",
      "                ROC AUC\n",
      "sport              1.00\n",
      "business           1.00\n",
      "tech               1.00\n",
      "politics           1.00\n",
      "entertainment      1.00\n",
      "\n"
     ]
    }
   ],
   "source": [
    "!python -m spacy evaluate ./outputs/efficiency-cpu-2-model-best/ ./corpora/dev_exp_2.spacy --gpu-id 0"
   ]
  },
  {
   "cell_type": "code",
   "execution_count": 81,
   "id": "9a99b13d-d7eb-4472-b880-469dd3e16494",
   "metadata": {
    "execution": {
     "iopub.execute_input": "2023-12-18T14:08:33.131297Z",
     "iopub.status.busy": "2023-12-18T14:08:33.130927Z",
     "iopub.status.idle": "2023-12-18T14:08:45.944974Z",
     "shell.execute_reply": "2023-12-18T14:08:45.944204Z",
     "shell.execute_reply.started": "2023-12-18T14:08:33.131260Z"
    },
    "tags": []
   },
   "outputs": [
    {
     "name": "stdout",
     "output_type": "stream",
     "text": [
      "huggingface/tokenizers: The current process just got forked, after parallelism has already been used. Disabling parallelism to avoid deadlocks...\n",
      "To disable this warning, you can either:\n",
      "\t- Avoid using `tokenizers` before the fork if possible\n",
      "\t- Explicitly set the environment variable TOKENIZERS_PARALLELISM=(true | false)\n",
      "\u001b[38;5;4mℹ Using GPU: 0\u001b[0m\n",
      "\u001b[1m\n",
      "================================== Results ==================================\u001b[0m\n",
      "\n",
      "TOK                 100.00\n",
      "TEXTCAT (macro F)   99.91 \n",
      "SPEED               238616\n",
      "\n",
      "\u001b[1m\n",
      "=========================== Textcat F (per label) ===========================\u001b[0m\n",
      "\n",
      "                     P        R        F\n",
      "sport           100.00   100.00   100.00\n",
      "business        100.00    99.60    99.80\n",
      "tech             99.48   100.00    99.74\n",
      "politics        100.00   100.00   100.00\n",
      "entertainment   100.00   100.00   100.00\n",
      "\n",
      "\u001b[1m\n",
      "======================== Textcat ROC AUC (per label) ========================\u001b[0m\n",
      "\n",
      "                ROC AUC\n",
      "sport              1.00\n",
      "business           1.00\n",
      "tech               1.00\n",
      "politics           1.00\n",
      "entertainment      1.00\n",
      "\n"
     ]
    }
   ],
   "source": [
    "!python -m spacy evaluate ./outputs/efficiency-cpu-25-model-best/ ./corpora/train_exp_25.spacy --gpu-id 0"
   ]
  },
  {
   "cell_type": "code",
   "execution_count": 82,
   "id": "85e90cd5-0c05-4f5c-896d-9a685da7c61d",
   "metadata": {
    "execution": {
     "iopub.execute_input": "2023-12-18T14:08:45.947098Z",
     "iopub.status.busy": "2023-12-18T14:08:45.946330Z",
     "iopub.status.idle": "2023-12-18T14:08:53.280349Z",
     "shell.execute_reply": "2023-12-18T14:08:53.279552Z",
     "shell.execute_reply.started": "2023-12-18T14:08:45.947059Z"
    },
    "tags": []
   },
   "outputs": [
    {
     "name": "stdout",
     "output_type": "stream",
     "text": [
      "huggingface/tokenizers: The current process just got forked, after parallelism has already been used. Disabling parallelism to avoid deadlocks...\n",
      "To disable this warning, you can either:\n",
      "\t- Avoid using `tokenizers` before the fork if possible\n",
      "\t- Explicitly set the environment variable TOKENIZERS_PARALLELISM=(true | false)\n",
      "\u001b[38;5;4mℹ Using GPU: 0\u001b[0m\n",
      "\u001b[1m\n",
      "================================== Results ==================================\u001b[0m\n",
      "\n",
      "TOK                 100.00\n",
      "TEXTCAT (macro F)   97.01 \n",
      "SPEED               198120\n",
      "\n",
      "\u001b[1m\n",
      "=========================== Textcat F (per label) ===========================\u001b[0m\n",
      "\n",
      "                     P        R        F\n",
      "sport           100.00   100.00   100.00\n",
      "business         94.12    95.24    94.67\n",
      "tech             98.44    98.44    98.44\n",
      "politics         92.75    94.12    93.43\n",
      "entertainment   100.00    97.01    98.48\n",
      "\n",
      "\u001b[1m\n",
      "======================== Textcat ROC AUC (per label) ========================\u001b[0m\n",
      "\n",
      "                ROC AUC\n",
      "sport              1.00\n",
      "business           1.00\n",
      "tech               1.00\n",
      "politics           1.00\n",
      "entertainment      1.00\n",
      "\n"
     ]
    }
   ],
   "source": [
    "!python -m spacy evaluate ./outputs/efficiency-cpu-25-model-best/ ./corpora/dev_exp_25.spacy --gpu-id 0"
   ]
  },
  {
   "cell_type": "code",
   "execution_count": 83,
   "id": "dcdf97de-27f6-46c6-8c8c-ffc5e8510898",
   "metadata": {
    "execution": {
     "iopub.execute_input": "2023-12-18T14:08:53.308435Z",
     "iopub.status.busy": "2023-12-18T14:08:53.308084Z",
     "iopub.status.idle": "2023-12-18T14:09:05.380192Z",
     "shell.execute_reply": "2023-12-18T14:09:05.379367Z",
     "shell.execute_reply.started": "2023-12-18T14:08:53.308408Z"
    },
    "tags": []
   },
   "outputs": [
    {
     "name": "stdout",
     "output_type": "stream",
     "text": [
      "huggingface/tokenizers: The current process just got forked, after parallelism has already been used. Disabling parallelism to avoid deadlocks...\n",
      "To disable this warning, you can either:\n",
      "\t- Avoid using `tokenizers` before the fork if possible\n",
      "\t- Explicitly set the environment variable TOKENIZERS_PARALLELISM=(true | false)\n",
      "\u001b[38;5;4mℹ Using GPU: 0\u001b[0m\n",
      "\u001b[1m\n",
      "================================== Results ==================================\u001b[0m\n",
      "\n",
      "TOK                 100.00\n",
      "TEXTCAT (macro F)   99.78 \n",
      "SPEED               238463\n",
      "\n",
      "\u001b[1m\n",
      "=========================== Textcat F (per label) ===========================\u001b[0m\n",
      "\n",
      "                     P        R        F\n",
      "sport           100.00   100.00   100.00\n",
      "business        100.00   100.00   100.00\n",
      "tech             99.44    99.44    99.44\n",
      "politics        100.00   100.00   100.00\n",
      "entertainment    99.47    99.47    99.47\n",
      "\n",
      "\u001b[1m\n",
      "======================== Textcat ROC AUC (per label) ========================\u001b[0m\n",
      "\n",
      "                ROC AUC\n",
      "sport              1.00\n",
      "business           1.00\n",
      "tech               1.00\n",
      "politics           1.00\n",
      "entertainment      1.00\n",
      "\n"
     ]
    }
   ],
   "source": [
    "!python -m spacy evaluate ./outputs/efficiency-cpu-3-model-best/ ./corpora/train_exp_3.spacy --gpu-id 0"
   ]
  },
  {
   "cell_type": "code",
   "execution_count": 84,
   "id": "70829b9a-97f3-4eb8-bd99-26115f03496f",
   "metadata": {
    "execution": {
     "iopub.execute_input": "2023-12-18T14:09:05.382077Z",
     "iopub.status.busy": "2023-12-18T14:09:05.381734Z",
     "iopub.status.idle": "2023-12-18T14:09:13.434403Z",
     "shell.execute_reply": "2023-12-18T14:09:13.433546Z",
     "shell.execute_reply.started": "2023-12-18T14:09:05.382051Z"
    },
    "tags": []
   },
   "outputs": [
    {
     "name": "stdout",
     "output_type": "stream",
     "text": [
      "huggingface/tokenizers: The current process just got forked, after parallelism has already been used. Disabling parallelism to avoid deadlocks...\n",
      "To disable this warning, you can either:\n",
      "\t- Avoid using `tokenizers` before the fork if possible\n",
      "\t- Explicitly set the environment variable TOKENIZERS_PARALLELISM=(true | false)\n",
      "\u001b[38;5;4mℹ Using GPU: 0\u001b[0m\n",
      "\u001b[1m\n",
      "================================== Results ==================================\u001b[0m\n",
      "\n",
      "TOK                 100.00\n",
      "TEXTCAT (macro F)   96.83 \n",
      "SPEED               204524\n",
      "\n",
      "\u001b[1m\n",
      "=========================== Textcat F (per label) ===========================\u001b[0m\n",
      "\n",
      "                     P       R       F\n",
      "sport           100.00   99.03   99.51\n",
      "business         93.20   95.05   94.12\n",
      "tech             96.05   96.05   96.05\n",
      "politics         97.50   95.12   96.30\n",
      "entertainment    97.56   98.77   98.16\n",
      "\n",
      "\u001b[1m\n",
      "======================== Textcat ROC AUC (per label) ========================\u001b[0m\n",
      "\n",
      "                ROC AUC\n",
      "sport              1.00\n",
      "business           0.99\n",
      "tech               1.00\n",
      "politics           1.00\n",
      "entertainment      1.00\n",
      "\n"
     ]
    }
   ],
   "source": [
    "!python -m spacy evaluate ./outputs/efficiency-cpu-3-model-best/ ./corpora/dev_exp_3.spacy --gpu-id 0"
   ]
  },
  {
   "cell_type": "markdown",
   "id": "ea93a860-93ff-400a-bbfc-060303c8911e",
   "metadata": {},
   "source": [
    "The evaluation results indicated that there was no real effect on performance in the training data, but speed dropped as the size of the dev set increased. In the dev set results, there was a slight indication that performance decreased but speed increased as the size of the dev set increased."
   ]
  },
  {
   "cell_type": "code",
   "execution_count": 85,
   "id": "a80311af-6d57-4d2c-ab6c-62decaf7404c",
   "metadata": {
    "execution": {
     "iopub.execute_input": "2023-12-18T14:09:13.437216Z",
     "iopub.status.busy": "2023-12-18T14:09:13.436872Z",
     "iopub.status.idle": "2023-12-18T14:09:48.332581Z",
     "shell.execute_reply": "2023-12-18T14:09:48.331955Z",
     "shell.execute_reply.started": "2023-12-18T14:09:13.437180Z"
    },
    "tags": []
   },
   "outputs": [],
   "source": [
    "# Assess the performance of the different models on the actual train and test datasets\n",
    "cm_list = []\n",
    "acc_list = []\n",
    "f1_list = []\n",
    "for ts_str in [\"05\", \"1\", \"15\", \"2\", \"25\", \"3\"]:\n",
    "    nlp_efficiency = spacy.load(\"./outputs/efficiency-cpu-\" + ts_str + \"-model-best\")\n",
    "    # generate training data predictions\n",
    "    train_preds = generate_predictions(train, textcat_model=nlp_efficiency)\n",
    "\n",
    "    # evaluate model performance\n",
    "    cm = confusion_matrix(y_true=train_preds.Actual, y_pred=train_preds.Predicted)\n",
    "\n",
    "    accuracy = accuracy_score(train_preds.Actual, train_preds.Predicted)\n",
    "    f1 = f1_score(train_preds.Actual, train_preds.Predicted, average='weighted')\n",
    "\n",
    "    # make predictions\n",
    "    test_preds = generate_predictions(test, label_col=None, textcat_model=nlp_efficiency)\n",
    "\n",
    "    kaggle_submission = test_preds.loc[:, ['ArticleId', 'PredictedLabel']]\n",
    "    kaggle_submission.columns=['ArticleId', 'Category']\n",
    "    kaggle_submission.to_csv('./outputs/kaggle submission efficient textcat' + ts_str + '.csv', index=False)\n",
    "\n",
    "    cm_list.append(cm)\n",
    "    acc_list.append(accuracy)\n",
    "    f1_list.append(f1)"
   ]
  },
  {
   "cell_type": "code",
   "execution_count": 91,
   "id": "345e9730-2be5-4242-817d-6474f155d3e4",
   "metadata": {
    "execution": {
     "iopub.execute_input": "2023-12-18T14:17:29.721442Z",
     "iopub.status.busy": "2023-12-18T14:17:29.721058Z",
     "iopub.status.idle": "2023-12-18T14:17:29.731723Z",
     "shell.execute_reply": "2023-12-18T14:17:29.730802Z",
     "shell.execute_reply.started": "2023-12-18T14:17:29.721415Z"
    },
    "tags": []
   },
   "outputs": [
    {
     "data": {
      "text/html": [
       "<div>\n",
       "<style scoped>\n",
       "    .dataframe tbody tr th:only-of-type {\n",
       "        vertical-align: middle;\n",
       "    }\n",
       "\n",
       "    .dataframe tbody tr th {\n",
       "        vertical-align: top;\n",
       "    }\n",
       "\n",
       "    .dataframe thead th {\n",
       "        text-align: right;\n",
       "    }\n",
       "</style>\n",
       "<table border=\"1\" class=\"dataframe\">\n",
       "  <thead>\n",
       "    <tr style=\"text-align: right;\">\n",
       "      <th></th>\n",
       "      <th>Dev size</th>\n",
       "      <th>Accuracy</th>\n",
       "      <th>F1 score</th>\n",
       "      <th>Test accuracy</th>\n",
       "    </tr>\n",
       "  </thead>\n",
       "  <tbody>\n",
       "    <tr>\n",
       "      <th>0</th>\n",
       "      <td>0.05</td>\n",
       "      <td>0.995302</td>\n",
       "      <td>0.995304</td>\n",
       "      <td>0.9755</td>\n",
       "    </tr>\n",
       "    <tr>\n",
       "      <th>1</th>\n",
       "      <td>0.10</td>\n",
       "      <td>0.993289</td>\n",
       "      <td>0.993289</td>\n",
       "      <td>0.9769</td>\n",
       "    </tr>\n",
       "    <tr>\n",
       "      <th>2</th>\n",
       "      <td>0.15</td>\n",
       "      <td>0.994631</td>\n",
       "      <td>0.994637</td>\n",
       "      <td>0.9796</td>\n",
       "    </tr>\n",
       "    <tr>\n",
       "      <th>3</th>\n",
       "      <td>0.20</td>\n",
       "      <td>0.990604</td>\n",
       "      <td>0.990611</td>\n",
       "      <td>0.9701</td>\n",
       "    </tr>\n",
       "    <tr>\n",
       "      <th>4</th>\n",
       "      <td>0.25</td>\n",
       "      <td>0.991275</td>\n",
       "      <td>0.991284</td>\n",
       "      <td>0.9782</td>\n",
       "    </tr>\n",
       "    <tr>\n",
       "      <th>5</th>\n",
       "      <td>0.30</td>\n",
       "      <td>0.987919</td>\n",
       "      <td>0.987929</td>\n",
       "      <td>0.9755</td>\n",
       "    </tr>\n",
       "  </tbody>\n",
       "</table>\n",
       "</div>"
      ],
      "text/plain": [
       "   Dev size  Accuracy  F1 score  Test accuracy\n",
       "0      0.05  0.995302  0.995304         0.9755\n",
       "1      0.10  0.993289  0.993289         0.9769\n",
       "2      0.15  0.994631  0.994637         0.9796\n",
       "3      0.20  0.990604  0.990611         0.9701\n",
       "4      0.25  0.991275  0.991284         0.9782\n",
       "5      0.30  0.987919  0.987929         0.9755"
      ]
     },
     "execution_count": 91,
     "metadata": {},
     "output_type": "execute_result"
    }
   ],
   "source": [
    "performance_df = pd.DataFrame(data={'Dev size': [0.05, 0.1, 0.15, 0.2, 0.25, 0.3],\n",
    "                                    'Accuracy': acc_list,\n",
    "                                    'F1 score': f1_list,\n",
    "                                    'Test accuracy': [0.9755, 0.9769, 0.9796, 0.9701, 0.9782, 0.9755]})\n",
    "performance_df"
   ]
  },
  {
   "cell_type": "code",
   "execution_count": 90,
   "id": "04710860-b147-4ab9-8f69-2d558cff9dd3",
   "metadata": {
    "execution": {
     "iopub.execute_input": "2023-12-18T14:16:57.031861Z",
     "iopub.status.busy": "2023-12-18T14:16:57.031476Z",
     "iopub.status.idle": "2023-12-18T14:16:58.636599Z",
     "shell.execute_reply": "2023-12-18T14:16:58.635928Z",
     "shell.execute_reply.started": "2023-12-18T14:16:57.031835Z"
    },
    "tags": []
   },
   "outputs": [
    {
     "data": {
      "image/png": "[encoded data removed]",
      "text/plain": [
       "<Figure size 1500x1000 with 6 Axes>"
      ]
     },
     "metadata": {},
     "output_type": "display_data"
    }
   ],
   "source": [
    "# plot a grid of confusion matrices\n",
    "ts_str = [\"5\", \"10\", \"15\", \"20\", \"25\", \"30\"]\n",
    "fig, axs = plt.subplots(3, 2, figsize=(15, 10))\n",
    "for idx, ax in enumerate(axs.flatten()):\n",
    "    cats = ['business', 'entertainment', 'politics', 'sport', 'tech']\n",
    "    cm_df = pd.DataFrame(cm_list[idx], columns=cats, index=cats)\n",
    "\n",
    "    sns.heatmap(cm_df, annot=True, fmt=\".0f\", cbar=False, cmap=\"Greens\", ax=ax)\n",
    "    ax.set(xlabel=\"True Label\", ylabel=\"Predicted Label\", title=\"Dev size: \" + ts_str[idx] + \"%\")\n",
    "fig.suptitle('Train Data Confusion Matrices by Dev Set Size')\n",
    "plt.tight_layout()"
   ]
  },
  {
   "cell_type": "markdown",
   "id": "7feca72c-a133-4c48-8327-eb20fa9aa066",
   "metadata": {},
   "source": [
    "Again, there was no discernable trend in model performance for different dev set sizes and compositions in the training and test data."
   ]
  },
  {
   "cell_type": "code",
   "execution_count": null,
   "id": "4c7c52a3-c935-47dc-bf4b-6f9b76f8b7ef",
   "metadata": {},
   "outputs": [],
   "source": []
  }
 ],
 "metadata": {
  "kernelspec": {
   "display_name": "saturn (Python 3)",
   "language": "python",
   "name": "python3"
  },
  "language_info": {
   "codemirror_mode": {
    "name": "ipython",
    "version": 3
   },
   "file_extension": ".py",
   "mimetype": "text/x-python",
   "name": "python",
   "nbconvert_exporter": "python",
   "pygments_lexer": "ipython3",
   "version": "3.10.13"
  }
 },
 "nbformat": 4,
 "nbformat_minor": 5
}
